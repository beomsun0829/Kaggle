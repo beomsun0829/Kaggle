{
 "cells": [
  {
   "cell_type": "code",
   "execution_count": 1,
   "metadata": {},
   "outputs": [],
   "source": [
    "import numpy as np"
   ]
  },
  {
   "cell_type": "code",
   "execution_count": 3,
   "metadata": {},
   "outputs": [
    {
     "name": "stdout",
     "output_type": "stream",
     "text": [
      "[1 2 3]\n",
      "(3,)\n"
     ]
    }
   ],
   "source": [
    "arr1 = np.array([1,2,3])\n",
    "print(arr1)\n",
    "print(arr1.shape)"
   ]
  },
  {
   "cell_type": "code",
   "execution_count": 4,
   "metadata": {},
   "outputs": [
    {
     "name": "stdout",
     "output_type": "stream",
     "text": [
      "<class 'list'>\n",
      "<class 'numpy.ndarray'>\n",
      "[1.5 2.4 3.7] float64\n"
     ]
    }
   ],
   "source": [
    "list1 = [1.5, 2.4, 3.7]\n",
    "print(type(list1))\n",
    "\n",
    "array1 = np.array(list1)\n",
    "print(type(array1))\n",
    "\n",
    "print(array1, array1.dtype)\n"
   ]
  },
  {
   "cell_type": "code",
   "execution_count": 5,
   "metadata": {},
   "outputs": [
    {
     "name": "stdout",
     "output_type": "stream",
     "text": [
      "[1 2 3] int32\n",
      "[1. 2. 3.] float64\n"
     ]
    }
   ],
   "source": [
    "array_int = np.array([1, 2, 3])\n",
    "print(array_int, array_int.dtype)\n",
    "\n",
    "array_float = array_int.astype('float64')\n",
    "print(array_float, array_float.dtype)\n"
   ]
  },
  {
   "cell_type": "code",
   "execution_count": 7,
   "metadata": {},
   "outputs": [
    {
     "name": "stdout",
     "output_type": "stream",
     "text": [
      "[0 1 2 3 4 5 6 7 8 9]\n"
     ]
    }
   ],
   "source": [
    "sequence_array = np.arange(10)\n",
    "print(sequence_array)"
   ]
  },
  {
   "cell_type": "code",
   "execution_count": 11,
   "metadata": {},
   "outputs": [
    {
     "name": "stdout",
     "output_type": "stream",
     "text": [
      "[[0. 0.]\n",
      " [0. 0.]\n",
      " [0. 0.]]\n"
     ]
    }
   ],
   "source": [
    "zeros1 = np.zeros([3,2])\n",
    "print(zeros1)"
   ]
  },
  {
   "cell_type": "code",
   "execution_count": 12,
   "metadata": {},
   "outputs": [
    {
     "name": "stdout",
     "output_type": "stream",
     "text": [
      "[[ 0.41962982 -1.07373547]\n",
      " [ 1.13242697  1.02616057]\n",
      " [-0.22771087  1.73845135]]\n"
     ]
    }
   ],
   "source": [
    "rd = np.random.randn(3,2)\n",
    "print(rd)"
   ]
  },
  {
   "cell_type": "code",
   "execution_count": 17,
   "metadata": {},
   "outputs": [
    {
     "name": "stdout",
     "output_type": "stream",
     "text": [
      "array1:\n",
      " [0 1 2 3 4 5 6 7 8 9]\n",
      "array2:\n",
      " [[0 1 2 3 4]\n",
      " [5 6 7 8 9]]\n"
     ]
    }
   ],
   "source": [
    "array1 = np.arange(10)\n",
    "print(\"array1:\\n\", array1)\n",
    "\n",
    "array2 = array1.reshape(2,5)\n",
    "print(\"array2:\\n\", array2)\n"
   ]
  },
  {
   "cell_type": "code",
   "execution_count": 18,
   "metadata": {},
   "outputs": [
    {
     "name": "stdout",
     "output_type": "stream",
     "text": [
      "array3d: \n",
      " [[[0 1]\n",
      "  [2 3]]\n",
      "\n",
      " [[4 5]\n",
      "  [6 7]]]\n",
      "array2d:\n",
      " [[0]\n",
      " [1]\n",
      " [2]\n",
      " [3]\n",
      " [4]\n",
      " [5]\n",
      " [6]\n",
      " [7]]\n"
     ]
    }
   ],
   "source": [
    "array1 = np.arange(8)\n",
    "\n",
    "array3d = array1.reshape((2, 2, 2))\n",
    "print('array3d: \\n', array3d)\n",
    "\n",
    "array2d = array3d.reshape(-1, 1)\n",
    "print(\"array2d:\\n\", array2d)\n"
   ]
  },
  {
   "cell_type": "code",
   "execution_count": 23,
   "metadata": {},
   "outputs": [
    {
     "name": "stdout",
     "output_type": "stream",
     "text": [
      "array1 > 3인 불린 인덱싱 결과 값: [4 5 6 7 8 9]\n",
      "객체반환: \n",
      " [[False False False]\n",
      " [ True  True  True]\n",
      " [ True  True  True]]\n"
     ]
    }
   ],
   "source": [
    "array1 = np.arange(start=1, stop=10)\n",
    "array1 = array1.reshape(3,3)\n",
    "\n",
    "boolean = array1[array1>3]\n",
    "\n",
    "print('array1 > 3인 불린 인덱싱 결과 값:',  boolean)\n",
    "\n",
    "print('객체반환: \\n', array1>3)"
   ]
  },
  {
   "cell_type": "code",
   "execution_count": 24,
   "metadata": {},
   "outputs": [
    {
     "name": "stdout",
     "output_type": "stream",
     "text": [
      "a행렬: \n",
      " [[1 2 3]\n",
      " [4 5 6]]\n",
      "b행렬: \n",
      " [[ 7  8]\n",
      " [ 9 10]\n",
      " [11 12]]\n",
      "a와 b의 행렬내적 결과:\n",
      " [[ 58  64]\n",
      " [139 154]]\n"
     ]
    }
   ],
   "source": [
    "a = np.array([[1, 2, 3], [4, 5, 6]])\n",
    "print('a행렬: \\n', a)\n",
    "\n",
    "b = np.array([[7, 8], [9, 10], [11, 12]])\n",
    "print('b행렬: \\n', b)\n",
    "\n",
    "print('a와 b의 행렬내적 결과:\\n', np.dot(a,b))"
   ]
  },
  {
   "cell_type": "code",
   "execution_count": 25,
   "metadata": {},
   "outputs": [
    {
     "name": "stdout",
     "output_type": "stream",
     "text": [
      "a행렬:\n",
      " [[1 2]\n",
      " [3 4]]\n",
      "a의 전치행렬:\n",
      " [[1 3]\n",
      " [2 4]]\n"
     ]
    }
   ],
   "source": [
    "a = np.array([[1, 2], [3, 4]])\n",
    "print('a행렬:\\n', a)\n",
    "print('a의 전치행렬:\\n', np.transpose(a))\n"
   ]
  },
  {
   "cell_type": "code",
   "execution_count": 26,
   "metadata": {},
   "outputs": [
    {
     "name": "stdout",
     "output_type": "stream",
     "text": [
      "a행렬:\n",
      " [[11 12 13]\n",
      " [ 2  3  4]]\n",
      "45\n"
     ]
    }
   ],
   "source": [
    "a = np.array([[11, 12, 13], [2, 3, 4]])\n",
    "print('a행렬:\\n', a)\n",
    "print(a.sum())\n"
   ]
  },
  {
   "cell_type": "code",
   "execution_count": 27,
   "metadata": {},
   "outputs": [
    {
     "name": "stdout",
     "output_type": "stream",
     "text": [
      "열 방향 합계:  [36  9]\n",
      "행 방향 합계:  [13 15 17]\n"
     ]
    }
   ],
   "source": [
    "print('열 방향 합계: ', a.sum(axis=1))\n",
    "print('행 방향 합계: ', a.sum(axis=0))\n"
   ]
  },
  {
   "cell_type": "code",
   "execution_count": 28,
   "metadata": {},
   "outputs": [
    {
     "name": "stdout",
     "output_type": "stream",
     "text": [
      "7.5\n"
     ]
    }
   ],
   "source": [
    "print(a.mean())\n"
   ]
  },
  {
   "cell_type": "code",
   "execution_count": 29,
   "metadata": {},
   "outputs": [
    {
     "name": "stdout",
     "output_type": "stream",
     "text": [
      "41184\n"
     ]
    }
   ],
   "source": [
    "print(a.prod())\n"
   ]
  },
  {
   "cell_type": "code",
   "execution_count": 34,
   "metadata": {},
   "outputs": [
    {
     "name": "stdout",
     "output_type": "stream",
     "text": [
      "13\n",
      "2\n",
      "[[11 12 13]\n",
      " [ 2  3  4]]\n"
     ]
    }
   ],
   "source": [
    "print(a.max())\n",
    "print(a.min())\n",
    "print(a)"
   ]
  },
  {
   "cell_type": "code",
   "execution_count": 33,
   "metadata": {},
   "outputs": [
    {
     "name": "stdout",
     "output_type": "stream",
     "text": [
      "2\n",
      "3\n"
     ]
    }
   ],
   "source": [
    "print(a.argmax())\n",
    "print(a.argmin())\n",
    "# .argmax()와 .argmin()을 이용하여 배열에서 최댓값인 원소의 인덱스 번호와 최솟값인 원소의 인덱스 번호를 구할 수 있습니다.\n"
   ]
  },
  {
   "cell_type": "code",
   "execution_count": null,
   "metadata": {},
   "outputs": [],
   "source": []
  }
 ],
 "metadata": {
  "kernelspec": {
   "display_name": "jupyter",
   "language": "python",
   "name": "python3"
  },
  "language_info": {
   "codemirror_mode": {
    "name": "ipython",
    "version": 3
   },
   "file_extension": ".py",
   "mimetype": "text/x-python",
   "name": "python",
   "nbconvert_exporter": "python",
   "pygments_lexer": "ipython3",
   "version": "3.11.5"
  },
  "orig_nbformat": 4
 },
 "nbformat": 4,
 "nbformat_minor": 2
}
