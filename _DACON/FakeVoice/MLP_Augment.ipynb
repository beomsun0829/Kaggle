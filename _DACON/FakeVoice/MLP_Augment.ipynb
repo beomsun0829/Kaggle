{
 "cells": [
  {
   "cell_type": "markdown",
   "id": "361d73a1",
   "metadata": {
    "papermill": {
     "duration": 0.007011,
     "end_time": "2024-04-08T18:51:47.130888",
     "exception": false,
     "start_time": "2024-04-08T18:51:47.123877",
     "status": "completed"
    },
    "tags": []
   },
   "source": [
    "# Imports"
   ]
  },
  {
   "cell_type": "code",
   "execution_count": 1,
   "id": "bbadbd56",
   "metadata": {
    "papermill": {
     "duration": 12.650384,
     "end_time": "2024-04-08T18:51:59.788340",
     "exception": false,
     "start_time": "2024-04-08T18:51:47.137956",
     "status": "completed"
    },
    "tags": []
   },
   "outputs": [
    {
     "name": "stderr",
     "output_type": "stream",
     "text": [
      "d:\\Anaconda3\\Lib\\site-packages\\pkg_resources\\__init__.py:116: PkgResourcesDeprecationWarning: 0.996-ko-0.9.2-msvc is an invalid version and will not be supported in a future release\n",
      "  warnings.warn(\n",
      "d:\\Anaconda3\\Lib\\site-packages\\pkg_resources\\__init__.py:116: PkgResourcesDeprecationWarning: 0.996-ko-0.9.2-msvc is an invalid version and will not be supported in a future release\n",
      "  warnings.warn(\n"
     ]
    }
   ],
   "source": [
    "import librosa\n",
    "\n",
    "import numpy as np\n",
    "import pandas as pd\n",
    "import random\n",
    "\n",
    "import torch\n",
    "import torchmetrics\n",
    "import os\n",
    "import torch.nn.functional as F\n",
    "from torch import nn\n",
    "from torch.utils.data import Dataset, DataLoader\n",
    "from sklearn.model_selection import train_test_split\n",
    "from tqdm import tqdm\n",
    "from joblib import Parallel, delayed\n",
    "\n",
    "import tensorflow as tf"
   ]
  },
  {
   "cell_type": "code",
   "execution_count": 2,
   "id": "f64eb379-e527-46c4-8b12-ead8db628070",
   "metadata": {},
   "outputs": [],
   "source": [
    "device = torch.device('cuda') if torch.cuda.is_available() else torch.device('cpu')"
   ]
  },
  {
   "cell_type": "markdown",
   "id": "a0d2de5d",
   "metadata": {
    "papermill": {
     "duration": 0.007241,
     "end_time": "2024-04-08T18:51:59.803571",
     "exception": false,
     "start_time": "2024-04-08T18:51:59.796330",
     "status": "completed"
    },
    "tags": []
   },
   "source": [
    "### Config"
   ]
  },
  {
   "cell_type": "code",
   "execution_count": 3,
   "id": "1a32fb60",
   "metadata": {
    "papermill": {
     "duration": 0.016983,
     "end_time": "2024-04-08T18:51:59.828208",
     "exception": false,
     "start_time": "2024-04-08T18:51:59.811225",
     "status": "completed"
    },
    "tags": []
   },
   "outputs": [],
   "source": [
    "class Config:\n",
    "    SR = 32000\n",
    "    N_MFCC = 40\n",
    "    \n",
    "    # Dataset\n",
    "    ROOT_DIR = 'C:/HongBeomsun/Dataset_SSD/FakeVoice'\n",
    "    \n",
    "    # Training\n",
    "    N_CLASSES = 2\n",
    "    BATCH_SIZE = 64\n",
    "    N_EPOCHS = 70\n",
    "    LEARNING_RATE = 3e-4\n",
    "    \n",
    "    # Others\n",
    "    SEED = 42\n",
    "    \n",
    "CONFIG = Config()"
   ]
  },
  {
   "cell_type": "code",
   "execution_count": 4,
   "id": "6700bf8e-7f43-4eac-9bea-25eb1d95fb12",
   "metadata": {},
   "outputs": [],
   "source": [
    "def seed_everything(seed):\n",
    "    random.seed(seed)\n",
    "    os.environ['PYTHONHASHSEED'] = str(seed)\n",
    "    np.random.seed(seed)\n",
    "    torch.manual_seed(seed)\n",
    "    torch.cuda.manual_seed(seed)\n",
    "    torch.backends.cudnn.deterministic = True\n",
    "    torch.backends.cudnn.benchmark = True"
   ]
  },
  {
   "cell_type": "code",
   "execution_count": 5,
   "id": "311e8ed0",
   "metadata": {},
   "outputs": [],
   "source": [
    "seed_everything(CONFIG.SEED)"
   ]
  },
  {
   "cell_type": "markdown",
   "id": "72a91730",
   "metadata": {},
   "source": [
    "### Data"
   ]
  },
  {
   "cell_type": "code",
   "execution_count": 6,
   "id": "af64afde",
   "metadata": {},
   "outputs": [],
   "source": [
    "df = pd.read_csv(os.path.join(CONFIG.ROOT_DIR,'train.csv'))"
   ]
  },
  {
   "cell_type": "code",
   "execution_count": 7,
   "id": "a7481719",
   "metadata": {},
   "outputs": [
    {
     "name": "stdout",
     "output_type": "stream",
     "text": [
      "55438\n"
     ]
    },
    {
     "data": {
      "text/html": [
       "<div>\n",
       "<style scoped>\n",
       "    .dataframe tbody tr th:only-of-type {\n",
       "        vertical-align: middle;\n",
       "    }\n",
       "\n",
       "    .dataframe tbody tr th {\n",
       "        vertical-align: top;\n",
       "    }\n",
       "\n",
       "    .dataframe thead th {\n",
       "        text-align: right;\n",
       "    }\n",
       "</style>\n",
       "<table border=\"1\" class=\"dataframe\">\n",
       "  <thead>\n",
       "    <tr style=\"text-align: right;\">\n",
       "      <th></th>\n",
       "      <th>id</th>\n",
       "      <th>path</th>\n",
       "      <th>label</th>\n",
       "    </tr>\n",
       "  </thead>\n",
       "  <tbody>\n",
       "    <tr>\n",
       "      <th>0</th>\n",
       "      <td>RUNQPNJF</td>\n",
       "      <td>./train/RUNQPNJF.ogg</td>\n",
       "      <td>real</td>\n",
       "    </tr>\n",
       "    <tr>\n",
       "      <th>1</th>\n",
       "      <td>JFAWUOGJ</td>\n",
       "      <td>./train/JFAWUOGJ.ogg</td>\n",
       "      <td>fake</td>\n",
       "    </tr>\n",
       "    <tr>\n",
       "      <th>2</th>\n",
       "      <td>RDKEKEVX</td>\n",
       "      <td>./train/RDKEKEVX.ogg</td>\n",
       "      <td>real</td>\n",
       "    </tr>\n",
       "    <tr>\n",
       "      <th>3</th>\n",
       "      <td>QYHJDOFK</td>\n",
       "      <td>./train/QYHJDOFK.ogg</td>\n",
       "      <td>real</td>\n",
       "    </tr>\n",
       "    <tr>\n",
       "      <th>4</th>\n",
       "      <td>RSPQNHAO</td>\n",
       "      <td>./train/RSPQNHAO.ogg</td>\n",
       "      <td>real</td>\n",
       "    </tr>\n",
       "  </tbody>\n",
       "</table>\n",
       "</div>"
      ],
      "text/plain": [
       "         id                  path label\n",
       "0  RUNQPNJF  ./train/RUNQPNJF.ogg  real\n",
       "1  JFAWUOGJ  ./train/JFAWUOGJ.ogg  fake\n",
       "2  RDKEKEVX  ./train/RDKEKEVX.ogg  real\n",
       "3  QYHJDOFK  ./train/QYHJDOFK.ogg  real\n",
       "4  RSPQNHAO  ./train/RSPQNHAO.ogg  real"
      ]
     },
     "execution_count": 7,
     "metadata": {},
     "output_type": "execute_result"
    }
   ],
   "source": [
    "print(len(df))\n",
    "df.head()"
   ]
  },
  {
   "cell_type": "code",
   "execution_count": 8,
   "id": "1efc1d1d",
   "metadata": {},
   "outputs": [
    {
     "data": {
      "text/plain": [
       "label\n",
       "fake    27818\n",
       "real    27620\n",
       "Name: count, dtype: int64"
      ]
     },
     "execution_count": 8,
     "metadata": {},
     "output_type": "execute_result"
    }
   ],
   "source": [
    "df['label'].value_counts()"
   ]
  },
  {
   "cell_type": "markdown",
   "id": "db53f2f7",
   "metadata": {},
   "source": [
    "### Data Argumentation"
   ]
  },
  {
   "cell_type": "markdown",
   "id": "fc6ed7a4",
   "metadata": {},
   "source": [
    "### Train test split"
   ]
  },
  {
   "cell_type": "code",
   "execution_count": 9,
   "id": "d8c02a7d-dfb6-4f8b-8df1-db2abaa1cb5d",
   "metadata": {},
   "outputs": [],
   "source": [
    "train, val, _, _ = train_test_split(df, df['label'], test_size=0.2, random_state=CONFIG.SEED, stratify=df['label'])"
   ]
  },
  {
   "cell_type": "code",
   "execution_count": 10,
   "id": "3954c5f8",
   "metadata": {},
   "outputs": [
    {
     "data": {
      "text/plain": [
       "label\n",
       "fake    5564\n",
       "real    5524\n",
       "Name: count, dtype: int64"
      ]
     },
     "execution_count": 10,
     "metadata": {},
     "output_type": "execute_result"
    }
   ],
   "source": [
    "train['label'].value_counts()\n",
    "val['label'].value_counts()"
   ]
  },
  {
   "cell_type": "markdown",
   "id": "629d3d15-b971-49e2-a410-71b4cd9cbcf4",
   "metadata": {},
   "source": [
    "### Feature Extraction"
   ]
  },
  {
   "cell_type": "code",
   "execution_count": 11,
   "id": "f4a3fbc7",
   "metadata": {},
   "outputs": [],
   "source": [
    "def noise(data):\n",
    "    noise_amp = 0.01*np.random.uniform()*np.amax(data)\n",
    "    data = data + noise_amp * np.random.normal(size=data.shape[0])\n",
    "    return data\n",
    "\n",
    "def stretch(data, rate=0.8):\n",
    "    stretch_data = librosa.effects.time_stretch(data, rate=rate)\n",
    "    return stretch_data\n",
    "\n",
    "def pitch(data, sampling_rate, pitch_factor=0.7):\n",
    "    pitch_data = librosa.effects.pitch_shift(y=data, sr=sampling_rate, n_steps=pitch_factor)\n",
    "    return pitch_data"
   ]
  },
  {
   "cell_type": "code",
   "execution_count": 12,
   "id": "036c7a4f",
   "metadata": {},
   "outputs": [],
   "source": [
    "def normalize_volume(y, target_dB=-20):\n",
    "    rms = np.sqrt(np.mean(y**2))\n",
    "    loudness = 20 * np.log10(rms)\n",
    "    loudness_change_dB = target_dB - loudness\n",
    "    y_normalized = y * (10 ** (loudness_change_dB / 20))\n",
    "    return y_normalized\n",
    "\n",
    "def load_audio(file_path, sr):\n",
    "    y, sr = librosa.load(file_path, sr=sr)\n",
    "    y = normalize_volume(y)\n",
    "    return y, sr\n",
    "\n",
    "def extract_features(y, sr):\n",
    "    mfcc = np.mean(librosa.feature.mfcc(y=y, sr=sr, n_mfcc=CONFIG.N_MFCC).T, axis=0)\n",
    "    return mfcc\n",
    "\n",
    "def augment_data(y, sr):\n",
    "    augmented_data = []\n",
    "    augmented_data.append(noise(y))\n",
    "    augmented_data.append(stretch(y))\n",
    "    augmented_data.append(pitch(y, sr))\n",
    "    return augmented_data\n",
    "\n",
    "def create_void_data(data, sr):\n",
    "    void_data = np.zeros_like(data)\n",
    "    void_data = noise(void_data)\n",
    "    return void_data\n",
    "\n",
    "def create_duo_data(data1, data2, sr):\n",
    "    if len(data1) > len(data2):\n",
    "        data2 = np.pad(data2, (0, len(data1)-len(data2)), 'constant')\n",
    "    else:\n",
    "        data1 = np.pad(data1, (0, len(data2)-len(data1)), 'constant')\n",
    "        \n",
    "    duo_data = data1 + data2\n",
    "    max_val = np.max(np.abs(duo_data))\n",
    "    if max_val > 1:\n",
    "        duo_data = duo_data / max_val\n",
    "    \n",
    "    return duo_data\n",
    "\n",
    "def mix_two_random_data(df, sr):\n",
    "    idx1, idx2 = random.sample(range(len(df)), 2)\n",
    "    y1, _ = load_audio(os.path.join(CONFIG.ROOT_DIR, df.iloc[idx1]['path']), sr)\n",
    "    y2, _ = load_audio(os.path.join(CONFIG.ROOT_DIR, df.iloc[idx2]['path']), sr)\n",
    "    y_duo = create_duo_data(y1, y2, sr)\n",
    "    label_y1 = df.iloc[idx1]['label']\n",
    "    label_y2 = df.iloc[idx2]['label']\n",
    "    \n",
    "    label_vector = np.zeros(CONFIG.N_CLASSES, dtype=float)\n",
    "    label_vector[0 if label_y1 == 'fake' else 1] = 1\n",
    "    label_vector[0 if label_y2 == 'fake' else 1] = 1\n",
    "    \n",
    "    return y_duo, label_vector"
   ]
  },
  {
   "cell_type": "code",
   "execution_count": 13,
   "id": "d1bdd0ba-fe6e-4efa-b785-af0389c50b56",
   "metadata": {},
   "outputs": [],
   "source": [
    "def get_features(df, train_mode=True, augment=False):\n",
    "    features = []\n",
    "    labels = []\n",
    "    total = len(df)\n",
    "    \n",
    "    for i, (index, row) in enumerate(tqdm(df.iterrows(), total=total), 1):\n",
    "        y, sr = load_audio(os.path.join(CONFIG.ROOT_DIR, row['path']), CONFIG.SR)\n",
    "        \n",
    "        if train_mode:\n",
    "            label = row['label']\n",
    "            label_vector = np.zeros(CONFIG.N_CLASSES, dtype=float)\n",
    "            label_vector[0 if label == 'fake' else 1] = 1\n",
    "            labels.append(label_vector)\n",
    "        \n",
    "        features.append(extract_features(y, sr))\n",
    "    \n",
    "    if augment:\n",
    "        augmented_features = []\n",
    "        augmented_labels = []\n",
    "        \n",
    "        num_mixed_samples = int(total * 0.1)\n",
    "        for _ in range(num_mixed_samples):\n",
    "            try:\n",
    "                y_duo, y_duo_label = mix_two_random_data(df, CONFIG.SR)\n",
    "                augmented_features.append(extract_features(y_duo, CONFIG.SR))\n",
    "                augmented_labels.append(y_duo_label)\n",
    "            except Exception as e:\n",
    "                print(f'Error during data augmentation: {e}')\n",
    "                continue\n",
    "        \n",
    "        num_augmented_samples = int(total * 0.2)\n",
    "        original_features = list(features)\n",
    "        original_labels = list(labels)\n",
    "        for idx in range(num_augmented_samples):\n",
    "            try:\n",
    "                augmented_data = augment_data(original_features[idx], CONFIG.SR)\n",
    "                for aug_y in augmented_data:\n",
    "                    augmented_features.append(extract_features(aug_y, CONFIG.SR))\n",
    "                    augmented_labels.append(original_labels[idx])\n",
    "            except Exception as e:\n",
    "                print(f'Error during augmentation: {e}')\n",
    "                continue\n",
    "        \n",
    "        features.extend(augmented_features)\n",
    "        labels.extend(augmented_labels)\n",
    "    \n",
    "    if train_mode:\n",
    "        return np.array(features), np.array(labels)\n",
    "    return np.array(features)"
   ]
  },
  {
   "cell_type": "code",
   "execution_count": 14,
   "id": "6c94de88",
   "metadata": {},
   "outputs": [
    {
     "name": "stderr",
     "output_type": "stream",
     "text": [
      "100%|██████████| 44350/44350 [10:17<00:00, 71.83it/s]\n",
      "d:\\Anaconda3\\Lib\\site-packages\\librosa\\core\\spectrum.py:257: UserWarning: n_fft=2048 is too large for input signal of length=40\n",
      "  warnings.warn(\n",
      "d:\\Anaconda3\\Lib\\site-packages\\librosa\\core\\spectrum.py:257: UserWarning: n_fft=2048 is too large for input signal of length=50\n",
      "  warnings.warn(\n",
      "100%|██████████| 11088/11088 [01:54<00:00, 96.53it/s] \n"
     ]
    }
   ],
   "source": [
    "train_features, train_labels = get_features(train, train_mode=True, augment=True)\n",
    "val_features, val_labels = get_features(val, train_mode=True, augment=False)"
   ]
  },
  {
   "cell_type": "code",
   "execution_count": null,
   "id": "94cb0716",
   "metadata": {},
   "outputs": [],
   "source": [
    "def save_np():\n",
    "    os.makedirs(os.path.join(CONFIG.ROOT_DIR, 'npy'), exist_ok=True)\n",
    "    np.save(os.path.join(CONFIG.ROOT_DIR, 'npy/train_features_VariousFeatures_1000.npy'), train_features)\n",
    "    np.save(os.path.join(CONFIG.ROOT_DIR, 'npy/train_labels_VariousFeatures_1000.npy'), train_labels)\n",
    "    np.save(os.path.join(CONFIG.ROOT_DIR, 'npy/val_features_VariousFeatures_1000.npy'), val_features)\n",
    "    np.save(os.path.join(CONFIG.ROOT_DIR, 'npy/val_labels_VariousFeatures_1000.npy'), val_labels)"
   ]
  },
  {
   "cell_type": "code",
   "execution_count": null,
   "id": "f02323f1",
   "metadata": {},
   "outputs": [],
   "source": [
    "def load_np():\n",
    "    train_features = np.load(os.path.join(CONFIG.ROOT_DIR, 'npy/train_features_VariousFeatures_1000.npy'))\n",
    "    train_labels = np.load(os.path.join(CONFIG.ROOT_DIR, 'npy/train_labels_VariousFeatures_1000.npy'))\n",
    "    val_features = np.load(os.path.join(CONFIG.ROOT_DIR, 'npy/val_features_VariousFeatures_1000.npy'))\n",
    "    val_labels = np.load(os.path.join(CONFIG.ROOT_DIR, 'npy/val_labels_VariousFeatures_1000.npy'))\n",
    "    \n",
    "    return train_features, train_labels, val_features, val_labels"
   ]
  },
  {
   "cell_type": "code",
   "execution_count": null,
   "id": "bc3efbbf",
   "metadata": {},
   "outputs": [],
   "source": [
    "# save_np()\n",
    "# train_features, train_labels, val_features, val_labels = load_np()"
   ]
  },
  {
   "cell_type": "code",
   "execution_count": 16,
   "id": "150de3fe",
   "metadata": {},
   "outputs": [],
   "source": [
    "train_features = np.array(train_features)\n",
    "train_labels = np.array(train_labels)\n",
    "val_features = np.array(val_features)\n",
    "val_labels = np.array(val_labels)"
   ]
  },
  {
   "cell_type": "code",
   "execution_count": 17,
   "id": "25233d33",
   "metadata": {},
   "outputs": [
    {
     "name": "stdout",
     "output_type": "stream",
     "text": [
      "(75395, 40) 75395\n",
      "(11088, 40) 11088\n"
     ]
    }
   ],
   "source": [
    "print(train_features.shape, len(train_labels))\n",
    "print(val_features.shape, len(val_labels))"
   ]
  },
  {
   "cell_type": "markdown",
   "id": "8a682d49",
   "metadata": {
    "papermill": {
     "duration": 0.007331,
     "end_time": "2024-04-08T18:52:31.507909",
     "exception": false,
     "start_time": "2024-04-08T18:52:31.500578",
     "status": "completed"
    },
    "tags": []
   },
   "source": [
    "### Dataset"
   ]
  },
  {
   "cell_type": "code",
   "execution_count": 18,
   "id": "d2459913-1bf6-40b9-b07d-402699590b8f",
   "metadata": {},
   "outputs": [],
   "source": [
    "class CustomDataset(Dataset):\n",
    "    def __init__(self, mfcc, label):\n",
    "        self.mfcc = mfcc\n",
    "        self.label = label\n",
    "\n",
    "    def __len__(self):\n",
    "        return len(self.mfcc)\n",
    "\n",
    "    def __getitem__(self, index):\n",
    "        if self.label is not None:\n",
    "            return self.mfcc[index], self.label[index]\n",
    "        return self.mfcc[index]"
   ]
  },
  {
   "cell_type": "code",
   "execution_count": 19,
   "id": "6c7a462f-e4b3-44d8-8eef-16000d3124d0",
   "metadata": {},
   "outputs": [],
   "source": [
    "train_dataset = CustomDataset(train_features, train_labels)\n",
    "val_dataset = CustomDataset(val_features, val_labels)"
   ]
  },
  {
   "cell_type": "code",
   "execution_count": 20,
   "id": "dff1c7df-fbe7-4a61-9f66-c55138697eab",
   "metadata": {},
   "outputs": [],
   "source": [
    "train_loader = DataLoader(\n",
    "    train_dataset,\n",
    "    batch_size=CONFIG.BATCH_SIZE,\n",
    "    shuffle=True\n",
    ")\n",
    "val_loader = DataLoader(\n",
    "    val_dataset,\n",
    "    batch_size=CONFIG.BATCH_SIZE,\n",
    "    shuffle=False\n",
    ")"
   ]
  },
  {
   "cell_type": "markdown",
   "id": "effb3435-cdb7-4a31-b7ef-fc16237cfc4a",
   "metadata": {},
   "source": [
    "### Define Model"
   ]
  },
  {
   "cell_type": "code",
   "execution_count": 22,
   "id": "aba60869-b8a5-46c2-b185-00131161a158",
   "metadata": {},
   "outputs": [],
   "source": [
    "class MLP(nn.Module):\n",
    "    def __init__(self, input_dim=40, output_dim=CONFIG.N_CLASSES):\n",
    "        super(MLP, self).__init__()\n",
    "        self.fc1 = nn.Linear(input_dim, 128)\n",
    "        self.bn1 = nn.BatchNorm1d(128)\n",
    "        self.dropout1 = nn.Dropout(0.3)\n",
    "        \n",
    "        self.fc2 = nn.Linear(128, 128)\n",
    "        self.bn2 = nn.BatchNorm1d(128)\n",
    "        self.dropout2 = nn.Dropout(0.3)\n",
    "        \n",
    "        self.fc3 = nn.Linear(128, 64)\n",
    "        self.bn3 = nn.BatchNorm1d(64)\n",
    "        self.dropout3 = nn.Dropout(0.3)\n",
    "        \n",
    "        self.fc4 = nn.Linear(64, output_dim)\n",
    "        self.relu = nn.ReLU()\n",
    "        self.sigmoid = nn.Sigmoid()\n",
    "\n",
    "    def forward(self, x):\n",
    "        x = self.relu(self.bn1(self.fc1(x)))\n",
    "        x = self.dropout1(x)\n",
    "        x = self.relu(self.bn2(self.fc2(x)))\n",
    "        x = self.dropout2(x)\n",
    "        x = self.relu(self.bn3(self.fc3(x)))\n",
    "        x = self.dropout3(x)\n",
    "        x = self.fc4(x)\n",
    "        x = self.sigmoid(x)\n",
    "        return x"
   ]
  },
  {
   "cell_type": "markdown",
   "id": "49a8cf22",
   "metadata": {},
   "source": [
    "### MLFlow"
   ]
  },
  {
   "cell_type": "code",
   "execution_count": 28,
   "id": "0fe3b938",
   "metadata": {},
   "outputs": [],
   "source": [
    "import mlflow\n",
    "import mlflow.pytorch\n",
    "\n",
    "mlflow.set_experiment('FakeVoice')\n",
    "\n",
    "def mlflow_run_decorator(run_name=None):\n",
    "    def decorator(func):\n",
    "        def wrapper(*args, **kwargs):\n",
    "            mlflow.start_run(run_name=run_name)\n",
    "            try:\n",
    "                result = func(*args, **kwargs)\n",
    "                mlflow.set_tag(\"Status\", \"SUCCEESS\")\n",
    "            except Exception as e:\n",
    "                mlflow.log_param(\"Exception\", e)\n",
    "                mlflow.set_tag(\"Status\", \"FAIL\")\n",
    "                raise e\n",
    "            finally:\n",
    "                mlflow.end_run()\n",
    "            return result\n",
    "        return wrapper\n",
    "    return decorator"
   ]
  },
  {
   "cell_type": "markdown",
   "id": "b28c4a8c-0219-46bd-bd46-09d0327fe7eb",
   "metadata": {},
   "source": [
    "### Train & Validation"
   ]
  },
  {
   "cell_type": "code",
   "execution_count": 29,
   "id": "69b19dba",
   "metadata": {},
   "outputs": [],
   "source": [
    "from sklearn.metrics import roc_auc_score\n",
    "import torch.optim as optim\n",
    "import torch.optim.lr_scheduler as lr_scheduler"
   ]
  },
  {
   "cell_type": "code",
   "execution_count": 30,
   "id": "2a7253de-ce9a-45a8-b71f-7752e427941c",
   "metadata": {},
   "outputs": [],
   "source": [
    "@mlflow_run_decorator(run_name='MLP_Augment')\n",
    "def training(model, scheduler, optimizer, train_loader, val_loader, device):\n",
    "    mlflow.log_params(vars(CONFIG))\n",
    "    \n",
    "    model.to(device)\n",
    "    criterion = nn.BCELoss().to(device)\n",
    "    \n",
    "    best_val_score = 0\n",
    "    best_model = None\n",
    "    \n",
    "    for epoch in range(1, CONFIG.N_EPOCHS+1):\n",
    "        model.train()\n",
    "        train_loss = []\n",
    "        for features, labels in tqdm(iter(train_loader)):\n",
    "            features = features.float().to(device)\n",
    "            labels = labels.float().to(device)\n",
    "            \n",
    "            optimizer.zero_grad()\n",
    "            \n",
    "            output = model(features)\n",
    "            loss = criterion(output, labels)\n",
    "            \n",
    "            loss.backward()\n",
    "            optimizer.step()\n",
    "            \n",
    "            train_loss.append(loss.item())\n",
    "                    \n",
    "        _val_loss, _val_score = validation(model, criterion, val_loader, device)\n",
    "        _train_loss = np.mean(train_loss)\n",
    "        print(f'Epoch [{epoch}], Train Loss : [{_train_loss:.5f}] Val Loss : [{_val_loss:.5f}] Val AUC : [{_val_score:.5f}] LEARNING RATE : [{optimizer.param_groups[0][\"lr\"]:.5f}]')\n",
    "    \n",
    "        mlflow.log_metrics({'train_loss': _train_loss, 'val_loss': _val_loss, 'val_auc': _val_score}, step=epoch)\n",
    "        scheduler.step(_val_loss)\n",
    "            \n",
    "        if best_val_score < _val_score:\n",
    "            best_val_score = _val_score\n",
    "            best_model = model\n",
    "    \n",
    "    return best_model"
   ]
  },
  {
   "cell_type": "code",
   "execution_count": 31,
   "id": "1ffda5b0",
   "metadata": {},
   "outputs": [],
   "source": [
    "def multiLabel_AUC(y_true, y_scores):\n",
    "    auc_scores = []\n",
    "    for i in range(y_true.shape[1]):\n",
    "        auc = roc_auc_score(y_true[:, i], y_scores[:, i])\n",
    "        auc_scores.append(auc)\n",
    "    mean_auc_score = np.mean(auc_scores)\n",
    "    return mean_auc_score"
   ]
  },
  {
   "cell_type": "code",
   "execution_count": 32,
   "id": "2083a8be",
   "metadata": {},
   "outputs": [],
   "source": [
    "def validation(model, criterion, val_loader, device):\n",
    "    model.eval()\n",
    "    val_loss, all_labels, all_probs = [], [], []\n",
    "    \n",
    "    with torch.no_grad():\n",
    "        for features, labels in tqdm(iter(val_loader)):\n",
    "            features = features.float().to(device)\n",
    "            labels = labels.float().to(device)\n",
    "            \n",
    "            probs = model(features)\n",
    "            \n",
    "            loss = criterion(probs, labels)\n",
    "\n",
    "            val_loss.append(loss.item())\n",
    "\n",
    "            all_labels.append(labels.cpu().numpy())\n",
    "            all_probs.append(probs.cpu().numpy())\n",
    "        \n",
    "        _val_loss = np.mean(val_loss)\n",
    "\n",
    "        all_labels = np.concatenate(all_labels, axis=0)\n",
    "        all_probs = np.concatenate(all_probs, axis=0)\n",
    "        \n",
    "        # Calculate AUC score\n",
    "        auc_score = multiLabel_AUC(all_labels, all_probs)\n",
    "    \n",
    "    return _val_loss, auc_score"
   ]
  },
  {
   "cell_type": "markdown",
   "id": "4a482219-ce5e-47ce-90cc-564ceb4e46ff",
   "metadata": {},
   "source": [
    "### Run"
   ]
  },
  {
   "cell_type": "code",
   "execution_count": 33,
   "id": "e97644a0-2385-4e16-ab02-ecf787ac061c",
   "metadata": {},
   "outputs": [
    {
     "name": "stderr",
     "output_type": "stream",
     "text": [
      "100%|██████████| 1179/1179 [00:04<00:00, 246.18it/s]\n",
      "100%|██████████| 174/174 [00:00<00:00, 717.80it/s]\n"
     ]
    },
    {
     "name": "stdout",
     "output_type": "stream",
     "text": [
      "Epoch [1], Train Loss : [0.46845] Val Loss : [0.15661] Val AUC : [0.98742] LEARNING RATE : [0.00030]\n"
     ]
    },
    {
     "name": "stderr",
     "output_type": "stream",
     "text": [
      "100%|██████████| 1179/1179 [00:03<00:00, 303.48it/s]\n",
      "100%|██████████| 174/174 [00:00<00:00, 637.59it/s]\n"
     ]
    },
    {
     "name": "stdout",
     "output_type": "stream",
     "text": [
      "Epoch [2], Train Loss : [0.32698] Val Loss : [0.09368] Val AUC : [0.99671] LEARNING RATE : [0.00030]\n"
     ]
    },
    {
     "name": "stderr",
     "output_type": "stream",
     "text": [
      "100%|██████████| 1179/1179 [00:03<00:00, 298.52it/s]\n",
      "100%|██████████| 174/174 [00:00<00:00, 655.23it/s]\n"
     ]
    },
    {
     "name": "stdout",
     "output_type": "stream",
     "text": [
      "Epoch [3], Train Loss : [0.28771] Val Loss : [0.06184] Val AUC : [0.99841] LEARNING RATE : [0.00030]\n"
     ]
    },
    {
     "name": "stderr",
     "output_type": "stream",
     "text": [
      "100%|██████████| 1179/1179 [00:04<00:00, 294.40it/s]\n",
      "100%|██████████| 174/174 [00:00<00:00, 676.97it/s]\n"
     ]
    },
    {
     "name": "stdout",
     "output_type": "stream",
     "text": [
      "Epoch [4], Train Loss : [0.26030] Val Loss : [0.05236] Val AUC : [0.99893] LEARNING RATE : [0.00030]\n"
     ]
    },
    {
     "name": "stderr",
     "output_type": "stream",
     "text": [
      "100%|██████████| 1179/1179 [00:04<00:00, 285.54it/s]\n",
      "100%|██████████| 174/174 [00:00<00:00, 694.10it/s]\n"
     ]
    },
    {
     "name": "stdout",
     "output_type": "stream",
     "text": [
      "Epoch [5], Train Loss : [0.24668] Val Loss : [0.05133] Val AUC : [0.99928] LEARNING RATE : [0.00030]\n"
     ]
    },
    {
     "name": "stderr",
     "output_type": "stream",
     "text": [
      "100%|██████████| 1179/1179 [00:04<00:00, 281.47it/s]\n",
      "100%|██████████| 174/174 [00:00<00:00, 680.92it/s]\n"
     ]
    },
    {
     "name": "stdout",
     "output_type": "stream",
     "text": [
      "Epoch [6], Train Loss : [0.23054] Val Loss : [0.05261] Val AUC : [0.99938] LEARNING RATE : [0.00030]\n"
     ]
    },
    {
     "name": "stderr",
     "output_type": "stream",
     "text": [
      "100%|██████████| 1179/1179 [00:04<00:00, 286.25it/s]\n",
      "100%|██████████| 174/174 [00:00<00:00, 584.97it/s]\n"
     ]
    },
    {
     "name": "stdout",
     "output_type": "stream",
     "text": [
      "Epoch [7], Train Loss : [0.21901] Val Loss : [0.04160] Val AUC : [0.99959] LEARNING RATE : [0.00030]\n"
     ]
    },
    {
     "name": "stderr",
     "output_type": "stream",
     "text": [
      "100%|██████████| 1179/1179 [00:04<00:00, 267.25it/s]\n",
      "100%|██████████| 174/174 [00:00<00:00, 587.74it/s]\n"
     ]
    },
    {
     "name": "stdout",
     "output_type": "stream",
     "text": [
      "Epoch [8], Train Loss : [0.21041] Val Loss : [0.03653] Val AUC : [0.99957] LEARNING RATE : [0.00030]\n"
     ]
    },
    {
     "name": "stderr",
     "output_type": "stream",
     "text": [
      "100%|██████████| 1179/1179 [00:04<00:00, 288.44it/s]\n",
      "100%|██████████| 174/174 [00:00<00:00, 544.68it/s]\n"
     ]
    },
    {
     "name": "stdout",
     "output_type": "stream",
     "text": [
      "Epoch [9], Train Loss : [0.20971] Val Loss : [0.03743] Val AUC : [0.99959] LEARNING RATE : [0.00030]\n"
     ]
    },
    {
     "name": "stderr",
     "output_type": "stream",
     "text": [
      "100%|██████████| 1179/1179 [00:03<00:00, 294.89it/s]\n",
      "100%|██████████| 174/174 [00:00<00:00, 625.48it/s]\n"
     ]
    },
    {
     "name": "stdout",
     "output_type": "stream",
     "text": [
      "Epoch [10], Train Loss : [0.19702] Val Loss : [0.03282] Val AUC : [0.99969] LEARNING RATE : [0.00030]\n"
     ]
    },
    {
     "name": "stderr",
     "output_type": "stream",
     "text": [
      "100%|██████████| 1179/1179 [00:04<00:00, 280.95it/s]\n",
      "100%|██████████| 174/174 [00:00<00:00, 610.86it/s]\n"
     ]
    },
    {
     "name": "stdout",
     "output_type": "stream",
     "text": [
      "Epoch [11], Train Loss : [0.19000] Val Loss : [0.03400] Val AUC : [0.99981] LEARNING RATE : [0.00030]\n"
     ]
    },
    {
     "name": "stderr",
     "output_type": "stream",
     "text": [
      "100%|██████████| 1179/1179 [00:04<00:00, 286.41it/s]\n",
      "100%|██████████| 174/174 [00:00<00:00, 634.74it/s]\n"
     ]
    },
    {
     "name": "stdout",
     "output_type": "stream",
     "text": [
      "Epoch [12], Train Loss : [0.18692] Val Loss : [0.03011] Val AUC : [0.99981] LEARNING RATE : [0.00030]\n"
     ]
    },
    {
     "name": "stderr",
     "output_type": "stream",
     "text": [
      "100%|██████████| 1179/1179 [00:03<00:00, 302.75it/s]\n",
      "100%|██████████| 174/174 [00:00<00:00, 632.47it/s]\n"
     ]
    },
    {
     "name": "stdout",
     "output_type": "stream",
     "text": [
      "Epoch [13], Train Loss : [0.18153] Val Loss : [0.03077] Val AUC : [0.99965] LEARNING RATE : [0.00030]\n"
     ]
    },
    {
     "name": "stderr",
     "output_type": "stream",
     "text": [
      "100%|██████████| 1179/1179 [00:04<00:00, 291.10it/s]\n",
      "100%|██████████| 174/174 [00:00<00:00, 613.67it/s]\n"
     ]
    },
    {
     "name": "stdout",
     "output_type": "stream",
     "text": [
      "Epoch [14], Train Loss : [0.17884] Val Loss : [0.03248] Val AUC : [0.99977] LEARNING RATE : [0.00030]\n"
     ]
    },
    {
     "name": "stderr",
     "output_type": "stream",
     "text": [
      "100%|██████████| 1179/1179 [00:04<00:00, 274.49it/s]\n",
      "100%|██████████| 174/174 [00:00<00:00, 602.28it/s]\n"
     ]
    },
    {
     "name": "stdout",
     "output_type": "stream",
     "text": [
      "Epoch [15], Train Loss : [0.17258] Val Loss : [0.02558] Val AUC : [0.99979] LEARNING RATE : [0.00030]\n"
     ]
    },
    {
     "name": "stderr",
     "output_type": "stream",
     "text": [
      "100%|██████████| 1179/1179 [00:04<00:00, 284.65it/s]\n",
      "100%|██████████| 174/174 [00:00<00:00, 582.58it/s]\n"
     ]
    },
    {
     "name": "stdout",
     "output_type": "stream",
     "text": [
      "Epoch [16], Train Loss : [0.17011] Val Loss : [0.02463] Val AUC : [0.99988] LEARNING RATE : [0.00030]\n"
     ]
    },
    {
     "name": "stderr",
     "output_type": "stream",
     "text": [
      "100%|██████████| 1179/1179 [00:04<00:00, 275.64it/s]\n",
      "100%|██████████| 174/174 [00:00<00:00, 566.64it/s]\n"
     ]
    },
    {
     "name": "stdout",
     "output_type": "stream",
     "text": [
      "Epoch [17], Train Loss : [0.17109] Val Loss : [0.03026] Val AUC : [0.99967] LEARNING RATE : [0.00030]\n"
     ]
    },
    {
     "name": "stderr",
     "output_type": "stream",
     "text": [
      "100%|██████████| 1179/1179 [00:04<00:00, 269.92it/s]\n",
      "100%|██████████| 174/174 [00:00<00:00, 648.82it/s]\n"
     ]
    },
    {
     "name": "stdout",
     "output_type": "stream",
     "text": [
      "Epoch [18], Train Loss : [0.16296] Val Loss : [0.02968] Val AUC : [0.99985] LEARNING RATE : [0.00030]\n"
     ]
    },
    {
     "name": "stderr",
     "output_type": "stream",
     "text": [
      "100%|██████████| 1179/1179 [00:04<00:00, 285.40it/s]\n",
      "100%|██████████| 174/174 [00:00<00:00, 628.02it/s]\n"
     ]
    },
    {
     "name": "stdout",
     "output_type": "stream",
     "text": [
      "Epoch [19], Train Loss : [0.16355] Val Loss : [0.03257] Val AUC : [0.99988] LEARNING RATE : [0.00030]\n"
     ]
    },
    {
     "name": "stderr",
     "output_type": "stream",
     "text": [
      "100%|██████████| 1179/1179 [00:04<00:00, 293.07it/s]\n",
      "100%|██████████| 174/174 [00:00<00:00, 637.00it/s]\n"
     ]
    },
    {
     "name": "stdout",
     "output_type": "stream",
     "text": [
      "Epoch [20], Train Loss : [0.16153] Val Loss : [0.02346] Val AUC : [0.99989] LEARNING RATE : [0.00030]\n"
     ]
    },
    {
     "name": "stderr",
     "output_type": "stream",
     "text": [
      "100%|██████████| 1179/1179 [00:04<00:00, 285.85it/s]\n",
      "100%|██████████| 174/174 [00:00<00:00, 636.11it/s]\n"
     ]
    },
    {
     "name": "stdout",
     "output_type": "stream",
     "text": [
      "Epoch [21], Train Loss : [0.15979] Val Loss : [0.02483] Val AUC : [0.99983] LEARNING RATE : [0.00030]\n"
     ]
    },
    {
     "name": "stderr",
     "output_type": "stream",
     "text": [
      "100%|██████████| 1179/1179 [00:04<00:00, 292.47it/s]\n",
      "100%|██████████| 174/174 [00:00<00:00, 643.00it/s]\n"
     ]
    },
    {
     "name": "stdout",
     "output_type": "stream",
     "text": [
      "Epoch [22], Train Loss : [0.16040] Val Loss : [0.02424] Val AUC : [0.99987] LEARNING RATE : [0.00030]\n"
     ]
    },
    {
     "name": "stderr",
     "output_type": "stream",
     "text": [
      "100%|██████████| 1179/1179 [00:03<00:00, 304.77it/s]\n",
      "100%|██████████| 174/174 [00:00<00:00, 631.75it/s]\n"
     ]
    },
    {
     "name": "stdout",
     "output_type": "stream",
     "text": [
      "Epoch [23], Train Loss : [0.15651] Val Loss : [0.02556] Val AUC : [0.99991] LEARNING RATE : [0.00030]\n"
     ]
    },
    {
     "name": "stderr",
     "output_type": "stream",
     "text": [
      "100%|██████████| 1179/1179 [00:03<00:00, 299.55it/s]\n",
      "100%|██████████| 174/174 [00:00<00:00, 649.76it/s]\n"
     ]
    },
    {
     "name": "stdout",
     "output_type": "stream",
     "text": [
      "Epoch [24], Train Loss : [0.15330] Val Loss : [0.02562] Val AUC : [0.99990] LEARNING RATE : [0.00030]\n"
     ]
    },
    {
     "name": "stderr",
     "output_type": "stream",
     "text": [
      "100%|██████████| 1179/1179 [00:04<00:00, 275.55it/s]\n",
      "100%|██████████| 174/174 [00:00<00:00, 600.10it/s]\n"
     ]
    },
    {
     "name": "stdout",
     "output_type": "stream",
     "text": [
      "Epoch [25], Train Loss : [0.15437] Val Loss : [0.03164] Val AUC : [0.99987] LEARNING RATE : [0.00030]\n"
     ]
    },
    {
     "name": "stderr",
     "output_type": "stream",
     "text": [
      "100%|██████████| 1179/1179 [00:04<00:00, 281.51it/s]\n",
      "100%|██████████| 174/174 [00:00<00:00, 609.36it/s]\n"
     ]
    },
    {
     "name": "stdout",
     "output_type": "stream",
     "text": [
      "Epoch [26], Train Loss : [0.15138] Val Loss : [0.02807] Val AUC : [0.99983] LEARNING RATE : [0.00030]\n",
      "Epoch 00026: reducing learning rate of group 0 to 3.0000e-05.\n"
     ]
    },
    {
     "name": "stderr",
     "output_type": "stream",
     "text": [
      "100%|██████████| 1179/1179 [00:04<00:00, 279.61it/s]\n",
      "100%|██████████| 174/174 [00:00<00:00, 618.65it/s]\n"
     ]
    },
    {
     "name": "stdout",
     "output_type": "stream",
     "text": [
      "Epoch [27], Train Loss : [0.14144] Val Loss : [0.02615] Val AUC : [0.99986] LEARNING RATE : [0.00003]\n"
     ]
    },
    {
     "name": "stderr",
     "output_type": "stream",
     "text": [
      "100%|██████████| 1179/1179 [00:04<00:00, 266.40it/s]\n",
      "100%|██████████| 174/174 [00:00<00:00, 565.76it/s]\n"
     ]
    },
    {
     "name": "stdout",
     "output_type": "stream",
     "text": [
      "Epoch [28], Train Loss : [0.13877] Val Loss : [0.02805] Val AUC : [0.99989] LEARNING RATE : [0.00003]\n"
     ]
    },
    {
     "name": "stderr",
     "output_type": "stream",
     "text": [
      "100%|██████████| 1179/1179 [00:04<00:00, 279.11it/s]\n",
      "100%|██████████| 174/174 [00:00<00:00, 614.76it/s]\n"
     ]
    },
    {
     "name": "stdout",
     "output_type": "stream",
     "text": [
      "Epoch [29], Train Loss : [0.13909] Val Loss : [0.02635] Val AUC : [0.99984] LEARNING RATE : [0.00003]\n"
     ]
    },
    {
     "name": "stderr",
     "output_type": "stream",
     "text": [
      "100%|██████████| 1179/1179 [00:03<00:00, 302.09it/s]\n",
      "100%|██████████| 174/174 [00:00<00:00, 608.31it/s]\n"
     ]
    },
    {
     "name": "stdout",
     "output_type": "stream",
     "text": [
      "Epoch [30], Train Loss : [0.13787] Val Loss : [0.02473] Val AUC : [0.99990] LEARNING RATE : [0.00003]\n"
     ]
    },
    {
     "name": "stderr",
     "output_type": "stream",
     "text": [
      "100%|██████████| 1179/1179 [00:04<00:00, 285.71it/s]\n",
      "100%|██████████| 174/174 [00:00<00:00, 627.57it/s]\n"
     ]
    },
    {
     "name": "stdout",
     "output_type": "stream",
     "text": [
      "Epoch [31], Train Loss : [0.13753] Val Loss : [0.02637] Val AUC : [0.99992] LEARNING RATE : [0.00003]\n"
     ]
    },
    {
     "name": "stderr",
     "output_type": "stream",
     "text": [
      "100%|██████████| 1179/1179 [00:04<00:00, 290.02it/s]\n",
      "100%|██████████| 174/174 [00:00<00:00, 580.88it/s]\n"
     ]
    },
    {
     "name": "stdout",
     "output_type": "stream",
     "text": [
      "Epoch [32], Train Loss : [0.13600] Val Loss : [0.02660] Val AUC : [0.99985] LEARNING RATE : [0.00003]\n",
      "Epoch 00032: reducing learning rate of group 0 to 3.0000e-06.\n"
     ]
    },
    {
     "name": "stderr",
     "output_type": "stream",
     "text": [
      "100%|██████████| 1179/1179 [00:03<00:00, 306.14it/s]\n",
      "100%|██████████| 174/174 [00:00<00:00, 631.48it/s]\n"
     ]
    },
    {
     "name": "stdout",
     "output_type": "stream",
     "text": [
      "Epoch [33], Train Loss : [0.13824] Val Loss : [0.02313] Val AUC : [0.99992] LEARNING RATE : [0.00000]\n"
     ]
    },
    {
     "name": "stderr",
     "output_type": "stream",
     "text": [
      "100%|██████████| 1179/1179 [00:03<00:00, 299.26it/s]\n",
      "100%|██████████| 174/174 [00:00<00:00, 591.28it/s]\n"
     ]
    },
    {
     "name": "stdout",
     "output_type": "stream",
     "text": [
      "Epoch [34], Train Loss : [0.13624] Val Loss : [0.02478] Val AUC : [0.99987] LEARNING RATE : [0.00000]\n"
     ]
    },
    {
     "name": "stderr",
     "output_type": "stream",
     "text": [
      "100%|██████████| 1179/1179 [00:04<00:00, 272.14it/s]\n",
      "100%|██████████| 174/174 [00:00<00:00, 589.64it/s]\n"
     ]
    },
    {
     "name": "stdout",
     "output_type": "stream",
     "text": [
      "Epoch [35], Train Loss : [0.13722] Val Loss : [0.02478] Val AUC : [0.99992] LEARNING RATE : [0.00000]\n"
     ]
    },
    {
     "name": "stderr",
     "output_type": "stream",
     "text": [
      "100%|██████████| 1179/1179 [00:04<00:00, 282.01it/s]\n",
      "100%|██████████| 174/174 [00:00<00:00, 610.25it/s]\n"
     ]
    },
    {
     "name": "stdout",
     "output_type": "stream",
     "text": [
      "Epoch [36], Train Loss : [0.13505] Val Loss : [0.02257] Val AUC : [0.99991] LEARNING RATE : [0.00000]\n"
     ]
    },
    {
     "name": "stderr",
     "output_type": "stream",
     "text": [
      "100%|██████████| 1179/1179 [00:04<00:00, 280.47it/s]\n",
      "100%|██████████| 174/174 [00:00<00:00, 589.70it/s]\n"
     ]
    },
    {
     "name": "stdout",
     "output_type": "stream",
     "text": [
      "Epoch [37], Train Loss : [0.13298] Val Loss : [0.02502] Val AUC : [0.99989] LEARNING RATE : [0.00000]\n"
     ]
    },
    {
     "name": "stderr",
     "output_type": "stream",
     "text": [
      "100%|██████████| 1179/1179 [00:04<00:00, 270.20it/s]\n",
      "100%|██████████| 174/174 [00:00<00:00, 606.16it/s]\n"
     ]
    },
    {
     "name": "stdout",
     "output_type": "stream",
     "text": [
      "Epoch [38], Train Loss : [0.13884] Val Loss : [0.02327] Val AUC : [0.99989] LEARNING RATE : [0.00000]\n"
     ]
    },
    {
     "name": "stderr",
     "output_type": "stream",
     "text": [
      "100%|██████████| 1179/1179 [00:04<00:00, 276.82it/s]\n",
      "100%|██████████| 174/174 [00:00<00:00, 558.49it/s]\n"
     ]
    },
    {
     "name": "stdout",
     "output_type": "stream",
     "text": [
      "Epoch [39], Train Loss : [0.13684] Val Loss : [0.02553] Val AUC : [0.99991] LEARNING RATE : [0.00000]\n"
     ]
    },
    {
     "name": "stderr",
     "output_type": "stream",
     "text": [
      "100%|██████████| 1179/1179 [00:03<00:00, 303.97it/s]\n",
      "100%|██████████| 174/174 [00:00<00:00, 636.10it/s]\n"
     ]
    },
    {
     "name": "stdout",
     "output_type": "stream",
     "text": [
      "Epoch [40], Train Loss : [0.13659] Val Loss : [0.02600] Val AUC : [0.99989] LEARNING RATE : [0.00000]\n"
     ]
    },
    {
     "name": "stderr",
     "output_type": "stream",
     "text": [
      "100%|██████████| 1179/1179 [00:04<00:00, 291.70it/s]\n",
      "100%|██████████| 174/174 [00:00<00:00, 633.78it/s]\n"
     ]
    },
    {
     "name": "stdout",
     "output_type": "stream",
     "text": [
      "Epoch [41], Train Loss : [0.13354] Val Loss : [0.02527] Val AUC : [0.99979] LEARNING RATE : [0.00000]\n"
     ]
    },
    {
     "name": "stderr",
     "output_type": "stream",
     "text": [
      "100%|██████████| 1179/1179 [00:04<00:00, 285.44it/s]\n",
      "100%|██████████| 174/174 [00:00<00:00, 603.22it/s]\n"
     ]
    },
    {
     "name": "stdout",
     "output_type": "stream",
     "text": [
      "Epoch [42], Train Loss : [0.13478] Val Loss : [0.02359] Val AUC : [0.99989] LEARNING RATE : [0.00000]\n",
      "Epoch 00042: reducing learning rate of group 0 to 3.0000e-07.\n"
     ]
    },
    {
     "name": "stderr",
     "output_type": "stream",
     "text": [
      "100%|██████████| 1179/1179 [00:03<00:00, 304.11it/s]\n",
      "100%|██████████| 174/174 [00:00<00:00, 601.68it/s]\n"
     ]
    },
    {
     "name": "stdout",
     "output_type": "stream",
     "text": [
      "Epoch [43], Train Loss : [0.13571] Val Loss : [0.02236] Val AUC : [0.99993] LEARNING RATE : [0.00000]\n"
     ]
    },
    {
     "name": "stderr",
     "output_type": "stream",
     "text": [
      "100%|██████████| 1179/1179 [00:04<00:00, 294.27it/s]\n",
      "100%|██████████| 174/174 [00:00<00:00, 624.60it/s]\n"
     ]
    },
    {
     "name": "stdout",
     "output_type": "stream",
     "text": [
      "Epoch [44], Train Loss : [0.13402] Val Loss : [0.02618] Val AUC : [0.99990] LEARNING RATE : [0.00000]\n"
     ]
    },
    {
     "name": "stderr",
     "output_type": "stream",
     "text": [
      "100%|██████████| 1179/1179 [00:04<00:00, 275.07it/s]\n",
      "100%|██████████| 174/174 [00:00<00:00, 605.13it/s]\n"
     ]
    },
    {
     "name": "stdout",
     "output_type": "stream",
     "text": [
      "Epoch [45], Train Loss : [0.13392] Val Loss : [0.02591] Val AUC : [0.99983] LEARNING RATE : [0.00000]\n"
     ]
    },
    {
     "name": "stderr",
     "output_type": "stream",
     "text": [
      "100%|██████████| 1179/1179 [00:04<00:00, 284.13it/s]\n",
      "100%|██████████| 174/174 [00:00<00:00, 620.78it/s]\n"
     ]
    },
    {
     "name": "stdout",
     "output_type": "stream",
     "text": [
      "Epoch [46], Train Loss : [0.13403] Val Loss : [0.02695] Val AUC : [0.99992] LEARNING RATE : [0.00000]\n"
     ]
    },
    {
     "name": "stderr",
     "output_type": "stream",
     "text": [
      "100%|██████████| 1179/1179 [00:04<00:00, 284.30it/s]\n",
      "100%|██████████| 174/174 [00:00<00:00, 633.78it/s]\n"
     ]
    },
    {
     "name": "stdout",
     "output_type": "stream",
     "text": [
      "Epoch [47], Train Loss : [0.13474] Val Loss : [0.02492] Val AUC : [0.99992] LEARNING RATE : [0.00000]\n"
     ]
    },
    {
     "name": "stderr",
     "output_type": "stream",
     "text": [
      "100%|██████████| 1179/1179 [00:04<00:00, 272.22it/s]\n",
      "100%|██████████| 174/174 [00:00<00:00, 580.86it/s]\n"
     ]
    },
    {
     "name": "stdout",
     "output_type": "stream",
     "text": [
      "Epoch [48], Train Loss : [0.13860] Val Loss : [0.02675] Val AUC : [0.99985] LEARNING RATE : [0.00000]\n"
     ]
    },
    {
     "name": "stderr",
     "output_type": "stream",
     "text": [
      "100%|██████████| 1179/1179 [00:04<00:00, 276.38it/s]\n",
      "100%|██████████| 174/174 [00:00<00:00, 635.83it/s]\n"
     ]
    },
    {
     "name": "stdout",
     "output_type": "stream",
     "text": [
      "Epoch [49], Train Loss : [0.13479] Val Loss : [0.02594] Val AUC : [0.99982] LEARNING RATE : [0.00000]\n",
      "Epoch 00049: reducing learning rate of group 0 to 3.0000e-08.\n"
     ]
    },
    {
     "name": "stderr",
     "output_type": "stream",
     "text": [
      "100%|██████████| 1179/1179 [00:03<00:00, 305.24it/s]\n",
      "100%|██████████| 174/174 [00:00<00:00, 581.61it/s]\n"
     ]
    },
    {
     "name": "stdout",
     "output_type": "stream",
     "text": [
      "Epoch [50], Train Loss : [0.13566] Val Loss : [0.02218] Val AUC : [0.99993] LEARNING RATE : [0.00000]\n"
     ]
    },
    {
     "name": "stderr",
     "output_type": "stream",
     "text": [
      "100%|██████████| 1179/1179 [00:03<00:00, 299.96it/s]\n",
      "100%|██████████| 174/174 [00:00<00:00, 606.78it/s]\n"
     ]
    },
    {
     "name": "stdout",
     "output_type": "stream",
     "text": [
      "Epoch [51], Train Loss : [0.13726] Val Loss : [0.02463] Val AUC : [0.99989] LEARNING RATE : [0.00000]\n"
     ]
    },
    {
     "name": "stderr",
     "output_type": "stream",
     "text": [
      "100%|██████████| 1179/1179 [00:04<00:00, 289.69it/s]\n",
      "100%|██████████| 174/174 [00:00<00:00, 609.56it/s]\n"
     ]
    },
    {
     "name": "stdout",
     "output_type": "stream",
     "text": [
      "Epoch [52], Train Loss : [0.13681] Val Loss : [0.02511] Val AUC : [0.99982] LEARNING RATE : [0.00000]\n"
     ]
    },
    {
     "name": "stderr",
     "output_type": "stream",
     "text": [
      "100%|██████████| 1179/1179 [00:03<00:00, 300.33it/s]\n",
      "100%|██████████| 174/174 [00:00<00:00, 617.16it/s]\n"
     ]
    },
    {
     "name": "stdout",
     "output_type": "stream",
     "text": [
      "Epoch [53], Train Loss : [0.13552] Val Loss : [0.02374] Val AUC : [0.99990] LEARNING RATE : [0.00000]\n"
     ]
    },
    {
     "name": "stderr",
     "output_type": "stream",
     "text": [
      "100%|██████████| 1179/1179 [00:03<00:00, 295.54it/s]\n",
      "100%|██████████| 174/174 [00:00<00:00, 597.48it/s]\n"
     ]
    },
    {
     "name": "stdout",
     "output_type": "stream",
     "text": [
      "Epoch [54], Train Loss : [0.13822] Val Loss : [0.02484] Val AUC : [0.99992] LEARNING RATE : [0.00000]\n"
     ]
    },
    {
     "name": "stderr",
     "output_type": "stream",
     "text": [
      "100%|██████████| 1179/1179 [00:04<00:00, 271.22it/s]\n",
      "100%|██████████| 174/174 [00:00<00:00, 603.02it/s]\n"
     ]
    },
    {
     "name": "stdout",
     "output_type": "stream",
     "text": [
      "Epoch [55], Train Loss : [0.13493] Val Loss : [0.02843] Val AUC : [0.99992] LEARNING RATE : [0.00000]\n"
     ]
    },
    {
     "name": "stderr",
     "output_type": "stream",
     "text": [
      "100%|██████████| 1179/1179 [00:04<00:00, 271.74it/s]\n",
      "100%|██████████| 174/174 [00:00<00:00, 635.24it/s]\n"
     ]
    },
    {
     "name": "stdout",
     "output_type": "stream",
     "text": [
      "Epoch [56], Train Loss : [0.13507] Val Loss : [0.02509] Val AUC : [0.99991] LEARNING RATE : [0.00000]\n",
      "Epoch 00056: reducing learning rate of group 0 to 3.0000e-09.\n"
     ]
    },
    {
     "name": "stderr",
     "output_type": "stream",
     "text": [
      "100%|██████████| 1179/1179 [00:04<00:00, 291.59it/s]\n",
      "100%|██████████| 174/174 [00:00<00:00, 591.67it/s]\n"
     ]
    },
    {
     "name": "stdout",
     "output_type": "stream",
     "text": [
      "Epoch [57], Train Loss : [0.13620] Val Loss : [0.02906] Val AUC : [0.99981] LEARNING RATE : [0.00000]\n"
     ]
    },
    {
     "name": "stderr",
     "output_type": "stream",
     "text": [
      "100%|██████████| 1179/1179 [00:04<00:00, 274.60it/s]\n",
      "100%|██████████| 174/174 [00:00<00:00, 592.76it/s]\n"
     ]
    },
    {
     "name": "stdout",
     "output_type": "stream",
     "text": [
      "Epoch [58], Train Loss : [0.13565] Val Loss : [0.02843] Val AUC : [0.99991] LEARNING RATE : [0.00000]\n"
     ]
    },
    {
     "name": "stderr",
     "output_type": "stream",
     "text": [
      "100%|██████████| 1179/1179 [00:04<00:00, 280.65it/s]\n",
      "100%|██████████| 174/174 [00:00<00:00, 534.43it/s]\n"
     ]
    },
    {
     "name": "stdout",
     "output_type": "stream",
     "text": [
      "Epoch [59], Train Loss : [0.13641] Val Loss : [0.02422] Val AUC : [0.99992] LEARNING RATE : [0.00000]\n"
     ]
    },
    {
     "name": "stderr",
     "output_type": "stream",
     "text": [
      "100%|██████████| 1179/1179 [00:03<00:00, 301.95it/s]\n",
      "100%|██████████| 174/174 [00:00<00:00, 635.27it/s]\n"
     ]
    },
    {
     "name": "stdout",
     "output_type": "stream",
     "text": [
      "Epoch [60], Train Loss : [0.13438] Val Loss : [0.02726] Val AUC : [0.99990] LEARNING RATE : [0.00000]\n"
     ]
    },
    {
     "name": "stderr",
     "output_type": "stream",
     "text": [
      "100%|██████████| 1179/1179 [00:03<00:00, 297.48it/s]\n",
      "100%|██████████| 174/174 [00:00<00:00, 608.20it/s]\n"
     ]
    },
    {
     "name": "stdout",
     "output_type": "stream",
     "text": [
      "Epoch [61], Train Loss : [0.13657] Val Loss : [0.02274] Val AUC : [0.99991] LEARNING RATE : [0.00000]\n"
     ]
    },
    {
     "name": "stderr",
     "output_type": "stream",
     "text": [
      "100%|██████████| 1179/1179 [00:04<00:00, 288.35it/s]\n",
      "100%|██████████| 174/174 [00:00<00:00, 639.63it/s]\n"
     ]
    },
    {
     "name": "stdout",
     "output_type": "stream",
     "text": [
      "Epoch [62], Train Loss : [0.13465] Val Loss : [0.02083] Val AUC : [0.99992] LEARNING RATE : [0.00000]\n"
     ]
    },
    {
     "name": "stderr",
     "output_type": "stream",
     "text": [
      "100%|██████████| 1179/1179 [00:03<00:00, 297.98it/s]\n",
      "100%|██████████| 174/174 [00:00<00:00, 601.75it/s]\n"
     ]
    },
    {
     "name": "stdout",
     "output_type": "stream",
     "text": [
      "Epoch [63], Train Loss : [0.14009] Val Loss : [0.02261] Val AUC : [0.99994] LEARNING RATE : [0.00000]\n"
     ]
    },
    {
     "name": "stderr",
     "output_type": "stream",
     "text": [
      "100%|██████████| 1179/1179 [00:04<00:00, 292.18it/s]\n",
      "100%|██████████| 174/174 [00:00<00:00, 588.69it/s]\n"
     ]
    },
    {
     "name": "stdout",
     "output_type": "stream",
     "text": [
      "Epoch [64], Train Loss : [0.13404] Val Loss : [0.02646] Val AUC : [0.99991] LEARNING RATE : [0.00000]\n"
     ]
    },
    {
     "name": "stderr",
     "output_type": "stream",
     "text": [
      "100%|██████████| 1179/1179 [00:04<00:00, 274.24it/s]\n",
      "100%|██████████| 174/174 [00:00<00:00, 624.69it/s]\n"
     ]
    },
    {
     "name": "stdout",
     "output_type": "stream",
     "text": [
      "Epoch [65], Train Loss : [0.13407] Val Loss : [0.02557] Val AUC : [0.99991] LEARNING RATE : [0.00000]\n"
     ]
    },
    {
     "name": "stderr",
     "output_type": "stream",
     "text": [
      "100%|██████████| 1179/1179 [00:04<00:00, 270.18it/s]\n",
      "100%|██████████| 174/174 [00:00<00:00, 611.49it/s]\n"
     ]
    },
    {
     "name": "stdout",
     "output_type": "stream",
     "text": [
      "Epoch [66], Train Loss : [0.13511] Val Loss : [0.02844] Val AUC : [0.99988] LEARNING RATE : [0.00000]\n"
     ]
    },
    {
     "name": "stderr",
     "output_type": "stream",
     "text": [
      "100%|██████████| 1179/1179 [00:04<00:00, 283.48it/s]\n",
      "100%|██████████| 174/174 [00:00<00:00, 622.28it/s]\n"
     ]
    },
    {
     "name": "stdout",
     "output_type": "stream",
     "text": [
      "Epoch [67], Train Loss : [0.13409] Val Loss : [0.02388] Val AUC : [0.99990] LEARNING RATE : [0.00000]\n"
     ]
    },
    {
     "name": "stderr",
     "output_type": "stream",
     "text": [
      "100%|██████████| 1179/1179 [00:04<00:00, 274.70it/s]\n",
      "100%|██████████| 174/174 [00:00<00:00, 626.45it/s]\n"
     ]
    },
    {
     "name": "stdout",
     "output_type": "stream",
     "text": [
      "Epoch [68], Train Loss : [0.13506] Val Loss : [0.02446] Val AUC : [0.99991] LEARNING RATE : [0.00000]\n"
     ]
    },
    {
     "name": "stderr",
     "output_type": "stream",
     "text": [
      "100%|██████████| 1179/1179 [00:04<00:00, 280.02it/s]\n",
      "100%|██████████| 174/174 [00:00<00:00, 567.48it/s]\n"
     ]
    },
    {
     "name": "stdout",
     "output_type": "stream",
     "text": [
      "Epoch [69], Train Loss : [0.13334] Val Loss : [0.02322] Val AUC : [0.99991] LEARNING RATE : [0.00000]\n"
     ]
    },
    {
     "name": "stderr",
     "output_type": "stream",
     "text": [
      "100%|██████████| 1179/1179 [00:04<00:00, 294.43it/s]\n",
      "100%|██████████| 174/174 [00:00<00:00, 623.60it/s]\n"
     ]
    },
    {
     "name": "stdout",
     "output_type": "stream",
     "text": [
      "Epoch [70], Train Loss : [0.13665] Val Loss : [0.02707] Val AUC : [0.99970] LEARNING RATE : [0.00000]\n"
     ]
    }
   ],
   "source": [
    "model = MLP()\n",
    "optimizer = torch.optim.Adam(params = model.parameters(), lr = CONFIG.LEARNING_RATE)\n",
    "scheduler = lr_scheduler.ReduceLROnPlateau(optimizer, mode='min', factor=0.1, patience=5, verbose=True)\n",
    "\n",
    "infer_model = training(model, scheduler, optimizer, train_loader, val_loader, device)"
   ]
  },
  {
   "cell_type": "markdown",
   "id": "a978b0e6-b773-423a-93e4-ce463f4d4d84",
   "metadata": {},
   "source": [
    "### Inference"
   ]
  },
  {
   "cell_type": "code",
   "execution_count": 15,
   "id": "b7f0d71c",
   "metadata": {},
   "outputs": [
    {
     "name": "stderr",
     "output_type": "stream",
     "text": [
      "100%|██████████| 50000/50000 [11:06<00:00, 75.05it/s]\n"
     ]
    }
   ],
   "source": [
    "test = pd.read_csv(os.path.join(CONFIG.ROOT_DIR, 'test.csv'))\n",
    "test_mfcc = get_features(test, train_mode=False, augment=False)"
   ]
  },
  {
   "cell_type": "code",
   "execution_count": 34,
   "id": "76141516-342f-4f0f-8f75-20700f284792",
   "metadata": {},
   "outputs": [],
   "source": [
    "test_dataset = CustomDataset(test_mfcc, None)\n",
    "test_loader = DataLoader(\n",
    "    test_dataset,\n",
    "    batch_size=CONFIG.BATCH_SIZE,\n",
    "    shuffle=False\n",
    ")"
   ]
  },
  {
   "cell_type": "code",
   "execution_count": 35,
   "id": "a5e129df",
   "metadata": {},
   "outputs": [],
   "source": [
    "# np.save(os.path.join(CONFIG.ROOT_DIR, 'npy/test_VariousFeatures_1000.npy'), test_mfcc)\n",
    "# test_mfcc = np.load(os.path.join(CONFIG.ROOT_DIR, 'npy/test_VariousFeatures_1000.npy'))"
   ]
  },
  {
   "cell_type": "code",
   "execution_count": 36,
   "id": "5889b493-d760-4cac-9ced-c3715195e8be",
   "metadata": {},
   "outputs": [],
   "source": [
    "def inference(model, test_loader, device):\n",
    "    model.to(device)\n",
    "    model.eval()\n",
    "    predictions = []\n",
    "    with torch.no_grad():\n",
    "        for features in tqdm(iter(test_loader)):\n",
    "            features = features.float().to(device)\n",
    "            \n",
    "            probs = model(features)\n",
    "\n",
    "            probs  = probs.cpu().detach().numpy()\n",
    "            predictions += probs.tolist()\n",
    "    return predictions"
   ]
  },
  {
   "cell_type": "code",
   "execution_count": 37,
   "id": "cd74fe5f-82f1-4ad7-818f-509e1bea642d",
   "metadata": {},
   "outputs": [
    {
     "name": "stderr",
     "output_type": "stream",
     "text": [
      "100%|██████████| 782/782 [00:01<00:00, 656.64it/s]\n"
     ]
    }
   ],
   "source": [
    "preds = inference(infer_model, test_loader, device)"
   ]
  },
  {
   "cell_type": "markdown",
   "id": "a8fae66d-8f54-46d5-9201-0f4b0db76e76",
   "metadata": {},
   "source": [
    "### Submission"
   ]
  },
  {
   "cell_type": "code",
   "execution_count": 38,
   "id": "3f8314c4-1dce-4f79-9f3d-77d320a3746e",
   "metadata": {},
   "outputs": [
    {
     "data": {
      "text/html": [
       "<div>\n",
       "<style scoped>\n",
       "    .dataframe tbody tr th:only-of-type {\n",
       "        vertical-align: middle;\n",
       "    }\n",
       "\n",
       "    .dataframe tbody tr th {\n",
       "        vertical-align: top;\n",
       "    }\n",
       "\n",
       "    .dataframe thead th {\n",
       "        text-align: right;\n",
       "    }\n",
       "</style>\n",
       "<table border=\"1\" class=\"dataframe\">\n",
       "  <thead>\n",
       "    <tr style=\"text-align: right;\">\n",
       "      <th></th>\n",
       "      <th>id</th>\n",
       "      <th>fake</th>\n",
       "      <th>real</th>\n",
       "    </tr>\n",
       "  </thead>\n",
       "  <tbody>\n",
       "    <tr>\n",
       "      <th>0</th>\n",
       "      <td>TEST_00000</td>\n",
       "      <td>0.714056</td>\n",
       "      <td>0.352337</td>\n",
       "    </tr>\n",
       "    <tr>\n",
       "      <th>1</th>\n",
       "      <td>TEST_00001</td>\n",
       "      <td>0.521525</td>\n",
       "      <td>0.493831</td>\n",
       "    </tr>\n",
       "    <tr>\n",
       "      <th>2</th>\n",
       "      <td>TEST_00002</td>\n",
       "      <td>0.520113</td>\n",
       "      <td>0.539029</td>\n",
       "    </tr>\n",
       "    <tr>\n",
       "      <th>3</th>\n",
       "      <td>TEST_00003</td>\n",
       "      <td>0.133667</td>\n",
       "      <td>0.959455</td>\n",
       "    </tr>\n",
       "    <tr>\n",
       "      <th>4</th>\n",
       "      <td>TEST_00004</td>\n",
       "      <td>0.244149</td>\n",
       "      <td>0.993702</td>\n",
       "    </tr>\n",
       "  </tbody>\n",
       "</table>\n",
       "</div>"
      ],
      "text/plain": [
       "           id      fake      real\n",
       "0  TEST_00000  0.714056  0.352337\n",
       "1  TEST_00001  0.521525  0.493831\n",
       "2  TEST_00002  0.520113  0.539029\n",
       "3  TEST_00003  0.133667  0.959455\n",
       "4  TEST_00004  0.244149  0.993702"
      ]
     },
     "execution_count": 38,
     "metadata": {},
     "output_type": "execute_result"
    }
   ],
   "source": [
    "submit = pd.read_csv(os.path.join(CONFIG.ROOT_DIR,'./sample_submission.csv'))\n",
    "submit.iloc[:, 1:] = preds\n",
    "submit.head()"
   ]
  },
  {
   "cell_type": "code",
   "execution_count": 40,
   "id": "e28d71bc-6703-40f7-9716-a0ef897eca83",
   "metadata": {},
   "outputs": [],
   "source": [
    "submit.to_csv(f'./output/submit_MLP_Augment.csv', index=False)"
   ]
  },
  {
   "cell_type": "markdown",
   "id": "277110b6",
   "metadata": {},
   "source": [
    "### AfterTest"
   ]
  },
  {
   "cell_type": "code",
   "execution_count": null,
   "id": "402bc79b",
   "metadata": {},
   "outputs": [],
   "source": [
    "print(model(torch.tensor(train_features).float().to(device)).cpu().detach().numpy()[:10])\n",
    "print(train_labels[:10])"
   ]
  },
  {
   "cell_type": "code",
   "execution_count": null,
   "id": "053b10a8",
   "metadata": {},
   "outputs": [],
   "source": [
    "np.where((train_labels[:, 0] == 1) & (train_labels[:, 1] == 1))[0]"
   ]
  }
 ],
 "metadata": {
  "kaggle": {
   "accelerator": "gpu",
   "dataSources": [
    {
     "databundleVersionId": 8068726,
     "sourceId": 70203,
     "sourceType": "competition"
    },
    {
     "datasetId": 4732842,
     "sourceId": 8066583,
     "sourceType": "datasetVersion"
    }
   ],
   "dockerImageVersionId": 30674,
   "isGpuEnabled": true,
   "isInternetEnabled": true,
   "language": "python",
   "sourceType": "notebook"
  },
  "kernelspec": {
   "display_name": "base",
   "language": "python",
   "name": "python3"
  },
  "language_info": {
   "codemirror_mode": {
    "name": "ipython",
    "version": 3
   },
   "file_extension": ".py",
   "mimetype": "text/x-python",
   "name": "python",
   "nbconvert_exporter": "python",
   "pygments_lexer": "ipython3",
   "version": "3.11.5"
  },
  "papermill": {
   "default_parameters": {},
   "duration": 1830.928153,
   "end_time": "2024-04-08T19:22:15.265404",
   "environment_variables": {},
   "exception": null,
   "input_path": "__notebook__.ipynb",
   "output_path": "__notebook__.ipynb",
   "parameters": {},
   "start_time": "2024-04-08T18:51:44.337251",
   "version": "2.5.0"
  },
  "widgets": {
   "application/vnd.jupyter.widget-state+json": {
    "state": {
     "01a8f214ec354c44b73d439565382278": {
      "model_module": "@jupyter-widgets/base",
      "model_module_version": "1.2.0",
      "model_name": "LayoutModel",
      "state": {
       "_model_module": "@jupyter-widgets/base",
       "_model_module_version": "1.2.0",
       "_model_name": "LayoutModel",
       "_view_count": null,
       "_view_module": "@jupyter-widgets/base",
       "_view_module_version": "1.2.0",
       "_view_name": "LayoutView",
       "align_content": null,
       "align_items": null,
       "align_self": null,
       "border": null,
       "bottom": null,
       "display": null,
       "flex": null,
       "flex_flow": null,
       "grid_area": null,
       "grid_auto_columns": null,
       "grid_auto_flow": null,
       "grid_auto_rows": null,
       "grid_column": null,
       "grid_gap": null,
       "grid_row": null,
       "grid_template_areas": null,
       "grid_template_columns": null,
       "grid_template_rows": null,
       "height": null,
       "justify_content": null,
       "justify_items": null,
       "left": null,
       "margin": null,
       "max_height": null,
       "max_width": null,
       "min_height": null,
       "min_width": null,
       "object_fit": null,
       "object_position": null,
       "order": null,
       "overflow": null,
       "overflow_x": null,
       "overflow_y": null,
       "padding": null,
       "right": null,
       "top": null,
       "visibility": null,
       "width": null
      }
     },
     "06a1ede084cd487ebf3c469be657b53e": {
      "model_module": "@jupyter-widgets/controls",
      "model_module_version": "1.5.0",
      "model_name": "HBoxModel",
      "state": {
       "_dom_classes": [],
       "_model_module": "@jupyter-widgets/controls",
       "_model_module_version": "1.5.0",
       "_model_name": "HBoxModel",
       "_view_count": null,
       "_view_module": "@jupyter-widgets/controls",
       "_view_module_version": "1.5.0",
       "_view_name": "HBoxView",
       "box_style": "",
       "children": [
        "IPY_MODEL_80013ce73542415e82be091acccb89fe",
        "IPY_MODEL_d280070ca871485fbd2b7d34b1c9fd10",
        "IPY_MODEL_8212bde7695f494cbabea66983e4cf29"
       ],
       "layout": "IPY_MODEL_c4da594b806c4c2bbff6e8cdaf6088eb"
      }
     },
     "37e28ba3d8564da4a3257c3729310584": {
      "model_module": "@jupyter-widgets/controls",
      "model_module_version": "1.5.0",
      "model_name": "DescriptionStyleModel",
      "state": {
       "_model_module": "@jupyter-widgets/controls",
       "_model_module_version": "1.5.0",
       "_model_name": "DescriptionStyleModel",
       "_view_count": null,
       "_view_module": "@jupyter-widgets/base",
       "_view_module_version": "1.2.0",
       "_view_name": "StyleView",
       "description_width": ""
      }
     },
     "80013ce73542415e82be091acccb89fe": {
      "model_module": "@jupyter-widgets/controls",
      "model_module_version": "1.5.0",
      "model_name": "HTMLModel",
      "state": {
       "_dom_classes": [],
       "_model_module": "@jupyter-widgets/controls",
       "_model_module_version": "1.5.0",
       "_model_name": "HTMLModel",
       "_view_count": null,
       "_view_module": "@jupyter-widgets/controls",
       "_view_module_version": "1.5.0",
       "_view_name": "HTMLView",
       "description": "",
       "description_tooltip": null,
       "layout": "IPY_MODEL_95e72a34a4374fd5b4b147772085bb7c",
       "placeholder": "​",
       "style": "IPY_MODEL_37e28ba3d8564da4a3257c3729310584",
       "value": "model.safetensors: 100%"
      }
     },
     "8212bde7695f494cbabea66983e4cf29": {
      "model_module": "@jupyter-widgets/controls",
      "model_module_version": "1.5.0",
      "model_name": "HTMLModel",
      "state": {
       "_dom_classes": [],
       "_model_module": "@jupyter-widgets/controls",
       "_model_module_version": "1.5.0",
       "_model_name": "HTMLModel",
       "_view_count": null,
       "_view_module": "@jupyter-widgets/controls",
       "_view_module_version": "1.5.0",
       "_view_name": "HTMLView",
       "description": "",
       "description_tooltip": null,
       "layout": "IPY_MODEL_d9e4e04bb60e40d6b46d782f8156d05f",
       "placeholder": "​",
       "style": "IPY_MODEL_b1fa83d0511a4d8a910b8fdb40d32c29",
       "value": " 36.5M/36.5M [00:01&lt;00:00, 41.1MB/s]"
      }
     },
     "95e72a34a4374fd5b4b147772085bb7c": {
      "model_module": "@jupyter-widgets/base",
      "model_module_version": "1.2.0",
      "model_name": "LayoutModel",
      "state": {
       "_model_module": "@jupyter-widgets/base",
       "_model_module_version": "1.2.0",
       "_model_name": "LayoutModel",
       "_view_count": null,
       "_view_module": "@jupyter-widgets/base",
       "_view_module_version": "1.2.0",
       "_view_name": "LayoutView",
       "align_content": null,
       "align_items": null,
       "align_self": null,
       "border": null,
       "bottom": null,
       "display": null,
       "flex": null,
       "flex_flow": null,
       "grid_area": null,
       "grid_auto_columns": null,
       "grid_auto_flow": null,
       "grid_auto_rows": null,
       "grid_column": null,
       "grid_gap": null,
       "grid_row": null,
       "grid_template_areas": null,
       "grid_template_columns": null,
       "grid_template_rows": null,
       "height": null,
       "justify_content": null,
       "justify_items": null,
       "left": null,
       "margin": null,
       "max_height": null,
       "max_width": null,
       "min_height": null,
       "min_width": null,
       "object_fit": null,
       "object_position": null,
       "order": null,
       "overflow": null,
       "overflow_x": null,
       "overflow_y": null,
       "padding": null,
       "right": null,
       "top": null,
       "visibility": null,
       "width": null
      }
     },
     "b1fa83d0511a4d8a910b8fdb40d32c29": {
      "model_module": "@jupyter-widgets/controls",
      "model_module_version": "1.5.0",
      "model_name": "DescriptionStyleModel",
      "state": {
       "_model_module": "@jupyter-widgets/controls",
       "_model_module_version": "1.5.0",
       "_model_name": "DescriptionStyleModel",
       "_view_count": null,
       "_view_module": "@jupyter-widgets/base",
       "_view_module_version": "1.2.0",
       "_view_name": "StyleView",
       "description_width": ""
      }
     },
     "c4da594b806c4c2bbff6e8cdaf6088eb": {
      "model_module": "@jupyter-widgets/base",
      "model_module_version": "1.2.0",
      "model_name": "LayoutModel",
      "state": {
       "_model_module": "@jupyter-widgets/base",
       "_model_module_version": "1.2.0",
       "_model_name": "LayoutModel",
       "_view_count": null,
       "_view_module": "@jupyter-widgets/base",
       "_view_module_version": "1.2.0",
       "_view_name": "LayoutView",
       "align_content": null,
       "align_items": null,
       "align_self": null,
       "border": null,
       "bottom": null,
       "display": null,
       "flex": null,
       "flex_flow": null,
       "grid_area": null,
       "grid_auto_columns": null,
       "grid_auto_flow": null,
       "grid_auto_rows": null,
       "grid_column": null,
       "grid_gap": null,
       "grid_row": null,
       "grid_template_areas": null,
       "grid_template_columns": null,
       "grid_template_rows": null,
       "height": null,
       "justify_content": null,
       "justify_items": null,
       "left": null,
       "margin": null,
       "max_height": null,
       "max_width": null,
       "min_height": null,
       "min_width": null,
       "object_fit": null,
       "object_position": null,
       "order": null,
       "overflow": null,
       "overflow_x": null,
       "overflow_y": null,
       "padding": null,
       "right": null,
       "top": null,
       "visibility": null,
       "width": null
      }
     },
     "d280070ca871485fbd2b7d34b1c9fd10": {
      "model_module": "@jupyter-widgets/controls",
      "model_module_version": "1.5.0",
      "model_name": "FloatProgressModel",
      "state": {
       "_dom_classes": [],
       "_model_module": "@jupyter-widgets/controls",
       "_model_module_version": "1.5.0",
       "_model_name": "FloatProgressModel",
       "_view_count": null,
       "_view_module": "@jupyter-widgets/controls",
       "_view_module_version": "1.5.0",
       "_view_name": "ProgressView",
       "bar_style": "success",
       "description": "",
       "description_tooltip": null,
       "layout": "IPY_MODEL_01a8f214ec354c44b73d439565382278",
       "max": 36494688,
       "min": 0,
       "orientation": "horizontal",
       "style": "IPY_MODEL_dcd2393d73d14514851a7d9ef50315fc",
       "value": 36494688
      }
     },
     "d9e4e04bb60e40d6b46d782f8156d05f": {
      "model_module": "@jupyter-widgets/base",
      "model_module_version": "1.2.0",
      "model_name": "LayoutModel",
      "state": {
       "_model_module": "@jupyter-widgets/base",
       "_model_module_version": "1.2.0",
       "_model_name": "LayoutModel",
       "_view_count": null,
       "_view_module": "@jupyter-widgets/base",
       "_view_module_version": "1.2.0",
       "_view_name": "LayoutView",
       "align_content": null,
       "align_items": null,
       "align_self": null,
       "border": null,
       "bottom": null,
       "display": null,
       "flex": null,
       "flex_flow": null,
       "grid_area": null,
       "grid_auto_columns": null,
       "grid_auto_flow": null,
       "grid_auto_rows": null,
       "grid_column": null,
       "grid_gap": null,
       "grid_row": null,
       "grid_template_areas": null,
       "grid_template_columns": null,
       "grid_template_rows": null,
       "height": null,
       "justify_content": null,
       "justify_items": null,
       "left": null,
       "margin": null,
       "max_height": null,
       "max_width": null,
       "min_height": null,
       "min_width": null,
       "object_fit": null,
       "object_position": null,
       "order": null,
       "overflow": null,
       "overflow_x": null,
       "overflow_y": null,
       "padding": null,
       "right": null,
       "top": null,
       "visibility": null,
       "width": null
      }
     },
     "dcd2393d73d14514851a7d9ef50315fc": {
      "model_module": "@jupyter-widgets/controls",
      "model_module_version": "1.5.0",
      "model_name": "ProgressStyleModel",
      "state": {
       "_model_module": "@jupyter-widgets/controls",
       "_model_module_version": "1.5.0",
       "_model_name": "ProgressStyleModel",
       "_view_count": null,
       "_view_module": "@jupyter-widgets/base",
       "_view_module_version": "1.2.0",
       "_view_name": "StyleView",
       "bar_color": null,
       "description_width": ""
      }
     }
    },
    "version_major": 2,
    "version_minor": 0
   }
  }
 },
 "nbformat": 4,
 "nbformat_minor": 5
}
