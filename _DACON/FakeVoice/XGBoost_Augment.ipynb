{
 "cells": [
  {
   "cell_type": "markdown",
   "id": "361d73a1",
   "metadata": {
    "papermill": {
     "duration": 0.007011,
     "end_time": "2024-04-08T18:51:47.130888",
     "exception": false,
     "start_time": "2024-04-08T18:51:47.123877",
     "status": "completed"
    },
    "tags": []
   },
   "source": [
    "# Imports"
   ]
  },
  {
   "cell_type": "code",
   "execution_count": 1,
   "id": "bbadbd56",
   "metadata": {
    "papermill": {
     "duration": 12.650384,
     "end_time": "2024-04-08T18:51:59.788340",
     "exception": false,
     "start_time": "2024-04-08T18:51:47.137956",
     "status": "completed"
    },
    "tags": []
   },
   "outputs": [],
   "source": [
    "import librosa\n",
    "\n",
    "import numpy as np\n",
    "import pandas as pd\n",
    "import random\n",
    "\n",
    "import torch\n",
    "import torchmetrics\n",
    "import os\n",
    "import torch.nn.functional as F\n",
    "\n",
    "import xgboost\n",
    "from xgboost import XGBClassifier\n",
    "\n",
    "from torch import nn\n",
    "from torch.utils.data import Dataset, DataLoader\n",
    "from sklearn.model_selection import train_test_split\n",
    "from tqdm import tqdm"
   ]
  },
  {
   "cell_type": "code",
   "execution_count": 2,
   "id": "f64eb379-e527-46c4-8b12-ead8db628070",
   "metadata": {},
   "outputs": [],
   "source": [
    "device = torch.device('cuda') if torch.cuda.is_available() else torch.device('cpu')"
   ]
  },
  {
   "cell_type": "markdown",
   "id": "870dbf64",
   "metadata": {},
   "source": [
    "### MLFlow"
   ]
  },
  {
   "cell_type": "code",
   "execution_count": 3,
   "id": "7952f7f4",
   "metadata": {},
   "outputs": [],
   "source": [
    "import mlflow\n",
    "import mlflow.pytorch\n",
    "\n",
    "mlflow.set_experiment('FakeVoice')\n",
    "\n",
    "def mlflow_run_decorator(run_name=None):\n",
    "    def decorator(func):\n",
    "        def wrapper(*args, **kwargs):\n",
    "            mlflow.start_run(run_name=run_name)\n",
    "            try:\n",
    "                result = func(*args, **kwargs)\n",
    "                mlflow.set_tag(\"Status\", \"SUCCEESS\")\n",
    "            except Exception as e:\n",
    "                mlflow.log_param(\"Exception\", e)\n",
    "                mlflow.set_tag(\"Status\", \"FAIL\")\n",
    "                raise e\n",
    "            finally:\n",
    "                mlflow.end_run()\n",
    "            return result\n",
    "        return wrapper\n",
    "    return decorator"
   ]
  },
  {
   "cell_type": "markdown",
   "id": "a0d2de5d",
   "metadata": {
    "papermill": {
     "duration": 0.007241,
     "end_time": "2024-04-08T18:51:59.803571",
     "exception": false,
     "start_time": "2024-04-08T18:51:59.796330",
     "status": "completed"
    },
    "tags": []
   },
   "source": [
    "### Config"
   ]
  },
  {
   "cell_type": "code",
   "execution_count": 4,
   "id": "1a32fb60",
   "metadata": {
    "papermill": {
     "duration": 0.016983,
     "end_time": "2024-04-08T18:51:59.828208",
     "exception": false,
     "start_time": "2024-04-08T18:51:59.811225",
     "status": "completed"
    },
    "tags": []
   },
   "outputs": [],
   "source": [
    "class Config:\n",
    "    SR = 32000\n",
    "    N_MFCC = 40\n",
    "    \n",
    "    # Dataset\n",
    "    ROOT_DIR = 'C:/HongBeomsun/Dataset_SSD/FakeVoice'\n",
    "    \n",
    "    # Training\n",
    "    N_CLASSES = 2\n",
    "    BATCH_SIZE = 64\n",
    "    N_EPOCHS = 70\n",
    "    LEARNING_RATE = 0.1\n",
    "    \n",
    "    # Others\n",
    "    SEED = 42\n",
    "    \n",
    "CONFIG = Config()"
   ]
  },
  {
   "cell_type": "code",
   "execution_count": 5,
   "id": "6700bf8e-7f43-4eac-9bea-25eb1d95fb12",
   "metadata": {},
   "outputs": [],
   "source": [
    "def seed_everything(seed):\n",
    "    random.seed(seed)\n",
    "    os.environ['PYTHONHASHSEED'] = str(seed)\n",
    "    np.random.seed(seed)\n",
    "    torch.manual_seed(seed)\n",
    "    torch.cuda.manual_seed(seed)\n",
    "    torch.backends.cudnn.deterministic = True\n",
    "    torch.backends.cudnn.benchmark = True"
   ]
  },
  {
   "cell_type": "code",
   "execution_count": 6,
   "id": "311e8ed0",
   "metadata": {},
   "outputs": [],
   "source": [
    "seed_everything(CONFIG.SEED)"
   ]
  },
  {
   "cell_type": "markdown",
   "id": "72a91730",
   "metadata": {},
   "source": [
    "### Data"
   ]
  },
  {
   "cell_type": "code",
   "execution_count": 7,
   "id": "af64afde",
   "metadata": {},
   "outputs": [],
   "source": [
    "df = pd.read_csv(os.path.join(CONFIG.ROOT_DIR,'train.csv'))"
   ]
  },
  {
   "cell_type": "code",
   "execution_count": 8,
   "id": "a7481719",
   "metadata": {},
   "outputs": [
    {
     "name": "stdout",
     "output_type": "stream",
     "text": [
      "55438\n"
     ]
    },
    {
     "data": {
      "text/html": [
       "<div>\n",
       "<style scoped>\n",
       "    .dataframe tbody tr th:only-of-type {\n",
       "        vertical-align: middle;\n",
       "    }\n",
       "\n",
       "    .dataframe tbody tr th {\n",
       "        vertical-align: top;\n",
       "    }\n",
       "\n",
       "    .dataframe thead th {\n",
       "        text-align: right;\n",
       "    }\n",
       "</style>\n",
       "<table border=\"1\" class=\"dataframe\">\n",
       "  <thead>\n",
       "    <tr style=\"text-align: right;\">\n",
       "      <th></th>\n",
       "      <th>id</th>\n",
       "      <th>path</th>\n",
       "      <th>label</th>\n",
       "    </tr>\n",
       "  </thead>\n",
       "  <tbody>\n",
       "    <tr>\n",
       "      <th>0</th>\n",
       "      <td>RUNQPNJF</td>\n",
       "      <td>./train/RUNQPNJF.ogg</td>\n",
       "      <td>real</td>\n",
       "    </tr>\n",
       "    <tr>\n",
       "      <th>1</th>\n",
       "      <td>JFAWUOGJ</td>\n",
       "      <td>./train/JFAWUOGJ.ogg</td>\n",
       "      <td>fake</td>\n",
       "    </tr>\n",
       "    <tr>\n",
       "      <th>2</th>\n",
       "      <td>RDKEKEVX</td>\n",
       "      <td>./train/RDKEKEVX.ogg</td>\n",
       "      <td>real</td>\n",
       "    </tr>\n",
       "    <tr>\n",
       "      <th>3</th>\n",
       "      <td>QYHJDOFK</td>\n",
       "      <td>./train/QYHJDOFK.ogg</td>\n",
       "      <td>real</td>\n",
       "    </tr>\n",
       "    <tr>\n",
       "      <th>4</th>\n",
       "      <td>RSPQNHAO</td>\n",
       "      <td>./train/RSPQNHAO.ogg</td>\n",
       "      <td>real</td>\n",
       "    </tr>\n",
       "  </tbody>\n",
       "</table>\n",
       "</div>"
      ],
      "text/plain": [
       "         id                  path label\n",
       "0  RUNQPNJF  ./train/RUNQPNJF.ogg  real\n",
       "1  JFAWUOGJ  ./train/JFAWUOGJ.ogg  fake\n",
       "2  RDKEKEVX  ./train/RDKEKEVX.ogg  real\n",
       "3  QYHJDOFK  ./train/QYHJDOFK.ogg  real\n",
       "4  RSPQNHAO  ./train/RSPQNHAO.ogg  real"
      ]
     },
     "execution_count": 8,
     "metadata": {},
     "output_type": "execute_result"
    }
   ],
   "source": [
    "print(len(df))\n",
    "df.head()"
   ]
  },
  {
   "cell_type": "code",
   "execution_count": 9,
   "id": "1efc1d1d",
   "metadata": {},
   "outputs": [
    {
     "data": {
      "text/plain": [
       "label\n",
       "fake    27818\n",
       "real    27620\n",
       "Name: count, dtype: int64"
      ]
     },
     "execution_count": 9,
     "metadata": {},
     "output_type": "execute_result"
    }
   ],
   "source": [
    "df['label'].value_counts()"
   ]
  },
  {
   "cell_type": "markdown",
   "id": "fc6ed7a4",
   "metadata": {},
   "source": [
    "### Train test split"
   ]
  },
  {
   "cell_type": "code",
   "execution_count": 10,
   "id": "d8c02a7d-dfb6-4f8b-8df1-db2abaa1cb5d",
   "metadata": {},
   "outputs": [],
   "source": [
    "train, val, _, _ = train_test_split(df, df['label'], test_size=0.2, random_state=CONFIG.SEED, stratify=df['label'])"
   ]
  },
  {
   "cell_type": "code",
   "execution_count": 11,
   "id": "3954c5f8",
   "metadata": {},
   "outputs": [
    {
     "data": {
      "text/plain": [
       "label\n",
       "fake    5564\n",
       "real    5524\n",
       "Name: count, dtype: int64"
      ]
     },
     "execution_count": 11,
     "metadata": {},
     "output_type": "execute_result"
    }
   ],
   "source": [
    "train['label'].value_counts()\n",
    "val['label'].value_counts()"
   ]
  },
  {
   "cell_type": "markdown",
   "id": "629d3d15-b971-49e2-a410-71b4cd9cbcf4",
   "metadata": {},
   "source": [
    "### Feature Extraction"
   ]
  },
  {
   "cell_type": "code",
   "execution_count": 12,
   "id": "f4a3fbc7",
   "metadata": {},
   "outputs": [],
   "source": [
    "def noise(data):\n",
    "    noise_amp = 0.01*np.random.uniform()*np.amax(data)\n",
    "    data = data + noise_amp * np.random.normal(size=data.shape[0])\n",
    "    return data\n",
    "\n",
    "def stretch(data, rate=0.8):\n",
    "    stretch_data = librosa.effects.time_stretch(data, rate=rate)\n",
    "    return stretch_data\n",
    "\n",
    "def pitch(data, sampling_rate, pitch_factor=0.7):\n",
    "    pitch_data = librosa.effects.pitch_shift(y=data, sr=sampling_rate, n_steps=pitch_factor)\n",
    "    return pitch_data"
   ]
  },
  {
   "cell_type": "code",
   "execution_count": 13,
   "id": "036c7a4f",
   "metadata": {},
   "outputs": [],
   "source": [
    "def normalize_volume(y, target_dB=-20):\n",
    "    rms = np.sqrt(np.mean(y**2))\n",
    "    loudness = 20 * np.log10(rms)\n",
    "    loudness_change_dB = target_dB - loudness\n",
    "    y_normalized = y * (10 ** (loudness_change_dB / 20))\n",
    "    return y_normalized\n",
    "\n",
    "def load_audio(file_path, sr):\n",
    "    y, sr = librosa.load(file_path, sr=sr)\n",
    "    y = normalize_volume(y)\n",
    "    return y, sr\n",
    "\n",
    "def extract_features(y, sr):\n",
    "    mfcc = np.mean(librosa.feature.mfcc(y=y, sr=sr, n_mfcc=CONFIG.N_MFCC).T, axis=0)\n",
    "    return mfcc\n",
    "\n",
    "def augment_data(y, sr):\n",
    "    augmented_data = []\n",
    "    augmented_data.append(noise(y))\n",
    "    augmented_data.append(stretch(y))\n",
    "    augmented_data.append(pitch(y, sr))\n",
    "    return augmented_data\n",
    "\n",
    "def create_void_data(data, sr):\n",
    "    void_data = np.zeros_like(data)\n",
    "    void_data = noise(void_data)\n",
    "    return void_data\n",
    "\n",
    "def create_duo_data(data1, data2, sr):\n",
    "    if len(data1) > len(data2):\n",
    "        data2 = np.pad(data2, (0, len(data1)-len(data2)), 'constant')\n",
    "    else:\n",
    "        data1 = np.pad(data1, (0, len(data2)-len(data1)), 'constant')\n",
    "        \n",
    "    duo_data = data1 + data2\n",
    "    max_val = np.max(np.abs(duo_data))\n",
    "    if max_val > 1:\n",
    "        duo_data = duo_data / max_val\n",
    "    \n",
    "    return duo_data\n",
    "\n",
    "def mix_two_random_data(df, sr):\n",
    "    idx1, idx2 = random.sample(range(len(df)), 2)\n",
    "    y1, _ = load_audio(os.path.join(CONFIG.ROOT_DIR, df.iloc[idx1]['path']), sr)\n",
    "    y2, _ = load_audio(os.path.join(CONFIG.ROOT_DIR, df.iloc[idx2]['path']), sr)\n",
    "    y_duo = create_duo_data(y1, y2, sr)\n",
    "    label_y1 = df.iloc[idx1]['label']\n",
    "    label_y2 = df.iloc[idx2]['label']\n",
    "    \n",
    "    label_vector = np.zeros(CONFIG.N_CLASSES, dtype=float)\n",
    "    label_vector[0 if label_y1 == 'fake' else 1] = 1\n",
    "    label_vector[0 if label_y2 == 'fake' else 1] = 1\n",
    "    \n",
    "    return y_duo, label_vector"
   ]
  },
  {
   "cell_type": "code",
   "execution_count": 14,
   "id": "d1bdd0ba-fe6e-4efa-b785-af0389c50b56",
   "metadata": {},
   "outputs": [],
   "source": [
    "def get_features(df, train_mode=True, augment=False):\n",
    "    features = []\n",
    "    labels = []\n",
    "    total = len(df)\n",
    "    \n",
    "    for i, (index, row) in enumerate(tqdm(df.iterrows(), total=total), 1):\n",
    "        y, sr = load_audio(os.path.join(CONFIG.ROOT_DIR, row['path']), CONFIG.SR)\n",
    "        \n",
    "        if train_mode:\n",
    "            label = row['label']\n",
    "            label_vector = np.zeros(CONFIG.N_CLASSES, dtype=float)\n",
    "            label_vector[0 if label == 'fake' else 1] = 1\n",
    "            labels.append(label_vector)\n",
    "        \n",
    "        features.append(extract_features(y, sr))\n",
    "    \n",
    "    if augment:\n",
    "        augmented_features = []\n",
    "        augmented_labels = []\n",
    "        \n",
    "        num_mixed_samples = int(total * 0.1)\n",
    "        for _ in range(num_mixed_samples):\n",
    "            try:\n",
    "                y_duo, y_duo_label = mix_two_random_data(df, CONFIG.SR)\n",
    "                augmented_features.append(extract_features(y_duo, CONFIG.SR))\n",
    "                augmented_labels.append(y_duo_label)\n",
    "            except Exception as e:\n",
    "                print(f'Error during data augmentation: {e}')\n",
    "                continue\n",
    "        \n",
    "        num_augmented_samples = int(total * 0.2)\n",
    "        original_features = list(features)\n",
    "        original_labels = list(labels)\n",
    "        for idx in range(num_augmented_samples):\n",
    "            try:\n",
    "                augmented_data = augment_data(original_features[idx], CONFIG.SR)\n",
    "                for aug_y in augmented_data:\n",
    "                    augmented_features.append(extract_features(aug_y, CONFIG.SR))\n",
    "                    augmented_labels.append(original_labels[idx])\n",
    "            except Exception as e:\n",
    "                print(f'Error during augmentation: {e}')\n",
    "                continue\n",
    "        \n",
    "        features.extend(augmented_features)\n",
    "        labels.extend(augmented_labels)\n",
    "    \n",
    "    if train_mode:\n",
    "        return np.array(features), np.array(labels)\n",
    "    return np.array(features)"
   ]
  },
  {
   "cell_type": "code",
   "execution_count": 15,
   "id": "6c94de88",
   "metadata": {},
   "outputs": [],
   "source": [
    "# train_features, train_labels = get_features(train, train_mode=True, augment=True)\n",
    "# val_features, val_labels = get_features(val, train_mode=True, augment=False)"
   ]
  },
  {
   "cell_type": "code",
   "execution_count": 16,
   "id": "94cb0716",
   "metadata": {},
   "outputs": [],
   "source": [
    "def save_np():\n",
    "    os.makedirs(os.path.join(CONFIG.ROOT_DIR, 'npy'), exist_ok=True)\n",
    "    np.save(os.path.join(CONFIG.ROOT_DIR, 'npy/train_features_VariousFeatures_1000.npy'), train_features)\n",
    "    np.save(os.path.join(CONFIG.ROOT_DIR, 'npy/train_labels_VariousFeatures_1000.npy'), train_labels)\n",
    "    np.save(os.path.join(CONFIG.ROOT_DIR, 'npy/val_features_VariousFeatures_1000.npy'), val_features)\n",
    "    np.save(os.path.join(CONFIG.ROOT_DIR, 'npy/val_labels_VariousFeatures_1000.npy'), val_labels)"
   ]
  },
  {
   "cell_type": "code",
   "execution_count": 17,
   "id": "f02323f1",
   "metadata": {},
   "outputs": [],
   "source": [
    "def load_np():\n",
    "    train_features = np.load(os.path.join(CONFIG.ROOT_DIR, 'npy/train_features_VariousFeatures_1000.npy'))\n",
    "    train_labels = np.load(os.path.join(CONFIG.ROOT_DIR, 'npy/train_labels_VariousFeatures_1000.npy'))\n",
    "    val_features = np.load(os.path.join(CONFIG.ROOT_DIR, 'npy/val_features_VariousFeatures_1000.npy'))\n",
    "    val_labels = np.load(os.path.join(CONFIG.ROOT_DIR, 'npy/val_labels_VariousFeatures_1000.npy'))\n",
    "    \n",
    "    return train_features, train_labels, val_features, val_labels"
   ]
  },
  {
   "cell_type": "code",
   "execution_count": 18,
   "id": "bc3efbbf",
   "metadata": {},
   "outputs": [],
   "source": [
    "# save_np()\n",
    "train_features, train_labels, val_features, val_labels = load_np()"
   ]
  },
  {
   "cell_type": "code",
   "execution_count": 19,
   "id": "150de3fe",
   "metadata": {},
   "outputs": [],
   "source": [
    "train_features = np.array(train_features)\n",
    "train_labels = np.array(train_labels)\n",
    "val_features = np.array(val_features)\n",
    "val_labels = np.array(val_labels)"
   ]
  },
  {
   "cell_type": "code",
   "execution_count": 20,
   "id": "25233d33",
   "metadata": {},
   "outputs": [
    {
     "name": "stdout",
     "output_type": "stream",
     "text": [
      "(197400, 181) 197400\n",
      "(11088, 181) 11088\n"
     ]
    }
   ],
   "source": [
    "print(train_features.shape, len(train_labels))\n",
    "print(val_features.shape, len(val_labels))"
   ]
  },
  {
   "cell_type": "markdown",
   "id": "c884ecc6",
   "metadata": {},
   "source": [
    "### Scaling"
   ]
  },
  {
   "cell_type": "code",
   "execution_count": 21,
   "id": "04f39b3f",
   "metadata": {},
   "outputs": [],
   "source": [
    "from sklearn.preprocessing import StandardScaler\n",
    "scaler = StandardScaler()"
   ]
  },
  {
   "cell_type": "code",
   "execution_count": 22,
   "id": "4ca7a554",
   "metadata": {},
   "outputs": [],
   "source": [
    "train_features = scaler.fit_transform(train_features)\n",
    "val_features = scaler.transform(val_features)"
   ]
  },
  {
   "cell_type": "markdown",
   "id": "8a682d49",
   "metadata": {
    "papermill": {
     "duration": 0.007331,
     "end_time": "2024-04-08T18:52:31.507909",
     "exception": false,
     "start_time": "2024-04-08T18:52:31.500578",
     "status": "completed"
    },
    "tags": []
   },
   "source": [
    "### Dataset"
   ]
  },
  {
   "cell_type": "code",
   "execution_count": 23,
   "id": "28281307",
   "metadata": {},
   "outputs": [],
   "source": [
    "train_data = xgboost.DMatrix(train_features, label=train_labels)\n",
    "val_data = xgboost.DMatrix(val_features, label=val_labels)"
   ]
  },
  {
   "cell_type": "markdown",
   "id": "effb3435-cdb7-4a31-b7ef-fc16237cfc4a",
   "metadata": {},
   "source": [
    "### Define Model"
   ]
  },
  {
   "cell_type": "code",
   "execution_count": 39,
   "id": "ad5ebee7",
   "metadata": {},
   "outputs": [],
   "source": [
    "@mlflow_run_decorator(run_name=\"XGBoost_Augment\")\n",
    "def train_xgboost(train_features, train_labels, val_features, val_labels):\n",
    "    models = []\n",
    "    for i in range(CONFIG.N_CLASSES):\n",
    "        print(f\"Training model for label {i}\")\n",
    "        model = XGBClassifier(\n",
    "            random_state=CONFIG.SEED,\n",
    "            tree_method='gpu_hist',\n",
    "            gpu_id=0,\n",
    "            n_jobs=-1,\n",
    "            objective='binary:logistic',\n",
    "            n_estimators=CONFIG.N_EPOCHS,\n",
    "            learning_rate=CONFIG.LEARNING_RATE,\n",
    "            eval_metric='logloss'\n",
    "        )\n",
    "        \n",
    "        eval_set = [(train_features, train_labels[:, i]), (val_features, val_labels[:, i])]\n",
    "        model.fit(\n",
    "            train_features,\n",
    "            train_labels[:, i],\n",
    "            eval_set=eval_set,\n",
    "            verbose=True\n",
    "        )\n",
    "        models.append(model)\n",
    "    return models"
   ]
  },
  {
   "cell_type": "code",
   "execution_count": 40,
   "id": "89f1742a",
   "metadata": {},
   "outputs": [
    {
     "name": "stdout",
     "output_type": "stream",
     "text": [
      "Training model for label 0\n"
     ]
    },
    {
     "name": "stderr",
     "output_type": "stream",
     "text": [
      "d:\\Python312\\Lib\\site-packages\\xgboost\\core.py:158: UserWarning: [21:32:33] WARNING: C:\\buildkite-agent\\builds\\buildkite-windows-cpu-autoscaling-group-i-06abd128ca6c1688d-1\\xgboost\\xgboost-ci-windows\\src\\common\\error_msg.cc:45: `gpu_id` is deprecated since2.0.0, use `device` instead. E.g. device=cpu/cuda/cuda:0\n",
      "  warnings.warn(smsg, UserWarning)\n",
      "d:\\Python312\\Lib\\site-packages\\xgboost\\core.py:158: UserWarning: [21:32:33] WARNING: C:\\buildkite-agent\\builds\\buildkite-windows-cpu-autoscaling-group-i-06abd128ca6c1688d-1\\xgboost\\xgboost-ci-windows\\src\\common\\error_msg.cc:27: The tree method `gpu_hist` is deprecated since 2.0.0. To use GPU training, set the `device` parameter to CUDA instead.\n",
      "\n",
      "    E.g. tree_method = \"hist\", device = \"cuda\"\n",
      "\n",
      "  warnings.warn(smsg, UserWarning)\n"
     ]
    },
    {
     "name": "stdout",
     "output_type": "stream",
     "text": [
      "[0]\tvalidation_0-logloss:0.65482\tvalidation_1-logloss:0.64786\n",
      "[1]\tvalidation_0-logloss:0.62309\tvalidation_1-logloss:0.60518\n",
      "[2]\tvalidation_0-logloss:0.59459\tvalidation_1-logloss:0.56799\n",
      "[3]\tvalidation_0-logloss:0.56877\tvalidation_1-logloss:0.53255\n",
      "[4]\tvalidation_0-logloss:0.54605\tvalidation_1-logloss:0.49834\n",
      "[5]\tvalidation_0-logloss:0.52546\tvalidation_1-logloss:0.47109\n",
      "[6]\tvalidation_0-logloss:0.50805\tvalidation_1-logloss:0.45234\n",
      "[7]\tvalidation_0-logloss:0.49190\tvalidation_1-logloss:0.43161\n",
      "[8]\tvalidation_0-logloss:0.47657\tvalidation_1-logloss:0.40872\n",
      "[9]\tvalidation_0-logloss:0.46272\tvalidation_1-logloss:0.38886\n",
      "[10]\tvalidation_0-logloss:0.45122\tvalidation_1-logloss:0.37443\n",
      "[11]\tvalidation_0-logloss:0.43750\tvalidation_1-logloss:0.36145\n",
      "[12]\tvalidation_0-logloss:0.42711\tvalidation_1-logloss:0.34780\n",
      "[13]\tvalidation_0-logloss:0.41557\tvalidation_1-logloss:0.33684\n",
      "[14]\tvalidation_0-logloss:0.40508\tvalidation_1-logloss:0.32470\n",
      "[15]\tvalidation_0-logloss:0.39639\tvalidation_1-logloss:0.31554\n",
      "[16]\tvalidation_0-logloss:0.38940\tvalidation_1-logloss:0.30613\n",
      "[17]\tvalidation_0-logloss:0.38201\tvalidation_1-logloss:0.29442\n",
      "[18]\tvalidation_0-logloss:0.37531\tvalidation_1-logloss:0.28207\n",
      "[19]\tvalidation_0-logloss:0.36778\tvalidation_1-logloss:0.27349\n",
      "[20]\tvalidation_0-logloss:0.36114\tvalidation_1-logloss:0.26560\n",
      "[21]\tvalidation_0-logloss:0.35471\tvalidation_1-logloss:0.25813\n",
      "[22]\tvalidation_0-logloss:0.35085\tvalidation_1-logloss:0.25358\n",
      "[23]\tvalidation_0-logloss:0.34403\tvalidation_1-logloss:0.24604\n",
      "[24]\tvalidation_0-logloss:0.34051\tvalidation_1-logloss:0.24428\n",
      "[25]\tvalidation_0-logloss:0.33585\tvalidation_1-logloss:0.23725\n",
      "[26]\tvalidation_0-logloss:0.33077\tvalidation_1-logloss:0.22935\n",
      "[27]\tvalidation_0-logloss:0.32687\tvalidation_1-logloss:0.22935\n",
      "[28]\tvalidation_0-logloss:0.32148\tvalidation_1-logloss:0.22438\n",
      "[29]\tvalidation_0-logloss:0.31744\tvalidation_1-logloss:0.21997\n",
      "[30]\tvalidation_0-logloss:0.31483\tvalidation_1-logloss:0.21909\n",
      "[31]\tvalidation_0-logloss:0.31110\tvalidation_1-logloss:0.21367\n",
      "[32]\tvalidation_0-logloss:0.30765\tvalidation_1-logloss:0.20691\n",
      "[33]\tvalidation_0-logloss:0.30533\tvalidation_1-logloss:0.20476\n",
      "[34]\tvalidation_0-logloss:0.30239\tvalidation_1-logloss:0.19770\n",
      "[35]\tvalidation_0-logloss:0.29848\tvalidation_1-logloss:0.19697\n",
      "[36]\tvalidation_0-logloss:0.29524\tvalidation_1-logloss:0.19174\n",
      "[37]\tvalidation_0-logloss:0.29384\tvalidation_1-logloss:0.18884\n",
      "[38]\tvalidation_0-logloss:0.29041\tvalidation_1-logloss:0.18604\n",
      "[39]\tvalidation_0-logloss:0.28816\tvalidation_1-logloss:0.18123\n",
      "[40]\tvalidation_0-logloss:0.28576\tvalidation_1-logloss:0.18126\n",
      "[41]\tvalidation_0-logloss:0.28327\tvalidation_1-logloss:0.17765\n",
      "[42]\tvalidation_0-logloss:0.28136\tvalidation_1-logloss:0.17043\n",
      "[43]\tvalidation_0-logloss:0.27906\tvalidation_1-logloss:0.16974\n",
      "[44]\tvalidation_0-logloss:0.27648\tvalidation_1-logloss:0.16842\n",
      "[45]\tvalidation_0-logloss:0.27446\tvalidation_1-logloss:0.16845\n",
      "[46]\tvalidation_0-logloss:0.27275\tvalidation_1-logloss:0.16231\n",
      "[47]\tvalidation_0-logloss:0.26983\tvalidation_1-logloss:0.15995\n",
      "[48]\tvalidation_0-logloss:0.26709\tvalidation_1-logloss:0.15984\n",
      "[49]\tvalidation_0-logloss:0.26398\tvalidation_1-logloss:0.15456\n",
      "[50]\tvalidation_0-logloss:0.26007\tvalidation_1-logloss:0.15333\n",
      "[51]\tvalidation_0-logloss:0.25799\tvalidation_1-logloss:0.14924\n",
      "[52]\tvalidation_0-logloss:0.25558\tvalidation_1-logloss:0.14657\n",
      "[53]\tvalidation_0-logloss:0.25404\tvalidation_1-logloss:0.14613\n",
      "[54]\tvalidation_0-logloss:0.25262\tvalidation_1-logloss:0.14137\n",
      "[55]\tvalidation_0-logloss:0.24954\tvalidation_1-logloss:0.13863\n",
      "[56]\tvalidation_0-logloss:0.24734\tvalidation_1-logloss:0.13676\n",
      "[57]\tvalidation_0-logloss:0.24501\tvalidation_1-logloss:0.13672\n",
      "[58]\tvalidation_0-logloss:0.24263\tvalidation_1-logloss:0.13662\n",
      "[59]\tvalidation_0-logloss:0.24149\tvalidation_1-logloss:0.13386\n",
      "[60]\tvalidation_0-logloss:0.23975\tvalidation_1-logloss:0.13388\n",
      "[61]\tvalidation_0-logloss:0.23838\tvalidation_1-logloss:0.13148\n",
      "[62]\tvalidation_0-logloss:0.23722\tvalidation_1-logloss:0.12759\n",
      "[63]\tvalidation_0-logloss:0.23561\tvalidation_1-logloss:0.12756\n",
      "[64]\tvalidation_0-logloss:0.23395\tvalidation_1-logloss:0.12694\n",
      "[65]\tvalidation_0-logloss:0.23302\tvalidation_1-logloss:0.12357\n",
      "[66]\tvalidation_0-logloss:0.23107\tvalidation_1-logloss:0.12209\n",
      "[67]\tvalidation_0-logloss:0.22914\tvalidation_1-logloss:0.12219\n",
      "[68]\tvalidation_0-logloss:0.22723\tvalidation_1-logloss:0.12075\n",
      "[69]\tvalidation_0-logloss:0.22588\tvalidation_1-logloss:0.11900\n",
      "Training model for label 1\n",
      "[0]\tvalidation_0-logloss:0.65231\tvalidation_1-logloss:0.64284\n",
      "[1]\tvalidation_0-logloss:0.61543\tvalidation_1-logloss:0.59770\n",
      "[2]\tvalidation_0-logloss:0.58563\tvalidation_1-logloss:0.55860\n",
      "[3]\tvalidation_0-logloss:0.55612\tvalidation_1-logloss:0.51888\n"
     ]
    },
    {
     "name": "stderr",
     "output_type": "stream",
     "text": [
      "d:\\Python312\\Lib\\site-packages\\xgboost\\core.py:158: UserWarning: [21:32:37] WARNING: C:\\buildkite-agent\\builds\\buildkite-windows-cpu-autoscaling-group-i-06abd128ca6c1688d-1\\xgboost\\xgboost-ci-windows\\src\\common\\error_msg.cc:27: The tree method `gpu_hist` is deprecated since 2.0.0. To use GPU training, set the `device` parameter to CUDA instead.\n",
      "\n",
      "    E.g. tree_method = \"hist\", device = \"cuda\"\n",
      "\n",
      "  warnings.warn(smsg, UserWarning)\n"
     ]
    },
    {
     "name": "stdout",
     "output_type": "stream",
     "text": [
      "[4]\tvalidation_0-logloss:0.53096\tvalidation_1-logloss:0.48822\n",
      "[5]\tvalidation_0-logloss:0.50578\tvalidation_1-logloss:0.46137\n",
      "[6]\tvalidation_0-logloss:0.48631\tvalidation_1-logloss:0.43769\n",
      "[7]\tvalidation_0-logloss:0.46480\tvalidation_1-logloss:0.41859\n",
      "[8]\tvalidation_0-logloss:0.44917\tvalidation_1-logloss:0.39826\n",
      "[9]\tvalidation_0-logloss:0.43292\tvalidation_1-logloss:0.38116\n",
      "[10]\tvalidation_0-logloss:0.41951\tvalidation_1-logloss:0.36534\n",
      "[11]\tvalidation_0-logloss:0.40479\tvalidation_1-logloss:0.35319\n",
      "[12]\tvalidation_0-logloss:0.39296\tvalidation_1-logloss:0.33742\n",
      "[13]\tvalidation_0-logloss:0.38138\tvalidation_1-logloss:0.32553\n",
      "[14]\tvalidation_0-logloss:0.37049\tvalidation_1-logloss:0.30884\n",
      "[15]\tvalidation_0-logloss:0.36097\tvalidation_1-logloss:0.30238\n",
      "[16]\tvalidation_0-logloss:0.35185\tvalidation_1-logloss:0.29755\n",
      "[17]\tvalidation_0-logloss:0.34324\tvalidation_1-logloss:0.28151\n",
      "[18]\tvalidation_0-logloss:0.33383\tvalidation_1-logloss:0.27191\n",
      "[19]\tvalidation_0-logloss:0.32575\tvalidation_1-logloss:0.26124\n",
      "[20]\tvalidation_0-logloss:0.31816\tvalidation_1-logloss:0.25865\n",
      "[21]\tvalidation_0-logloss:0.31098\tvalidation_1-logloss:0.24993\n",
      "[22]\tvalidation_0-logloss:0.30501\tvalidation_1-logloss:0.24278\n",
      "[23]\tvalidation_0-logloss:0.29909\tvalidation_1-logloss:0.24235\n",
      "[24]\tvalidation_0-logloss:0.29317\tvalidation_1-logloss:0.23624\n",
      "[25]\tvalidation_0-logloss:0.28667\tvalidation_1-logloss:0.22905\n",
      "[26]\tvalidation_0-logloss:0.28184\tvalidation_1-logloss:0.22373\n",
      "[27]\tvalidation_0-logloss:0.27835\tvalidation_1-logloss:0.22187\n",
      "[28]\tvalidation_0-logloss:0.27459\tvalidation_1-logloss:0.21391\n",
      "[29]\tvalidation_0-logloss:0.26945\tvalidation_1-logloss:0.20760\n",
      "[30]\tvalidation_0-logloss:0.26457\tvalidation_1-logloss:0.20683\n",
      "[31]\tvalidation_0-logloss:0.25928\tvalidation_1-logloss:0.19857\n",
      "[32]\tvalidation_0-logloss:0.25455\tvalidation_1-logloss:0.19463\n",
      "[33]\tvalidation_0-logloss:0.25060\tvalidation_1-logloss:0.19458\n",
      "[34]\tvalidation_0-logloss:0.24672\tvalidation_1-logloss:0.18719\n",
      "[35]\tvalidation_0-logloss:0.24158\tvalidation_1-logloss:0.18105\n",
      "[36]\tvalidation_0-logloss:0.23822\tvalidation_1-logloss:0.17641\n",
      "[37]\tvalidation_0-logloss:0.23430\tvalidation_1-logloss:0.17638\n",
      "[38]\tvalidation_0-logloss:0.23049\tvalidation_1-logloss:0.17120\n",
      "[39]\tvalidation_0-logloss:0.22745\tvalidation_1-logloss:0.16784\n",
      "[40]\tvalidation_0-logloss:0.22510\tvalidation_1-logloss:0.16783\n",
      "[41]\tvalidation_0-logloss:0.22249\tvalidation_1-logloss:0.16092\n",
      "[42]\tvalidation_0-logloss:0.21822\tvalidation_1-logloss:0.15575\n",
      "[43]\tvalidation_0-logloss:0.21617\tvalidation_1-logloss:0.15434\n",
      "[44]\tvalidation_0-logloss:0.21326\tvalidation_1-logloss:0.15033\n",
      "[45]\tvalidation_0-logloss:0.21121\tvalidation_1-logloss:0.14780\n",
      "[46]\tvalidation_0-logloss:0.20911\tvalidation_1-logloss:0.14714\n",
      "[47]\tvalidation_0-logloss:0.20723\tvalidation_1-logloss:0.14710\n",
      "[48]\tvalidation_0-logloss:0.20457\tvalidation_1-logloss:0.14660\n",
      "[49]\tvalidation_0-logloss:0.20158\tvalidation_1-logloss:0.14265\n",
      "[50]\tvalidation_0-logloss:0.19982\tvalidation_1-logloss:0.13840\n",
      "[51]\tvalidation_0-logloss:0.19821\tvalidation_1-logloss:0.13845\n",
      "[52]\tvalidation_0-logloss:0.19585\tvalidation_1-logloss:0.13530\n",
      "[53]\tvalidation_0-logloss:0.19428\tvalidation_1-logloss:0.13123\n",
      "[54]\tvalidation_0-logloss:0.19193\tvalidation_1-logloss:0.13086\n",
      "[55]\tvalidation_0-logloss:0.18963\tvalidation_1-logloss:0.13080\n",
      "[56]\tvalidation_0-logloss:0.18730\tvalidation_1-logloss:0.12827\n",
      "[57]\tvalidation_0-logloss:0.18523\tvalidation_1-logloss:0.12702\n",
      "[58]\tvalidation_0-logloss:0.18287\tvalidation_1-logloss:0.12548\n",
      "[59]\tvalidation_0-logloss:0.18026\tvalidation_1-logloss:0.12147\n",
      "[60]\tvalidation_0-logloss:0.17816\tvalidation_1-logloss:0.12001\n",
      "[61]\tvalidation_0-logloss:0.17557\tvalidation_1-logloss:0.11570\n",
      "[62]\tvalidation_0-logloss:0.17367\tvalidation_1-logloss:0.11504\n",
      "[63]\tvalidation_0-logloss:0.17264\tvalidation_1-logloss:0.11367\n",
      "[64]\tvalidation_0-logloss:0.17036\tvalidation_1-logloss:0.10978\n",
      "[65]\tvalidation_0-logloss:0.16900\tvalidation_1-logloss:0.10977\n",
      "[66]\tvalidation_0-logloss:0.16732\tvalidation_1-logloss:0.10711\n",
      "[67]\tvalidation_0-logloss:0.16525\tvalidation_1-logloss:0.10646\n",
      "[68]\tvalidation_0-logloss:0.16361\tvalidation_1-logloss:0.10276\n",
      "[69]\tvalidation_0-logloss:0.16250\tvalidation_1-logloss:0.10265\n"
     ]
    }
   ],
   "source": [
    "models = train_xgboost(train_features, train_labels, val_features, val_labels)"
   ]
  },
  {
   "cell_type": "markdown",
   "id": "a978b0e6-b773-423a-93e4-ce463f4d4d84",
   "metadata": {},
   "source": [
    "### Inference"
   ]
  },
  {
   "cell_type": "code",
   "execution_count": 42,
   "id": "b7f0d71c",
   "metadata": {},
   "outputs": [
    {
     "data": {
      "text/html": [
       "<div>\n",
       "<style scoped>\n",
       "    .dataframe tbody tr th:only-of-type {\n",
       "        vertical-align: middle;\n",
       "    }\n",
       "\n",
       "    .dataframe tbody tr th {\n",
       "        vertical-align: top;\n",
       "    }\n",
       "\n",
       "    .dataframe thead th {\n",
       "        text-align: right;\n",
       "    }\n",
       "</style>\n",
       "<table border=\"1\" class=\"dataframe\">\n",
       "  <thead>\n",
       "    <tr style=\"text-align: right;\">\n",
       "      <th></th>\n",
       "      <th>id</th>\n",
       "      <th>path</th>\n",
       "    </tr>\n",
       "  </thead>\n",
       "  <tbody>\n",
       "    <tr>\n",
       "      <th>0</th>\n",
       "      <td>TEST_00000</td>\n",
       "      <td>./test/TEST_00000.ogg</td>\n",
       "    </tr>\n",
       "    <tr>\n",
       "      <th>1</th>\n",
       "      <td>TEST_00001</td>\n",
       "      <td>./test/TEST_00001.ogg</td>\n",
       "    </tr>\n",
       "    <tr>\n",
       "      <th>2</th>\n",
       "      <td>TEST_00002</td>\n",
       "      <td>./test/TEST_00002.ogg</td>\n",
       "    </tr>\n",
       "    <tr>\n",
       "      <th>3</th>\n",
       "      <td>TEST_00003</td>\n",
       "      <td>./test/TEST_00003.ogg</td>\n",
       "    </tr>\n",
       "    <tr>\n",
       "      <th>4</th>\n",
       "      <td>TEST_00004</td>\n",
       "      <td>./test/TEST_00004.ogg</td>\n",
       "    </tr>\n",
       "  </tbody>\n",
       "</table>\n",
       "</div>"
      ],
      "text/plain": [
       "           id                   path\n",
       "0  TEST_00000  ./test/TEST_00000.ogg\n",
       "1  TEST_00001  ./test/TEST_00001.ogg\n",
       "2  TEST_00002  ./test/TEST_00002.ogg\n",
       "3  TEST_00003  ./test/TEST_00003.ogg\n",
       "4  TEST_00004  ./test/TEST_00004.ogg"
      ]
     },
     "execution_count": 42,
     "metadata": {},
     "output_type": "execute_result"
    }
   ],
   "source": [
    "test = pd.read_csv(os.path.join(CONFIG.ROOT_DIR, 'test.csv'))\n",
    "test.head()"
   ]
  },
  {
   "cell_type": "code",
   "execution_count": 43,
   "id": "a2128941",
   "metadata": {},
   "outputs": [],
   "source": [
    "# test_mfcc = get_features(test, train_mode=False, augment=False)"
   ]
  },
  {
   "cell_type": "code",
   "execution_count": 44,
   "id": "a5e129df",
   "metadata": {},
   "outputs": [],
   "source": [
    "# np.save(os.path.join(CONFIG.ROOT_DIR, 'npy/test_VariousFeatures_1000.npy'), test_mfcc)\n",
    "test_mfcc = np.load(os.path.join(CONFIG.ROOT_DIR, 'npy/test_VariousFeatures_1000.npy'))"
   ]
  },
  {
   "cell_type": "code",
   "execution_count": 46,
   "id": "5889b493-d760-4cac-9ced-c3715195e8be",
   "metadata": {},
   "outputs": [],
   "source": [
    "def inference(models, test_features):\n",
    "    predictions = []\n",
    "    for model in models:\n",
    "        preds = model.predict_proba(test_features)[:, 1]\n",
    "        predictions.append(preds)\n",
    "    return np.vstack(predictions).T"
   ]
  },
  {
   "cell_type": "code",
   "execution_count": 47,
   "id": "cd74fe5f-82f1-4ad7-818f-509e1bea642d",
   "metadata": {},
   "outputs": [
    {
     "name": "stderr",
     "output_type": "stream",
     "text": [
      "d:\\Python312\\Lib\\site-packages\\xgboost\\core.py:158: UserWarning: [21:34:39] WARNING: C:\\buildkite-agent\\builds\\buildkite-windows-cpu-autoscaling-group-i-06abd128ca6c1688d-1\\xgboost\\xgboost-ci-windows\\src\\common\\error_msg.cc:27: The tree method `gpu_hist` is deprecated since 2.0.0. To use GPU training, set the `device` parameter to CUDA instead.\n",
      "\n",
      "    E.g. tree_method = \"hist\", device = \"cuda\"\n",
      "\n",
      "  warnings.warn(smsg, UserWarning)\n",
      "d:\\Python312\\Lib\\site-packages\\xgboost\\core.py:158: UserWarning: [21:34:39] WARNING: C:\\buildkite-agent\\builds\\buildkite-windows-cpu-autoscaling-group-i-06abd128ca6c1688d-1\\xgboost\\xgboost-ci-windows\\src\\common\\error_msg.cc:58: Falling back to prediction using DMatrix due to mismatched devices. This might lead to higher memory usage and slower performance. XGBoost is running on: cuda:0, while the input data is on: cpu.\n",
      "Potential solutions:\n",
      "- Use a data structure that matches the device ordinal in the booster.\n",
      "- Set the device for booster before call to inplace_predict.\n",
      "\n",
      "This warning will only be shown once.\n",
      "\n",
      "  warnings.warn(smsg, UserWarning)\n",
      "d:\\Python312\\Lib\\site-packages\\xgboost\\core.py:158: UserWarning: [21:34:40] WARNING: C:\\buildkite-agent\\builds\\buildkite-windows-cpu-autoscaling-group-i-06abd128ca6c1688d-1\\xgboost\\xgboost-ci-windows\\src\\common\\error_msg.cc:27: The tree method `gpu_hist` is deprecated since 2.0.0. To use GPU training, set the `device` parameter to CUDA instead.\n",
      "\n",
      "    E.g. tree_method = \"hist\", device = \"cuda\"\n",
      "\n",
      "  warnings.warn(smsg, UserWarning)\n"
     ]
    }
   ],
   "source": [
    "preds = inference(models, test_mfcc)"
   ]
  },
  {
   "cell_type": "code",
   "execution_count": 51,
   "id": "e56ac37d",
   "metadata": {},
   "outputs": [
    {
     "data": {
      "text/plain": [
       "array([0.80321026, 0.5836144 ], dtype=float32)"
      ]
     },
     "execution_count": 51,
     "metadata": {},
     "output_type": "execute_result"
    }
   ],
   "source": [
    "preds[0]"
   ]
  },
  {
   "cell_type": "markdown",
   "id": "a8fae66d-8f54-46d5-9201-0f4b0db76e76",
   "metadata": {},
   "source": [
    "### Submission"
   ]
  },
  {
   "cell_type": "code",
   "execution_count": 53,
   "id": "3f8314c4-1dce-4f79-9f3d-77d320a3746e",
   "metadata": {},
   "outputs": [
    {
     "name": "stderr",
     "output_type": "stream",
     "text": [
      "C:\\Users\\ghsqj\\AppData\\Local\\Temp\\ipykernel_13680\\3289073752.py:2: FutureWarning: Setting an item of incompatible dtype is deprecated and will raise in a future error of pandas. Value '[0.80321026 0.7828184  0.86060077 ... 0.7663028  0.46202686 0.79086316]' has dtype incompatible with int64, please explicitly cast to a compatible dtype first.\n",
      "  submit.iloc[:, 1:] = preds\n",
      "C:\\Users\\ghsqj\\AppData\\Local\\Temp\\ipykernel_13680\\3289073752.py:2: FutureWarning: Setting an item of incompatible dtype is deprecated and will raise in a future error of pandas. Value '[0.5836144  0.5488171  0.57582295 ... 0.6097174  0.6750703  0.4221702 ]' has dtype incompatible with int64, please explicitly cast to a compatible dtype first.\n",
      "  submit.iloc[:, 1:] = preds\n"
     ]
    },
    {
     "data": {
      "text/html": [
       "<div>\n",
       "<style scoped>\n",
       "    .dataframe tbody tr th:only-of-type {\n",
       "        vertical-align: middle;\n",
       "    }\n",
       "\n",
       "    .dataframe tbody tr th {\n",
       "        vertical-align: top;\n",
       "    }\n",
       "\n",
       "    .dataframe thead th {\n",
       "        text-align: right;\n",
       "    }\n",
       "</style>\n",
       "<table border=\"1\" class=\"dataframe\">\n",
       "  <thead>\n",
       "    <tr style=\"text-align: right;\">\n",
       "      <th></th>\n",
       "      <th>id</th>\n",
       "      <th>fake</th>\n",
       "      <th>real</th>\n",
       "    </tr>\n",
       "  </thead>\n",
       "  <tbody>\n",
       "    <tr>\n",
       "      <th>0</th>\n",
       "      <td>TEST_00000</td>\n",
       "      <td>0.803210</td>\n",
       "      <td>0.583614</td>\n",
       "    </tr>\n",
       "    <tr>\n",
       "      <th>1</th>\n",
       "      <td>TEST_00001</td>\n",
       "      <td>0.782818</td>\n",
       "      <td>0.548817</td>\n",
       "    </tr>\n",
       "    <tr>\n",
       "      <th>2</th>\n",
       "      <td>TEST_00002</td>\n",
       "      <td>0.860601</td>\n",
       "      <td>0.575823</td>\n",
       "    </tr>\n",
       "    <tr>\n",
       "      <th>3</th>\n",
       "      <td>TEST_00003</td>\n",
       "      <td>0.669753</td>\n",
       "      <td>0.149042</td>\n",
       "    </tr>\n",
       "    <tr>\n",
       "      <th>4</th>\n",
       "      <td>TEST_00004</td>\n",
       "      <td>0.830531</td>\n",
       "      <td>0.316183</td>\n",
       "    </tr>\n",
       "  </tbody>\n",
       "</table>\n",
       "</div>"
      ],
      "text/plain": [
       "           id      fake      real\n",
       "0  TEST_00000  0.803210  0.583614\n",
       "1  TEST_00001  0.782818  0.548817\n",
       "2  TEST_00002  0.860601  0.575823\n",
       "3  TEST_00003  0.669753  0.149042\n",
       "4  TEST_00004  0.830531  0.316183"
      ]
     },
     "execution_count": 53,
     "metadata": {},
     "output_type": "execute_result"
    }
   ],
   "source": [
    "submit = pd.read_csv(os.path.join(CONFIG.ROOT_DIR,'./sample_submission.csv'))\n",
    "submit.iloc[:, 1:] = preds\n",
    "submit.head()"
   ]
  },
  {
   "cell_type": "code",
   "execution_count": 54,
   "id": "e28d71bc-6703-40f7-9716-a0ef897eca83",
   "metadata": {},
   "outputs": [],
   "source": [
    "submit.to_csv(f'./output/submit_XGBoost_Augment.csv', index=False)"
   ]
  },
  {
   "cell_type": "markdown",
   "id": "277110b6",
   "metadata": {},
   "source": [
    "### AfterTest"
   ]
  },
  {
   "cell_type": "code",
   "execution_count": null,
   "id": "402bc79b",
   "metadata": {},
   "outputs": [],
   "source": [
    "print(model(torch.tensor(train_features).float().to(device)).cpu().detach().numpy()[:10])\n",
    "print(train_labels[:10])"
   ]
  },
  {
   "cell_type": "code",
   "execution_count": null,
   "id": "053b10a8",
   "metadata": {},
   "outputs": [],
   "source": [
    "np.where((train_labels[:, 0] == 1) & (train_labels[:, 1] == 1))[0]"
   ]
  }
 ],
 "metadata": {
  "kaggle": {
   "accelerator": "gpu",
   "dataSources": [
    {
     "databundleVersionId": 8068726,
     "sourceId": 70203,
     "sourceType": "competition"
    },
    {
     "datasetId": 4732842,
     "sourceId": 8066583,
     "sourceType": "datasetVersion"
    }
   ],
   "dockerImageVersionId": 30674,
   "isGpuEnabled": true,
   "isInternetEnabled": true,
   "language": "python",
   "sourceType": "notebook"
  },
  "kernelspec": {
   "display_name": "base",
   "language": "python",
   "name": "python3"
  },
  "language_info": {
   "codemirror_mode": {
    "name": "ipython",
    "version": 3
   },
   "file_extension": ".py",
   "mimetype": "text/x-python",
   "name": "python",
   "nbconvert_exporter": "python",
   "pygments_lexer": "ipython3",
   "version": "3.12.4"
  },
  "papermill": {
   "default_parameters": {},
   "duration": 1830.928153,
   "end_time": "2024-04-08T19:22:15.265404",
   "environment_variables": {},
   "exception": null,
   "input_path": "__notebook__.ipynb",
   "output_path": "__notebook__.ipynb",
   "parameters": {},
   "start_time": "2024-04-08T18:51:44.337251",
   "version": "2.5.0"
  },
  "widgets": {
   "application/vnd.jupyter.widget-state+json": {
    "state": {
     "01a8f214ec354c44b73d439565382278": {
      "model_module": "@jupyter-widgets/base",
      "model_module_version": "1.2.0",
      "model_name": "LayoutModel",
      "state": {
       "_model_module": "@jupyter-widgets/base",
       "_model_module_version": "1.2.0",
       "_model_name": "LayoutModel",
       "_view_count": null,
       "_view_module": "@jupyter-widgets/base",
       "_view_module_version": "1.2.0",
       "_view_name": "LayoutView",
       "align_content": null,
       "align_items": null,
       "align_self": null,
       "border": null,
       "bottom": null,
       "display": null,
       "flex": null,
       "flex_flow": null,
       "grid_area": null,
       "grid_auto_columns": null,
       "grid_auto_flow": null,
       "grid_auto_rows": null,
       "grid_column": null,
       "grid_gap": null,
       "grid_row": null,
       "grid_template_areas": null,
       "grid_template_columns": null,
       "grid_template_rows": null,
       "height": null,
       "justify_content": null,
       "justify_items": null,
       "left": null,
       "margin": null,
       "max_height": null,
       "max_width": null,
       "min_height": null,
       "min_width": null,
       "object_fit": null,
       "object_position": null,
       "order": null,
       "overflow": null,
       "overflow_x": null,
       "overflow_y": null,
       "padding": null,
       "right": null,
       "top": null,
       "visibility": null,
       "width": null
      }
     },
     "06a1ede084cd487ebf3c469be657b53e": {
      "model_module": "@jupyter-widgets/controls",
      "model_module_version": "1.5.0",
      "model_name": "HBoxModel",
      "state": {
       "_dom_classes": [],
       "_model_module": "@jupyter-widgets/controls",
       "_model_module_version": "1.5.0",
       "_model_name": "HBoxModel",
       "_view_count": null,
       "_view_module": "@jupyter-widgets/controls",
       "_view_module_version": "1.5.0",
       "_view_name": "HBoxView",
       "box_style": "",
       "children": [
        "IPY_MODEL_80013ce73542415e82be091acccb89fe",
        "IPY_MODEL_d280070ca871485fbd2b7d34b1c9fd10",
        "IPY_MODEL_8212bde7695f494cbabea66983e4cf29"
       ],
       "layout": "IPY_MODEL_c4da594b806c4c2bbff6e8cdaf6088eb"
      }
     },
     "37e28ba3d8564da4a3257c3729310584": {
      "model_module": "@jupyter-widgets/controls",
      "model_module_version": "1.5.0",
      "model_name": "DescriptionStyleModel",
      "state": {
       "_model_module": "@jupyter-widgets/controls",
       "_model_module_version": "1.5.0",
       "_model_name": "DescriptionStyleModel",
       "_view_count": null,
       "_view_module": "@jupyter-widgets/base",
       "_view_module_version": "1.2.0",
       "_view_name": "StyleView",
       "description_width": ""
      }
     },
     "80013ce73542415e82be091acccb89fe": {
      "model_module": "@jupyter-widgets/controls",
      "model_module_version": "1.5.0",
      "model_name": "HTMLModel",
      "state": {
       "_dom_classes": [],
       "_model_module": "@jupyter-widgets/controls",
       "_model_module_version": "1.5.0",
       "_model_name": "HTMLModel",
       "_view_count": null,
       "_view_module": "@jupyter-widgets/controls",
       "_view_module_version": "1.5.0",
       "_view_name": "HTMLView",
       "description": "",
       "description_tooltip": null,
       "layout": "IPY_MODEL_95e72a34a4374fd5b4b147772085bb7c",
       "placeholder": "​",
       "style": "IPY_MODEL_37e28ba3d8564da4a3257c3729310584",
       "value": "model.safetensors: 100%"
      }
     },
     "8212bde7695f494cbabea66983e4cf29": {
      "model_module": "@jupyter-widgets/controls",
      "model_module_version": "1.5.0",
      "model_name": "HTMLModel",
      "state": {
       "_dom_classes": [],
       "_model_module": "@jupyter-widgets/controls",
       "_model_module_version": "1.5.0",
       "_model_name": "HTMLModel",
       "_view_count": null,
       "_view_module": "@jupyter-widgets/controls",
       "_view_module_version": "1.5.0",
       "_view_name": "HTMLView",
       "description": "",
       "description_tooltip": null,
       "layout": "IPY_MODEL_d9e4e04bb60e40d6b46d782f8156d05f",
       "placeholder": "​",
       "style": "IPY_MODEL_b1fa83d0511a4d8a910b8fdb40d32c29",
       "value": " 36.5M/36.5M [00:01&lt;00:00, 41.1MB/s]"
      }
     },
     "95e72a34a4374fd5b4b147772085bb7c": {
      "model_module": "@jupyter-widgets/base",
      "model_module_version": "1.2.0",
      "model_name": "LayoutModel",
      "state": {
       "_model_module": "@jupyter-widgets/base",
       "_model_module_version": "1.2.0",
       "_model_name": "LayoutModel",
       "_view_count": null,
       "_view_module": "@jupyter-widgets/base",
       "_view_module_version": "1.2.0",
       "_view_name": "LayoutView",
       "align_content": null,
       "align_items": null,
       "align_self": null,
       "border": null,
       "bottom": null,
       "display": null,
       "flex": null,
       "flex_flow": null,
       "grid_area": null,
       "grid_auto_columns": null,
       "grid_auto_flow": null,
       "grid_auto_rows": null,
       "grid_column": null,
       "grid_gap": null,
       "grid_row": null,
       "grid_template_areas": null,
       "grid_template_columns": null,
       "grid_template_rows": null,
       "height": null,
       "justify_content": null,
       "justify_items": null,
       "left": null,
       "margin": null,
       "max_height": null,
       "max_width": null,
       "min_height": null,
       "min_width": null,
       "object_fit": null,
       "object_position": null,
       "order": null,
       "overflow": null,
       "overflow_x": null,
       "overflow_y": null,
       "padding": null,
       "right": null,
       "top": null,
       "visibility": null,
       "width": null
      }
     },
     "b1fa83d0511a4d8a910b8fdb40d32c29": {
      "model_module": "@jupyter-widgets/controls",
      "model_module_version": "1.5.0",
      "model_name": "DescriptionStyleModel",
      "state": {
       "_model_module": "@jupyter-widgets/controls",
       "_model_module_version": "1.5.0",
       "_model_name": "DescriptionStyleModel",
       "_view_count": null,
       "_view_module": "@jupyter-widgets/base",
       "_view_module_version": "1.2.0",
       "_view_name": "StyleView",
       "description_width": ""
      }
     },
     "c4da594b806c4c2bbff6e8cdaf6088eb": {
      "model_module": "@jupyter-widgets/base",
      "model_module_version": "1.2.0",
      "model_name": "LayoutModel",
      "state": {
       "_model_module": "@jupyter-widgets/base",
       "_model_module_version": "1.2.0",
       "_model_name": "LayoutModel",
       "_view_count": null,
       "_view_module": "@jupyter-widgets/base",
       "_view_module_version": "1.2.0",
       "_view_name": "LayoutView",
       "align_content": null,
       "align_items": null,
       "align_self": null,
       "border": null,
       "bottom": null,
       "display": null,
       "flex": null,
       "flex_flow": null,
       "grid_area": null,
       "grid_auto_columns": null,
       "grid_auto_flow": null,
       "grid_auto_rows": null,
       "grid_column": null,
       "grid_gap": null,
       "grid_row": null,
       "grid_template_areas": null,
       "grid_template_columns": null,
       "grid_template_rows": null,
       "height": null,
       "justify_content": null,
       "justify_items": null,
       "left": null,
       "margin": null,
       "max_height": null,
       "max_width": null,
       "min_height": null,
       "min_width": null,
       "object_fit": null,
       "object_position": null,
       "order": null,
       "overflow": null,
       "overflow_x": null,
       "overflow_y": null,
       "padding": null,
       "right": null,
       "top": null,
       "visibility": null,
       "width": null
      }
     },
     "d280070ca871485fbd2b7d34b1c9fd10": {
      "model_module": "@jupyter-widgets/controls",
      "model_module_version": "1.5.0",
      "model_name": "FloatProgressModel",
      "state": {
       "_dom_classes": [],
       "_model_module": "@jupyter-widgets/controls",
       "_model_module_version": "1.5.0",
       "_model_name": "FloatProgressModel",
       "_view_count": null,
       "_view_module": "@jupyter-widgets/controls",
       "_view_module_version": "1.5.0",
       "_view_name": "ProgressView",
       "bar_style": "success",
       "description": "",
       "description_tooltip": null,
       "layout": "IPY_MODEL_01a8f214ec354c44b73d439565382278",
       "max": 36494688,
       "min": 0,
       "orientation": "horizontal",
       "style": "IPY_MODEL_dcd2393d73d14514851a7d9ef50315fc",
       "value": 36494688
      }
     },
     "d9e4e04bb60e40d6b46d782f8156d05f": {
      "model_module": "@jupyter-widgets/base",
      "model_module_version": "1.2.0",
      "model_name": "LayoutModel",
      "state": {
       "_model_module": "@jupyter-widgets/base",
       "_model_module_version": "1.2.0",
       "_model_name": "LayoutModel",
       "_view_count": null,
       "_view_module": "@jupyter-widgets/base",
       "_view_module_version": "1.2.0",
       "_view_name": "LayoutView",
       "align_content": null,
       "align_items": null,
       "align_self": null,
       "border": null,
       "bottom": null,
       "display": null,
       "flex": null,
       "flex_flow": null,
       "grid_area": null,
       "grid_auto_columns": null,
       "grid_auto_flow": null,
       "grid_auto_rows": null,
       "grid_column": null,
       "grid_gap": null,
       "grid_row": null,
       "grid_template_areas": null,
       "grid_template_columns": null,
       "grid_template_rows": null,
       "height": null,
       "justify_content": null,
       "justify_items": null,
       "left": null,
       "margin": null,
       "max_height": null,
       "max_width": null,
       "min_height": null,
       "min_width": null,
       "object_fit": null,
       "object_position": null,
       "order": null,
       "overflow": null,
       "overflow_x": null,
       "overflow_y": null,
       "padding": null,
       "right": null,
       "top": null,
       "visibility": null,
       "width": null
      }
     },
     "dcd2393d73d14514851a7d9ef50315fc": {
      "model_module": "@jupyter-widgets/controls",
      "model_module_version": "1.5.0",
      "model_name": "ProgressStyleModel",
      "state": {
       "_model_module": "@jupyter-widgets/controls",
       "_model_module_version": "1.5.0",
       "_model_name": "ProgressStyleModel",
       "_view_count": null,
       "_view_module": "@jupyter-widgets/base",
       "_view_module_version": "1.2.0",
       "_view_name": "StyleView",
       "bar_color": null,
       "description_width": ""
      }
     }
    },
    "version_major": 2,
    "version_minor": 0
   }
  }
 },
 "nbformat": 4,
 "nbformat_minor": 5
}
