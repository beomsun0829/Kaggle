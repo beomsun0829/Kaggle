{
 "cells": [
  {
   "cell_type": "code",
   "execution_count": 65,
   "metadata": {},
   "outputs": [],
   "source": [
    "import numpy as np\n",
    "import pandas as pd"
   ]
  },
  {
   "cell_type": "code",
   "execution_count": 66,
   "metadata": {},
   "outputs": [],
   "source": [
    "df = pd.read_csv('./data/huge/train.csv')\n",
    "#df = pd.read_csv('./data/huge/train.csv', nrows=1000)"
   ]
  },
  {
   "cell_type": "code",
   "execution_count": 67,
   "metadata": {},
   "outputs": [
    {
     "name": "stdout",
     "output_type": "stream",
     "text": [
      "               ID  Click      F01      F02      F03    F04      F05  F06  \\\n",
      "0  TRAIN_00000000      1  NSLHFNS  AVKQTCL  DTZFPRW  114.0  ISVXFVA    1   \n",
      "1  TRAIN_00000001      0  VGIVWZQ  LSUSMVO  PQGWFJZ   26.0  NFRVLWS   43   \n",
      "2  TRAIN_00000002      0  JCDXFYU  PILDDJU  IAGJDOH  119.0  LFPUEOV    0   \n",
      "3  TRAIN_00000003      1  PSMFWTP  ZYAVJHP      NaN   15.0  ATQPZSJ   26   \n",
      "4  TRAIN_00000004      0  SLCRICD  QPQWGXA      NaN   13.0  CHZGJZR   20   \n",
      "\n",
      "       F07      F08  ...      F30      F31      F32  F33      F34      F35  \\\n",
      "0  PQZBVMG  LPYPUNA  ...  NZGEZLW  GTISJWW    380.0  2.0  AXQFZWC  IRUDRFB   \n",
      "1  IMPIGJT  MIGYEEG  ...  NZGEZLW  GTISJWW    466.0  1.0  DRVVDHZ  IRUDRFB   \n",
      "2  FFUTIRZ  OFKQGTY  ...  VHXETCF  KHZNEZF    197.0  0.0  QMOULXS  IRUDRFB   \n",
      "3  ZDTZNSB  THBWWCD  ...  IVIRTPR  GTISJWW   8640.0  0.0  IZLJUJS  IRUDRFB   \n",
      "4  PQZBVMG  MIGYEEG  ...  NZGEZLW  WHSRKIM  41774.0  0.0  BHBIZCL  IRUDRFB   \n",
      "\n",
      "    F36      F37  F38      F39  \n",
      "0   NaN  TFJMLCZ  0.0  AURZYDY  \n",
      "1  19.0  AUGTURV  0.0  LUZRMLU  \n",
      "2   8.0  ZVSTLNM  0.0  MHBRSQK  \n",
      "3  14.0  ZBSRLCQ  0.0  GAZBSSZ  \n",
      "4  13.0  QHYLSBX  0.0  QTATWAY  \n",
      "\n",
      "[5 rows x 41 columns]\n",
      "(28605391, 41)\n"
     ]
    }
   ],
   "source": [
    "print(df.head())\n",
    "print(df.shape)"
   ]
  },
  {
   "cell_type": "code",
   "execution_count": 68,
   "metadata": {},
   "outputs": [
    {
     "name": "stdout",
     "output_type": "stream",
     "text": [
      "<class 'pandas.core.frame.DataFrame'>\n",
      "RangeIndex: 28605391 entries, 0 to 28605390\n",
      "Data columns (total 41 columns):\n",
      " #   Column  Dtype  \n",
      "---  ------  -----  \n",
      " 0   ID      object \n",
      " 1   Click   int64  \n",
      " 2   F01     object \n",
      " 3   F02     object \n",
      " 4   F03     object \n",
      " 5   F04     float64\n",
      " 6   F05     object \n",
      " 7   F06     int64  \n",
      " 8   F07     object \n",
      " 9   F08     object \n",
      " 10  F09     object \n",
      " 11  F10     object \n",
      " 12  F11     float64\n",
      " 13  F12     object \n",
      " 14  F13     object \n",
      " 15  F14     int64  \n",
      " 16  F15     object \n",
      " 17  F16     object \n",
      " 18  F17     object \n",
      " 19  F18     float64\n",
      " 20  F19     float64\n",
      " 21  F20     object \n",
      " 22  F21     object \n",
      " 23  F22     object \n",
      " 24  F23     object \n",
      " 25  F24     float64\n",
      " 26  F25     object \n",
      " 27  F26     object \n",
      " 28  F27     float64\n",
      " 29  F28     object \n",
      " 30  F29     float64\n",
      " 31  F30     object \n",
      " 32  F31     object \n",
      " 33  F32     float64\n",
      " 34  F33     float64\n",
      " 35  F34     object \n",
      " 36  F35     object \n",
      " 37  F36     float64\n",
      " 38  F37     object \n",
      " 39  F38     float64\n",
      " 40  F39     object \n",
      "dtypes: float64(11), int64(3), object(27)\n",
      "memory usage: 8.7+ GB\n"
     ]
    }
   ],
   "source": [
    "df.info()"
   ]
  },
  {
   "cell_type": "code",
   "execution_count": 69,
   "metadata": {},
   "outputs": [
    {
     "name": "stdout",
     "output_type": "stream",
     "text": [
      "<class 'pandas.core.frame.DataFrame'>\n",
      "RangeIndex: 28605391 entries, 0 to 28605390\n",
      "Data columns (total 40 columns):\n",
      " #   Column  Dtype   \n",
      "---  ------  -----   \n",
      " 0   Click   int64   \n",
      " 1   F01     category\n",
      " 2   F02     category\n",
      " 3   F03     category\n",
      " 4   F04     int64   \n",
      " 5   F05     category\n",
      " 6   F06     int64   \n",
      " 7   F07     category\n",
      " 8   F08     category\n",
      " 9   F09     category\n",
      " 10  F10     category\n",
      " 11  F11     int64   \n",
      " 12  F12     category\n",
      " 13  F13     category\n",
      " 14  F14     int64   \n",
      " 15  F15     category\n",
      " 16  F16     category\n",
      " 17  F17     category\n",
      " 18  F18     int64   \n",
      " 19  F19     int64   \n",
      " 20  F20     category\n",
      " 21  F21     category\n",
      " 22  F22     category\n",
      " 23  F23     category\n",
      " 24  F24     int64   \n",
      " 25  F25     category\n",
      " 26  F26     category\n",
      " 27  F27     int64   \n",
      " 28  F28     category\n",
      " 29  F29     int64   \n",
      " 30  F30     category\n",
      " 31  F31     category\n",
      " 32  F32     int64   \n",
      " 33  F33     int64   \n",
      " 34  F34     category\n",
      " 35  F35     category\n",
      " 36  F36     int64   \n",
      " 37  F37     category\n",
      " 38  F38     int64   \n",
      " 39  F39     category\n",
      "dtypes: category(26), int64(14)\n",
      "memory usage: 5.2 GB\n"
     ]
    }
   ],
   "source": [
    "df = df.drop('ID',axis=1)\n",
    "\n",
    "float_columns = df.select_dtypes(include=['float64']).columns\n",
    "object_columns = df.select_dtypes(include=['object']).columns\n",
    "\n",
    "df[float_columns] = df[float_columns].fillna(0)\n",
    "df = df.fillna('NAN')\n",
    "\n",
    "df[float_columns] = df[float_columns].astype('int64')\n",
    "df[object_columns] = df[object_columns].astype('category')\n",
    "df.info()"
   ]
  },
  {
   "cell_type": "markdown",
   "metadata": {},
   "source": [
    "### Split"
   ]
  },
  {
   "cell_type": "code",
   "execution_count": 70,
   "metadata": {},
   "outputs": [],
   "source": [
    "from sklearn.model_selection import train_test_split\n",
    "\n",
    "X = df.drop('Click',axis=1)\n",
    "y = df['Click']\n",
    "\n",
    "train_X, val_X, train_y, val_y = train_test_split(X, y, random_state=42, test_size=0.2)"
   ]
  },
  {
   "cell_type": "code",
   "execution_count": 71,
   "metadata": {},
   "outputs": [
    {
     "name": "stdout",
     "output_type": "stream",
     "text": [
      "(22884312, 39) (5721079, 39) (22884312,) (5721079,)\n"
     ]
    }
   ],
   "source": [
    "print(train_X.shape, val_X.shape, train_y.shape, val_y.shape)"
   ]
  },
  {
   "cell_type": "markdown",
   "metadata": {},
   "source": [
    "### Model"
   ]
  },
  {
   "cell_type": "code",
   "execution_count": 72,
   "metadata": {},
   "outputs": [
    {
     "name": "stdout",
     "output_type": "stream",
     "text": [
      "[LightGBM] [Warning] Categorical features with more bins than the configured maximum bin number found.\n",
      "[LightGBM] [Warning] For categorical features, max_bin and max_bin_by_feature may be ignored with a large number of categories.\n",
      "[LightGBM] [Info] Number of positive: 4455818, number of negative: 18428494\n",
      "[LightGBM] [Info] Auto-choosing row-wise multi-threading, the overhead of testing was 0.620308 seconds.\n",
      "You can set `force_row_wise=true` to remove the overhead.\n",
      "And if memory is not enough, you can set `force_col_wise=true`.\n",
      "[LightGBM] [Info] Total Bins 75028\n",
      "[LightGBM] [Info] Number of data points in the train set: 22884312, number of used features: 39\n",
      "[LightGBM] [Info] [binary:BoostFromScore]: pavg=0.194711 -> initscore=-1.419687\n",
      "[LightGBM] [Info] Start training from score -1.419687\n"
     ]
    },
    {
     "ename": "",
     "evalue": "",
     "output_type": "error",
     "traceback": [
      "\u001b[1;31mThe Kernel crashed while executing code in the current cell or a previous cell. \n",
      "\u001b[1;31mPlease review the code in the cell(s) to identify a possible cause of the failure. \n",
      "\u001b[1;31mClick <a href='https://aka.ms/vscodeJupyterKernelCrash'>here</a> for more info. \n",
      "\u001b[1;31mView Jupyter <a href='command:jupyter.viewOutput'>log</a> for further details."
     ]
    }
   ],
   "source": [
    "import lightgbm as lgb\n",
    "model = lgb.LGBMClassifier(objective='binary', n_estimators=10000, n_jobs=-1)\n",
    "model.fit(train_X, train_y, eval_set=[(val_X, val_y)], eval_metric='auc')"
   ]
  },
  {
   "cell_type": "markdown",
   "metadata": {},
   "source": [
    "### Pred"
   ]
  },
  {
   "cell_type": "code",
   "execution_count": null,
   "metadata": {},
   "outputs": [
    {
     "name": "stdout",
     "output_type": "stream",
     "text": [
      "<class 'pandas.core.frame.DataFrame'>\n",
      "RangeIndex: 4538541 entries, 0 to 4538540\n",
      "Data columns (total 39 columns):\n",
      " #   Column  Dtype   \n",
      "---  ------  -----   \n",
      " 0   F01     category\n",
      " 1   F02     category\n",
      " 2   F03     category\n",
      " 3   F04     int64   \n",
      " 4   F05     category\n",
      " 5   F06     int64   \n",
      " 6   F07     category\n",
      " 7   F08     category\n",
      " 8   F09     category\n",
      " 9   F10     category\n",
      " 10  F11     int64   \n",
      " 11  F12     category\n",
      " 12  F13     category\n",
      " 13  F14     int64   \n",
      " 14  F15     category\n",
      " 15  F16     category\n",
      " 16  F17     category\n",
      " 17  F18     int64   \n",
      " 18  F19     int64   \n",
      " 19  F20     category\n",
      " 20  F21     category\n",
      " 21  F22     category\n",
      " 22  F23     category\n",
      " 23  F24     int64   \n",
      " 24  F25     category\n",
      " 25  F26     category\n",
      " 26  F27     int64   \n",
      " 27  F28     category\n",
      " 28  F29     int64   \n",
      " 29  F30     category\n",
      " 30  F31     category\n",
      " 31  F32     int64   \n",
      " 32  F33     int64   \n",
      " 33  F34     category\n",
      " 34  F35     category\n",
      " 35  F36     int64   \n",
      " 36  F37     category\n",
      " 37  F38     int64   \n",
      " 38  F39     category\n",
      "dtypes: category(26), int64(13)\n",
      "memory usage: 874.3 MB\n"
     ]
    }
   ],
   "source": [
    "test_df = pd.read_csv('./data/huge/test.csv')\n",
    "test_df = test_df.drop('ID',axis=1)\n",
    "\n",
    "test_df[float_columns] = test_df[float_columns].fillna(0)\n",
    "test_df = test_df.fillna('NAN')\n",
    "\n",
    "test_df[float_columns] = test_df[float_columns].astype('int64')\n",
    "test_df[object_columns] = test_df[object_columns].astype('category')\n",
    "\n",
    "test_df.info()"
   ]
  },
  {
   "cell_type": "code",
   "execution_count": null,
   "metadata": {},
   "outputs": [],
   "source": [
    "pred = model.predict_proba(test_df)"
   ]
  },
  {
   "cell_type": "code",
   "execution_count": null,
   "metadata": {},
   "outputs": [
    {
     "data": {
      "text/plain": [
       "array([1.46174995e-05, 1.53941053e-04, 6.07498652e-01, ...,\n",
       "       5.93835978e-09, 1.69579989e-05, 8.24710264e-07])"
      ]
     },
     "execution_count": 61,
     "metadata": {},
     "output_type": "execute_result"
    }
   ],
   "source": [
    "pred[:,1]"
   ]
  },
  {
   "cell_type": "markdown",
   "metadata": {},
   "source": [
    "### Submission"
   ]
  },
  {
   "cell_type": "code",
   "execution_count": null,
   "metadata": {},
   "outputs": [],
   "source": [
    "sample_submission = pd.read_csv('./data/huge/sample_submission.csv')"
   ]
  },
  {
   "cell_type": "code",
   "execution_count": null,
   "metadata": {},
   "outputs": [
    {
     "data": {
      "text/html": [
       "<div>\n",
       "<style scoped>\n",
       "    .dataframe tbody tr th:only-of-type {\n",
       "        vertical-align: middle;\n",
       "    }\n",
       "\n",
       "    .dataframe tbody tr th {\n",
       "        vertical-align: top;\n",
       "    }\n",
       "\n",
       "    .dataframe thead th {\n",
       "        text-align: right;\n",
       "    }\n",
       "</style>\n",
       "<table border=\"1\" class=\"dataframe\">\n",
       "  <thead>\n",
       "    <tr style=\"text-align: right;\">\n",
       "      <th></th>\n",
       "      <th>ID</th>\n",
       "      <th>Click</th>\n",
       "    </tr>\n",
       "  </thead>\n",
       "  <tbody>\n",
       "    <tr>\n",
       "      <th>0</th>\n",
       "      <td>TEST_0000000</td>\n",
       "      <td>1.461750e-05</td>\n",
       "    </tr>\n",
       "    <tr>\n",
       "      <th>1</th>\n",
       "      <td>TEST_0000001</td>\n",
       "      <td>1.539411e-04</td>\n",
       "    </tr>\n",
       "    <tr>\n",
       "      <th>2</th>\n",
       "      <td>TEST_0000002</td>\n",
       "      <td>6.074987e-01</td>\n",
       "    </tr>\n",
       "    <tr>\n",
       "      <th>3</th>\n",
       "      <td>TEST_0000003</td>\n",
       "      <td>4.055291e-04</td>\n",
       "    </tr>\n",
       "    <tr>\n",
       "      <th>4</th>\n",
       "      <td>TEST_0000004</td>\n",
       "      <td>1.858578e-04</td>\n",
       "    </tr>\n",
       "    <tr>\n",
       "      <th>...</th>\n",
       "      <td>...</td>\n",
       "      <td>...</td>\n",
       "    </tr>\n",
       "    <tr>\n",
       "      <th>4538536</th>\n",
       "      <td>TEST_4538536</td>\n",
       "      <td>1.104016e-08</td>\n",
       "    </tr>\n",
       "    <tr>\n",
       "      <th>4538537</th>\n",
       "      <td>TEST_4538537</td>\n",
       "      <td>5.169165e-02</td>\n",
       "    </tr>\n",
       "    <tr>\n",
       "      <th>4538538</th>\n",
       "      <td>TEST_4538538</td>\n",
       "      <td>5.938360e-09</td>\n",
       "    </tr>\n",
       "    <tr>\n",
       "      <th>4538539</th>\n",
       "      <td>TEST_4538539</td>\n",
       "      <td>1.695800e-05</td>\n",
       "    </tr>\n",
       "    <tr>\n",
       "      <th>4538540</th>\n",
       "      <td>TEST_4538540</td>\n",
       "      <td>8.247103e-07</td>\n",
       "    </tr>\n",
       "  </tbody>\n",
       "</table>\n",
       "<p>4538541 rows × 2 columns</p>\n",
       "</div>"
      ],
      "text/plain": [
       "                   ID         Click\n",
       "0        TEST_0000000  1.461750e-05\n",
       "1        TEST_0000001  1.539411e-04\n",
       "2        TEST_0000002  6.074987e-01\n",
       "3        TEST_0000003  4.055291e-04\n",
       "4        TEST_0000004  1.858578e-04\n",
       "...               ...           ...\n",
       "4538536  TEST_4538536  1.104016e-08\n",
       "4538537  TEST_4538537  5.169165e-02\n",
       "4538538  TEST_4538538  5.938360e-09\n",
       "4538539  TEST_4538539  1.695800e-05\n",
       "4538540  TEST_4538540  8.247103e-07\n",
       "\n",
       "[4538541 rows x 2 columns]"
      ]
     },
     "execution_count": 64,
     "metadata": {},
     "output_type": "execute_result"
    }
   ],
   "source": [
    "sample_submission['Click'] = pred[:,1]\n",
    "sample_submission"
   ]
  },
  {
   "cell_type": "code",
   "execution_count": null,
   "metadata": {},
   "outputs": [],
   "source": [
    "sample_submission.to_csv('./data/huge/results/lgbm.csv', index=False)"
   ]
  }
 ],
 "metadata": {
  "kernelspec": {
   "display_name": "base",
   "language": "python",
   "name": "python3"
  },
  "language_info": {
   "codemirror_mode": {
    "name": "ipython",
    "version": 3
   },
   "file_extension": ".py",
   "mimetype": "text/x-python",
   "name": "python",
   "nbconvert_exporter": "python",
   "pygments_lexer": "ipython3",
   "version": "3.11.5"
  }
 },
 "nbformat": 4,
 "nbformat_minor": 2
}
