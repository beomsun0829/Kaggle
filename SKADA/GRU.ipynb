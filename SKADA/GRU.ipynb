{
 "cells": [
  {
   "cell_type": "code",
   "execution_count": 83,
   "metadata": {},
   "outputs": [],
   "source": [
    "import os\n",
    "import sys\n",
    "import tqdm\n",
    "import random\n",
    "\n",
    "import torch\n",
    "import torch.nn as nn\n",
    "import torch.optim as optim\n",
    "from torch.utils.data import DataLoader, Dataset\n",
    "\n",
    "import pandas as pd\n",
    "import numpy as np\n",
    "from matplotlib import pyplot as plt\n",
    "\n",
    "from sklearn.preprocessing import StandardScaler\n",
    "from sklearn.metrics import f1_score\n",
    "\n",
    "import warnings\n",
    "warnings.filterwarnings(\"ignore\")"
   ]
  },
  {
   "cell_type": "markdown",
   "metadata": {},
   "source": [
    "### Settings"
   ]
  },
  {
   "cell_type": "code",
   "execution_count": 84,
   "metadata": {},
   "outputs": [],
   "source": [
    "class Config:\n",
    "    FILE_NAME = 'GRU'\n",
    "    ROOT_DIR = './data/huge'\n",
    "    SEED = 42\n",
    "    \n",
    "    DEVICE = 'cuda' if torch.cuda.is_available() else 'cpu'\n",
    "    \n",
    "    BATCH_SIZE = 64\n",
    "    EPOCHS = 100\n",
    "    LEARNING_RATE = 0.0005\n",
    "    SERIES_LENGTH = 50\n",
    "\n",
    "CONFIG = Config()"
   ]
  },
  {
   "cell_type": "code",
   "execution_count": 85,
   "metadata": {},
   "outputs": [
    {
     "data": {
      "text/plain": [
       "<torch._C.Generator at 0x1abffdbda70>"
      ]
     },
     "execution_count": 85,
     "metadata": {},
     "output_type": "execute_result"
    }
   ],
   "source": [
    "seed = CONFIG.SEED\n",
    "np.random.seed(seed)\n",
    "torch.manual_seed(seed)"
   ]
  },
  {
   "cell_type": "code",
   "execution_count": 86,
   "metadata": {},
   "outputs": [],
   "source": [
    "import mlflow\n",
    "import mlflow.pytorch\n",
    "\n",
    "mlflow.set_experiment('SKADA')\n",
    "def mlflow_run_decorator(run_name=None):\n",
    "    def decorator(func):\n",
    "        def wrapper(*args, **kwargs):\n",
    "            mlflow.start_run(run_name=run_name)\n",
    "            try:\n",
    "                result = func(*args, **kwargs)\n",
    "                mlflow.set_tag(\"Status\", \"SUCCEESS\")\n",
    "            except Exception as e:\n",
    "                mlflow.log_param(\"Exception\", e)\n",
    "                mlflow.set_tag(\"Status\", \"FAIL\")\n",
    "                raise e\n",
    "            finally:\n",
    "                mlflow.end_run()\n",
    "            return result\n",
    "        return wrapper\n",
    "    return decorator"
   ]
  },
  {
   "cell_type": "markdown",
   "metadata": {},
   "source": [
    "### Data"
   ]
  },
  {
   "cell_type": "code",
   "execution_count": 87,
   "metadata": {},
   "outputs": [],
   "source": [
    "train_df = pd.read_csv(os.path.join(CONFIG.ROOT_DIR, \"train_df.csv\"), index_col='Serial Number')\n",
    "train_y = pd.read_csv(os.path.join(CONFIG.ROOT_DIR, \"train_y.csv\"), index_col='Serial Number')\n",
    "pred_x = pd.read_csv(os.path.join(CONFIG.ROOT_DIR, \"pred_x.csv\"), index_col='Serial Number')"
   ]
  },
  {
   "cell_type": "code",
   "execution_count": 88,
   "metadata": {},
   "outputs": [],
   "source": [
    "train_df['TIMESTAMP'] = pd.to_datetime(train_df['TIMESTAMP'])\n",
    "train_df['TIMESTAMP'] = train_df['TIMESTAMP'].map(lambda t: t.strftime('%Y-%m-%d %H:%M'))\n",
    "\n",
    "pred_x['TIMESTAMP'] = pd.to_datetime(pred_x['TIMESTAMP'])\n",
    "pred_x['TIMESTAMP'] = pred_x['TIMESTAMP'].map(lambda t: t.strftime('%Y-%m-%d %H:%M'))\n",
    "\n",
    "serial_key = list(train_df.columns)[0]\n",
    "date_time_key = list(train_df.columns)[1]\n",
    "feature_keys = list(train_df.columns)[3:-1]\n",
    "target_key = list(train_df.columns)[-1]\n",
    "\n",
    "train_x = train_df.drop(columns='Y')"
   ]
  },
  {
   "cell_type": "code",
   "execution_count": 89,
   "metadata": {
    "scrolled": false
   },
   "outputs": [
    {
     "name": "stdout",
     "output_type": "stream",
     "text": [
      "Train Data 크기 : (555456, 19)\n",
      "Pred Data 크기 : (138880, 19)\n",
      "Train Data의 Serial Number의 unique 값 : 97860\n",
      "Pred Data의 Serial Number의 unique 값 : 72562\n"
     ]
    }
   ],
   "source": [
    "print(\"Train Data 크기 :\", train_x.shape)\n",
    "print(\"Pred Data 크기 :\", pred_x.shape)\n",
    "\n",
    "print(\"Train Data의 Serial Number의 unique 값 :\", len(train_x[serial_key].unique()))\n",
    "print(\"Pred Data의 Serial Number의 unique 값 :\", len(pred_x[serial_key].unique()))"
   ]
  },
  {
   "cell_type": "code",
   "execution_count": 90,
   "metadata": {},
   "outputs": [
    {
     "data": {
      "text/html": [
       "<div>\n",
       "<style scoped>\n",
       "    .dataframe tbody tr th:only-of-type {\n",
       "        vertical-align: middle;\n",
       "    }\n",
       "\n",
       "    .dataframe tbody tr th {\n",
       "        vertical-align: top;\n",
       "    }\n",
       "\n",
       "    .dataframe thead th {\n",
       "        text-align: right;\n",
       "    }\n",
       "</style>\n",
       "<table border=\"1\" class=\"dataframe\">\n",
       "  <thead>\n",
       "    <tr style=\"text-align: right;\">\n",
       "      <th></th>\n",
       "      <th>TIMESTAMP</th>\n",
       "      <th>X1</th>\n",
       "      <th>X2</th>\n",
       "      <th>X3</th>\n",
       "      <th>X4</th>\n",
       "      <th>X5</th>\n",
       "      <th>X6</th>\n",
       "      <th>X7</th>\n",
       "      <th>X8</th>\n",
       "      <th>X9</th>\n",
       "      <th>X10</th>\n",
       "      <th>X11</th>\n",
       "      <th>X12</th>\n",
       "      <th>X13</th>\n",
       "      <th>X14</th>\n",
       "      <th>X15</th>\n",
       "      <th>X16</th>\n",
       "      <th>X17</th>\n",
       "      <th>X18</th>\n",
       "    </tr>\n",
       "    <tr>\n",
       "      <th>Serial Number</th>\n",
       "      <th></th>\n",
       "      <th></th>\n",
       "      <th></th>\n",
       "      <th></th>\n",
       "      <th></th>\n",
       "      <th></th>\n",
       "      <th></th>\n",
       "      <th></th>\n",
       "      <th></th>\n",
       "      <th></th>\n",
       "      <th></th>\n",
       "      <th></th>\n",
       "      <th></th>\n",
       "      <th></th>\n",
       "      <th></th>\n",
       "      <th></th>\n",
       "      <th></th>\n",
       "      <th></th>\n",
       "      <th></th>\n",
       "    </tr>\n",
       "  </thead>\n",
       "  <tbody>\n",
       "    <tr>\n",
       "      <th>19</th>\n",
       "      <td>2020-02-09 16:24</td>\n",
       "      <td>EI83N072710203N8H</td>\n",
       "      <td>22</td>\n",
       "      <td>18</td>\n",
       "      <td>22</td>\n",
       "      <td>16</td>\n",
       "      <td>32</td>\n",
       "      <td>99</td>\n",
       "      <td>91219</td>\n",
       "      <td>43095</td>\n",
       "      <td>2132</td>\n",
       "      <td>0.0</td>\n",
       "      <td>0.0</td>\n",
       "      <td>0.0</td>\n",
       "      <td>0.0</td>\n",
       "      <td>0.0</td>\n",
       "      <td>0.0</td>\n",
       "      <td>0.0</td>\n",
       "      <td>0.0</td>\n",
       "    </tr>\n",
       "    <tr>\n",
       "      <th>19</th>\n",
       "      <td>2020-02-10 16:39</td>\n",
       "      <td>EI83N072710203N8H</td>\n",
       "      <td>22</td>\n",
       "      <td>18</td>\n",
       "      <td>22</td>\n",
       "      <td>16</td>\n",
       "      <td>32</td>\n",
       "      <td>99</td>\n",
       "      <td>91413</td>\n",
       "      <td>43214</td>\n",
       "      <td>2133</td>\n",
       "      <td>24.0</td>\n",
       "      <td>0.0</td>\n",
       "      <td>0.0</td>\n",
       "      <td>0.0</td>\n",
       "      <td>0.0</td>\n",
       "      <td>0.0</td>\n",
       "      <td>0.0</td>\n",
       "      <td>0.0</td>\n",
       "    </tr>\n",
       "    <tr>\n",
       "      <th>19</th>\n",
       "      <td>2020-02-11 16:54</td>\n",
       "      <td>EI83N072710203N8H</td>\n",
       "      <td>22</td>\n",
       "      <td>18</td>\n",
       "      <td>22</td>\n",
       "      <td>16</td>\n",
       "      <td>32</td>\n",
       "      <td>99</td>\n",
       "      <td>91606</td>\n",
       "      <td>43332</td>\n",
       "      <td>2135</td>\n",
       "      <td>49.0</td>\n",
       "      <td>1.0</td>\n",
       "      <td>0.0</td>\n",
       "      <td>0.0</td>\n",
       "      <td>1.0</td>\n",
       "      <td>0.0</td>\n",
       "      <td>0.0</td>\n",
       "      <td>0.0</td>\n",
       "    </tr>\n",
       "  </tbody>\n",
       "</table>\n",
       "</div>"
      ],
      "text/plain": [
       "                      TIMESTAMP                 X1  X2  X3  X4  X5  X6  X7  \\\n",
       "Serial Number                                                                \n",
       "19             2020-02-09 16:24  EI83N072710203N8H  22  18  22  16  32  99   \n",
       "19             2020-02-10 16:39  EI83N072710203N8H  22  18  22  16  32  99   \n",
       "19             2020-02-11 16:54  EI83N072710203N8H  22  18  22  16  32  99   \n",
       "\n",
       "                  X8     X9   X10   X11  X12  X13  X14  X15  X16  X17  X18  \n",
       "Serial Number                                                               \n",
       "19             91219  43095  2132   0.0  0.0  0.0  0.0  0.0  0.0  0.0  0.0  \n",
       "19             91413  43214  2133  24.0  0.0  0.0  0.0  0.0  0.0  0.0  0.0  \n",
       "19             91606  43332  2135  49.0  1.0  0.0  0.0  1.0  0.0  0.0  0.0  "
      ]
     },
     "execution_count": 90,
     "metadata": {},
     "output_type": "execute_result"
    }
   ],
   "source": [
    "train_x.head(3)"
   ]
  },
  {
   "cell_type": "markdown",
   "metadata": {},
   "source": [
    "### PreProcessing"
   ]
  },
  {
   "cell_type": "code",
   "execution_count": 91,
   "metadata": {},
   "outputs": [],
   "source": [
    "train_x.drop(columns='X1', inplace=True)\n",
    "pred_x.drop(columns='X1', inplace=True)"
   ]
  },
  {
   "cell_type": "code",
   "execution_count": 92,
   "metadata": {},
   "outputs": [],
   "source": [
    "scaler = StandardScaler()\n",
    "\n",
    "train_x[feature_keys] = scaler.fit_transform(train_df[feature_keys])\n",
    "pred_x[feature_keys] = scaler.transform(pred_x[feature_keys])"
   ]
  },
  {
   "cell_type": "code",
   "execution_count": 93,
   "metadata": {},
   "outputs": [],
   "source": [
    "train_x_by_serial = [group[1] for group in train_x.groupby(train_x.index)]\n",
    "pred_x_by_serial = [group[1] for group in pred_x.groupby(pred_x.index)]\n",
    "\n",
    "train_x_by_serial = [group.sort_values('TIMESTAMP') for group in train_x_by_serial]\n",
    "pred_x_by_serial = [group.sort_values('TIMESTAMP') for group in pred_x_by_serial]"
   ]
  },
  {
   "cell_type": "markdown",
   "metadata": {},
   "source": [
    "### Dataset"
   ]
  },
  {
   "cell_type": "code",
   "execution_count": 94,
   "metadata": {},
   "outputs": [],
   "source": [
    "def train_val_test_split(Xs, ys, val_ratio=0.2, test_ratio=0.1):\n",
    "    data_per_label = {}\n",
    "\n",
    "    for x, y in zip(Xs, ys):\n",
    "        label = y\n",
    "        if label not in data_per_label:\n",
    "            data_per_label[label] = []\n",
    "        data_per_label[label].append((x, y))\n",
    "\n",
    "    train, val, test = [], [], []\n",
    "\n",
    "    for label in data_per_label:\n",
    "        data = data_per_label[label]\n",
    "        n_test = int(len(data) * test_ratio)\n",
    "        n_val = int(len(data) * val_ratio)\n",
    "        test += data[:n_test]\n",
    "        val += data[n_test:n_test+n_val]\n",
    "        train += data[n_test+n_val:]\n",
    "\n",
    "    X_train, y_train = zip(*train)\n",
    "    X_val, y_val = zip(*val)\n",
    "    X_test, y_test = zip(*test)\n",
    "\n",
    "    return X_train, X_val, X_test, y_train, y_val, y_test"
   ]
  },
  {
   "cell_type": "code",
   "execution_count": 95,
   "metadata": {},
   "outputs": [
    {
     "name": "stdout",
     "output_type": "stream",
     "text": [
      "Train Data의 개수 : 5791\n",
      "Validation Data의 개수 : 1654\n",
      "Test Data의 개수 : 827\n"
     ]
    }
   ],
   "source": [
    "X_train, X_val, X_test, y_train, y_val, y_test = train_val_test_split(train_x_by_serial, train_y['Y'])\n",
    "\n",
    "X_train = [x.drop(columns='TIMESTAMP') for x in X_train]\n",
    "X_val = [x.drop(columns='TIMESTAMP') for x in X_val]\n",
    "X_test = [x.drop(columns='TIMESTAMP') for x in X_test]\n",
    "\n",
    "print(\"Train Data의 개수 :\", len(X_train))\n",
    "print(\"Validation Data의 개수 :\", len(X_val))\n",
    "print(\"Test Data의 개수 :\", len(X_test))"
   ]
  },
  {
   "cell_type": "code",
   "execution_count": 96,
   "metadata": {},
   "outputs": [],
   "source": [
    "def align_data(data, series_length):\n",
    "    data_features = [x[feature_keys] for x in data]\n",
    "    length_aligned_X = []\n",
    "    \n",
    "    for x in data_features:\n",
    "        if len(x) >= series_length:\n",
    "            length_aligned_X.append(x[-series_length:])\n",
    "        else:\n",
    "            length_aligned_X.append(x.append([x.iloc[-1]] * (series_length - len(x))))\n",
    "    return np.array(length_aligned_X)"
   ]
  },
  {
   "cell_type": "code",
   "execution_count": 97,
   "metadata": {},
   "outputs": [],
   "source": [
    "series_length = 50\n",
    "\n",
    "X_train = align_data(X_train, series_length)\n",
    "X_val = align_data(X_val, series_length)\n",
    "X_test = align_data(X_test, series_length)"
   ]
  },
  {
   "cell_type": "code",
   "execution_count": 98,
   "metadata": {},
   "outputs": [],
   "source": [
    "y_train = np.array(y_train)\n",
    "y_val = np.array(y_val)\n",
    "y_test = np.array(y_test)"
   ]
  },
  {
   "cell_type": "markdown",
   "metadata": {},
   "source": [
    "### Dataset"
   ]
  },
  {
   "cell_type": "code",
   "execution_count": 99,
   "metadata": {},
   "outputs": [],
   "source": [
    "class TimeSeriesDataset(Dataset):\n",
    "    def __init__(self, X, y):\n",
    "        self.X = X\n",
    "        self.y = y\n",
    "    \n",
    "    def __len__(self):\n",
    "        return len(self.X)\n",
    "    \n",
    "    def __getitem__(self, idx):\n",
    "        return torch.tensor(self.X[idx], dtype=torch.float32), torch.tensor(self.y[idx], dtype=torch.float32)"
   ]
  },
  {
   "cell_type": "code",
   "execution_count": 100,
   "metadata": {},
   "outputs": [],
   "source": [
    "train_dataset = TimeSeriesDataset(X_train, y_train)\n",
    "val_dataset = TimeSeriesDataset(X_val, y_val)\n",
    "test_dataset = TimeSeriesDataset(X_test, y_test)"
   ]
  },
  {
   "cell_type": "code",
   "execution_count": 101,
   "metadata": {},
   "outputs": [],
   "source": [
    "train_loader = DataLoader(train_dataset, batch_size=CONFIG.BATCH_SIZE, shuffle=True)\n",
    "val_loader = DataLoader(val_dataset, batch_size=CONFIG.BATCH_SIZE, shuffle=False)\n",
    "test_loader = DataLoader(test_dataset, batch_size=CONFIG.BATCH_SIZE, shuffle=False)"
   ]
  },
  {
   "cell_type": "markdown",
   "metadata": {},
   "source": [
    "### Model"
   ]
  },
  {
   "cell_type": "code",
   "execution_count": 102,
   "metadata": {},
   "outputs": [],
   "source": [
    "class GRUModel(nn.Module):\n",
    "    def __init__(self, input_dim, hidden_dim, output_dim, num_layers=1):\n",
    "        super(GRUModel, self).__init__()\n",
    "        self.hidden_dim = hidden_dim\n",
    "        self.num_layers = num_layers\n",
    "        self.gru = nn.GRU(input_dim, hidden_dim, num_layers, batch_first=True)\n",
    "        self.fc = nn.Linear(hidden_dim, output_dim)\n",
    "        self.sigmoid = nn.Sigmoid()\n",
    "    \n",
    "    def forward(self, x):\n",
    "        h0 = torch.zeros(self.num_layers, x.size(0), self.hidden_dim).to(x.device)\n",
    "        out, _ = self.gru(x, h0)\n",
    "        out = self.fc(out[:, -1, :])\n",
    "        out = self.sigmoid(out)\n",
    "        return out"
   ]
  },
  {
   "cell_type": "code",
   "execution_count": 103,
   "metadata": {},
   "outputs": [],
   "source": [
    "input_dim = len(feature_keys)\n",
    "hidden_dim = 50\n",
    "output_dim = 1"
   ]
  },
  {
   "cell_type": "code",
   "execution_count": 104,
   "metadata": {},
   "outputs": [],
   "source": [
    "model = GRUModel(input_dim, hidden_dim, output_dim)\n",
    "model = model.to(CONFIG.DEVICE)"
   ]
  },
  {
   "cell_type": "code",
   "execution_count": 105,
   "metadata": {},
   "outputs": [],
   "source": [
    "criterion = nn.BCELoss()\n",
    "optimizer = optim.Adam(model.parameters(), lr=CONFIG.LEARNING_RATE)"
   ]
  },
  {
   "cell_type": "markdown",
   "metadata": {},
   "source": [
    "### Training"
   ]
  },
  {
   "cell_type": "code",
   "execution_count": 106,
   "metadata": {},
   "outputs": [],
   "source": [
    "@mlflow_run_decorator(run_name=CONFIG.FILE_NAME)\n",
    "def train_model(model, train_loader, val_loader, criterion, optimizer, num_epochs):\n",
    "    mlflow.log_params(vars(CONFIG))\n",
    "    \n",
    "    device = CONFIG.DEVICE\n",
    "    model.to(device)\n",
    "\n",
    "    for epoch in range(num_epochs):\n",
    "        model.train()\n",
    "        train_loss = 0.0\n",
    "        for inputs, labels in train_loader:\n",
    "            inputs, labels = inputs.to(device), labels.to(device)\n",
    "            optimizer.zero_grad()\n",
    "            outputs = model(inputs)\n",
    "            loss = criterion(outputs.squeeze(), labels)\n",
    "            loss.backward()\n",
    "            optimizer.step()\n",
    "            train_loss += loss.item() * inputs.size(0)\n",
    "        \n",
    "        val_loss = 0.0\n",
    "        model.eval()\n",
    "        all_preds = []\n",
    "        with torch.no_grad():\n",
    "            for inputs, labels in val_loader:\n",
    "                inputs, labels = inputs.to(device), labels.to(device)\n",
    "                outputs = model(inputs)\n",
    "                loss = criterion(outputs.squeeze(), labels)\n",
    "                val_loss += loss.item() * inputs.size(0)\n",
    "                all_preds.extend(outputs.squeeze().cpu().numpy())\n",
    "        \n",
    "        train_loss /= len(train_loader.dataset)\n",
    "        val_loss /= len(val_loader.dataset)\n",
    "        \n",
    "        val_preds = (np.array(all_preds) > 0.5).astype(int)\n",
    "        f1 = f1_score(y_val, val_preds, average='macro')\n",
    "        \n",
    "        # print(f'Epoch {epoch+1}/{num_epochs}, Train Loss: {train_loss:.4f}, Val Loss: {val_loss:.4f}, Val F1 Score: {f1:.4f}')\n",
    "        mlflow.log_metric('Train Loss', train_loss, step=epoch)\n",
    "        mlflow.log_metric('Val Loss', val_loss, step=epoch)\n",
    "        mlflow.log_metric('Val F1 Score', f1, step=epoch)\n",
    "    \n",
    "    return model"
   ]
  },
  {
   "cell_type": "code",
   "execution_count": 107,
   "metadata": {},
   "outputs": [],
   "source": [
    "model = train_model(model, train_loader, val_loader, criterion, optimizer, CONFIG.EPOCHS)"
   ]
  },
  {
   "cell_type": "code",
   "execution_count": 108,
   "metadata": {},
   "outputs": [
    {
     "name": "stdout",
     "output_type": "stream",
     "text": [
      "Test 데이터에 대한 F1 Score: 0.85564584\n"
     ]
    }
   ],
   "source": [
    "model.eval()\n",
    "test_preds = []\n",
    "with torch.no_grad():\n",
    "    for inputs, labels in test_loader:\n",
    "        inputs = inputs.to(CONFIG.DEVICE)\n",
    "        outputs = model(inputs)\n",
    "        test_preds.extend(outputs.squeeze().cpu().numpy())\n",
    "\n",
    "test_preds = (np.array(test_preds) > 0.5).astype(int)\n",
    "f1 = f1_score(y_test, test_preds, average='macro')\n",
    "print(f'Test 데이터에 대한 F1 Score: {f1:.8f}')"
   ]
  },
  {
   "cell_type": "markdown",
   "metadata": {},
   "source": [
    "### Pred"
   ]
  },
  {
   "cell_type": "code",
   "execution_count": null,
   "metadata": {},
   "outputs": [],
   "source": [
    "submission = pd.read_csv(os.path.join(CONFIG.ROOT_DIR, \"test_y.csv\"), index_col='Serial Number')\n",
    "\n",
    "y_test_pred = clf.predict(X_test)\n",
    "submission[\"Y\"] = y_test_pred\n",
    "submission.to_csv(\"submission.csv\", index_label='Serial Number')"
   ]
  },
  {
   "cell_type": "code",
   "execution_count": null,
   "metadata": {},
   "outputs": [],
   "source": [
    "submission = pd.read_csv(\"submission.csv\", index_col='Serial Number')\n",
    "submission"
   ]
  },
  {
   "cell_type": "code",
   "execution_count": null,
   "metadata": {
    "scrolled": true
   },
   "outputs": [],
   "source": [
    "print(submission[\"Y\"].mean())\n",
    "print(train_y.mean())"
   ]
  },
  {
   "cell_type": "markdown",
   "metadata": {},
   "source": [
    "Public Score : 0.8130563798219584"
   ]
  }
 ],
 "metadata": {
  "kernelspec": {
   "display_name": "Python 3 (ipykernel)",
   "language": "python",
   "name": "python3"
  },
  "language_info": {
   "codemirror_mode": {
    "name": "ipython",
    "version": 3
   },
   "file_extension": ".py",
   "mimetype": "text/x-python",
   "name": "python",
   "nbconvert_exporter": "python",
   "pygments_lexer": "ipython3",
   "version": "3.12.4"
  }
 },
 "nbformat": 4,
 "nbformat_minor": 2
}
