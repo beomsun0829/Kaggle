{
 "cells": [
  {
   "cell_type": "code",
   "execution_count": 1,
   "metadata": {},
   "outputs": [],
   "source": [
    "import os\n",
    "import sys\n",
    "\n",
    "import pandas as pd\n",
    "from matplotlib import pyplot as plt\n",
    "\n",
    "from sklearn.preprocessing import StandardScaler\n",
    "from sklearn.metrics import f1_score\n",
    "\n",
    "import tqdm\n",
    "import numpy as np\n",
    "import random\n",
    "\n",
    "import warnings\n",
    "warnings.filterwarnings(\"ignore\")"
   ]
  },
  {
   "cell_type": "code",
   "execution_count": 2,
   "metadata": {},
   "outputs": [],
   "source": [
    "class Config:\n",
    "    ROOT_DIR = './data/huge'\n",
    "    SEED = 42\n",
    "\n",
    "CONFIG = Config()"
   ]
  },
  {
   "cell_type": "code",
   "execution_count": 3,
   "metadata": {},
   "outputs": [],
   "source": [
    "seed = CONFIG.SEED\n",
    "np.random.seed(seed)\n",
    "random.seed(seed)"
   ]
  },
  {
   "cell_type": "code",
   "execution_count": 5,
   "metadata": {},
   "outputs": [],
   "source": [
    "train_df = pd.read_csv(os.path.join(CONFIG.ROOT_DIR, \"train_df.csv\"), index_col='Serial Number')\n",
    "test_x = pd.read_csv(os.path.join(CONFIG.ROOT_DIR, \"test_x.csv\"), index_col='Serial Number')\n",
    "train_y = pd.read_csv(os.path.join(CONFIG.ROOT_DIR, \"train_y.csv\"), index_col='Serial Number')"
   ]
  },
  {
   "cell_type": "code",
   "execution_count": 7,
   "metadata": {},
   "outputs": [],
   "source": [
    "train_df['TIMESTAMP'] = pd.to_datetime(train_df['TIMESTAMP'])\n",
    "train_df['TIMESTAMP'] = train_df['TIMESTAMP'].map(lambda t: t.strftime('%Y-%m-%d %H:%M'))\n",
    "\n",
    "test_x['TIMESTAMP'] = pd.to_datetime(test_x['TIMESTAMP'])\n",
    "test_x['TIMESTAMP'] = test_x['TIMESTAMP'].map(lambda t: t.strftime('%Y-%m-%d %H:%M'))\n",
    "\n",
    "serial_key = list(train_df.columns)[0]\n",
    "date_time_key = list(train_df.columns)[1]\n",
    "feature_keys = list(train_df.columns)[3:-1]\n",
    "target_key = list(train_df.columns)[-1]\n",
    "\n",
    "train_x = train_df.drop(columns='Y')"
   ]
  },
  {
   "cell_type": "code",
   "execution_count": 8,
   "metadata": {},
   "outputs": [
    {
     "data": {
      "text/html": [
       "<div>\n",
       "<style scoped>\n",
       "    .dataframe tbody tr th:only-of-type {\n",
       "        vertical-align: middle;\n",
       "    }\n",
       "\n",
       "    .dataframe tbody tr th {\n",
       "        vertical-align: top;\n",
       "    }\n",
       "\n",
       "    .dataframe thead th {\n",
       "        text-align: right;\n",
       "    }\n",
       "</style>\n",
       "<table border=\"1\" class=\"dataframe\">\n",
       "  <thead>\n",
       "    <tr style=\"text-align: right;\">\n",
       "      <th></th>\n",
       "      <th>TIMESTAMP</th>\n",
       "      <th>X1</th>\n",
       "      <th>X2</th>\n",
       "      <th>X3</th>\n",
       "      <th>X4</th>\n",
       "      <th>X5</th>\n",
       "      <th>X6</th>\n",
       "      <th>X7</th>\n",
       "      <th>X8</th>\n",
       "      <th>X9</th>\n",
       "      <th>X10</th>\n",
       "      <th>X11</th>\n",
       "      <th>X12</th>\n",
       "      <th>X13</th>\n",
       "      <th>X14</th>\n",
       "      <th>X15</th>\n",
       "      <th>X16</th>\n",
       "      <th>X17</th>\n",
       "      <th>X18</th>\n",
       "      <th>Y</th>\n",
       "    </tr>\n",
       "    <tr>\n",
       "      <th>Serial Number</th>\n",
       "      <th></th>\n",
       "      <th></th>\n",
       "      <th></th>\n",
       "      <th></th>\n",
       "      <th></th>\n",
       "      <th></th>\n",
       "      <th></th>\n",
       "      <th></th>\n",
       "      <th></th>\n",
       "      <th></th>\n",
       "      <th></th>\n",
       "      <th></th>\n",
       "      <th></th>\n",
       "      <th></th>\n",
       "      <th></th>\n",
       "      <th></th>\n",
       "      <th></th>\n",
       "      <th></th>\n",
       "      <th></th>\n",
       "      <th></th>\n",
       "    </tr>\n",
       "  </thead>\n",
       "  <tbody>\n",
       "    <tr>\n",
       "      <th>19</th>\n",
       "      <td>2020-02-09 16:24</td>\n",
       "      <td>EI83N072710203N8H</td>\n",
       "      <td>22</td>\n",
       "      <td>18</td>\n",
       "      <td>22</td>\n",
       "      <td>16</td>\n",
       "      <td>32</td>\n",
       "      <td>99</td>\n",
       "      <td>91219</td>\n",
       "      <td>43095</td>\n",
       "      <td>2132</td>\n",
       "      <td>0.0</td>\n",
       "      <td>0.0</td>\n",
       "      <td>0.0</td>\n",
       "      <td>0.0</td>\n",
       "      <td>0.0</td>\n",
       "      <td>0.0</td>\n",
       "      <td>0.0</td>\n",
       "      <td>0.0</td>\n",
       "      <td>1</td>\n",
       "    </tr>\n",
       "    <tr>\n",
       "      <th>19</th>\n",
       "      <td>2020-02-10 16:39</td>\n",
       "      <td>EI83N072710203N8H</td>\n",
       "      <td>22</td>\n",
       "      <td>18</td>\n",
       "      <td>22</td>\n",
       "      <td>16</td>\n",
       "      <td>32</td>\n",
       "      <td>99</td>\n",
       "      <td>91413</td>\n",
       "      <td>43214</td>\n",
       "      <td>2133</td>\n",
       "      <td>24.0</td>\n",
       "      <td>0.0</td>\n",
       "      <td>0.0</td>\n",
       "      <td>0.0</td>\n",
       "      <td>0.0</td>\n",
       "      <td>0.0</td>\n",
       "      <td>0.0</td>\n",
       "      <td>0.0</td>\n",
       "      <td>1</td>\n",
       "    </tr>\n",
       "    <tr>\n",
       "      <th>19</th>\n",
       "      <td>2020-02-11 16:54</td>\n",
       "      <td>EI83N072710203N8H</td>\n",
       "      <td>22</td>\n",
       "      <td>18</td>\n",
       "      <td>22</td>\n",
       "      <td>16</td>\n",
       "      <td>32</td>\n",
       "      <td>99</td>\n",
       "      <td>91606</td>\n",
       "      <td>43332</td>\n",
       "      <td>2135</td>\n",
       "      <td>49.0</td>\n",
       "      <td>1.0</td>\n",
       "      <td>0.0</td>\n",
       "      <td>0.0</td>\n",
       "      <td>1.0</td>\n",
       "      <td>0.0</td>\n",
       "      <td>0.0</td>\n",
       "      <td>0.0</td>\n",
       "      <td>1</td>\n",
       "    </tr>\n",
       "  </tbody>\n",
       "</table>\n",
       "</div>"
      ],
      "text/plain": [
       "                      TIMESTAMP                 X1  X2  X3  X4  X5  X6  X7  \\\n",
       "Serial Number                                                                \n",
       "19             2020-02-09 16:24  EI83N072710203N8H  22  18  22  16  32  99   \n",
       "19             2020-02-10 16:39  EI83N072710203N8H  22  18  22  16  32  99   \n",
       "19             2020-02-11 16:54  EI83N072710203N8H  22  18  22  16  32  99   \n",
       "\n",
       "                  X8     X9   X10   X11  X12  X13  X14  X15  X16  X17  X18  Y  \n",
       "Serial Number                                                                  \n",
       "19             91219  43095  2132   0.0  0.0  0.0  0.0  0.0  0.0  0.0  0.0  1  \n",
       "19             91413  43214  2133  24.0  0.0  0.0  0.0  0.0  0.0  0.0  0.0  1  \n",
       "19             91606  43332  2135  49.0  1.0  0.0  0.0  1.0  0.0  0.0  0.0  1  "
      ]
     },
     "execution_count": 8,
     "metadata": {},
     "output_type": "execute_result"
    }
   ],
   "source": [
    "train_df.head(3)"
   ]
  },
  {
   "cell_type": "code",
   "execution_count": 6,
   "metadata": {},
   "outputs": [
    {
     "data": {
      "text/plain": [
       "Y\n",
       "0    7060\n",
       "1    1212\n",
       "dtype: int64"
      ]
     },
     "execution_count": 6,
     "metadata": {},
     "output_type": "execute_result"
    }
   ],
   "source": [
    "train_y.value_counts()"
   ]
  },
  {
   "cell_type": "markdown",
   "metadata": {},
   "source": [
    "Fail 수가 더 적음\n"
   ]
  },
  {
   "cell_type": "code",
   "execution_count": 7,
   "metadata": {},
   "outputs": [
    {
     "name": "stdout",
     "output_type": "stream",
     "text": [
      "Train Data 크기 : (555456, 19)\n",
      "Test Data 크기 : (138880, 19)\n",
      "Train Data의 Serial Number의 unique 값 : 97860\n",
      "Test Data의 Serial Number의 unique 값 : 72562\n"
     ]
    }
   ],
   "source": [
    "print(\"Train Data 크기 :\", train_x.shape)\n",
    "print(\"Test Data 크기 :\", test_x.shape)\n",
    "\n",
    "print(\"Train Data의 Serial Number의 unique 값 :\", len(train_x[serial_key].unique()))\n",
    "print(\"Test Data의 Serial Number의 unique 값 :\", len(test_x[serial_key].unique()))"
   ]
  },
  {
   "cell_type": "markdown",
   "metadata": {},
   "source": [
    "### PreProcessing"
   ]
  },
  {
   "cell_type": "code",
   "execution_count": 8,
   "metadata": {},
   "outputs": [],
   "source": [
    "train_x.drop(columns='X1', inplace=True)\n",
    "test_x.drop(columns='X1', inplace=True)"
   ]
  },
  {
   "cell_type": "code",
   "execution_count": 9,
   "metadata": {},
   "outputs": [],
   "source": [
    "scaler = StandardScaler()\n",
    "train_x[feature_keys] = scaler.fit_transform(train_df[feature_keys])\n",
    "test_x[feature_keys] = scaler.transform(test_x[feature_keys])"
   ]
  },
  {
   "cell_type": "code",
   "execution_count": 10,
   "metadata": {},
   "outputs": [],
   "source": [
    "train_x_by_serial = [group[1] for group in train_x.groupby(train_x.index)]\n",
    "test_x_by_serial = [group[1] for group in test_x.groupby(test_x.index)]\n",
    "\n",
    "train_x_by_serial = [group.sort_values('TIMESTAMP') for group in train_x_by_serial]\n",
    "test_x_by_serial = [group.sort_values('TIMESTAMP') for group in test_x_by_serial]"
   ]
  },
  {
   "cell_type": "code",
   "execution_count": 11,
   "metadata": {},
   "outputs": [
    {
     "data": {
      "text/plain": [
       "48"
      ]
     },
     "execution_count": 11,
     "metadata": {},
     "output_type": "execute_result"
    }
   ],
   "source": [
    "train_x_by_serial[2].index.unique().item()"
   ]
  },
  {
   "cell_type": "code",
   "execution_count": 12,
   "metadata": {},
   "outputs": [
    {
     "data": {
      "text/plain": [
       "Y    0\n",
       "Name: 54509, dtype: int64"
      ]
     },
     "execution_count": 12,
     "metadata": {},
     "output_type": "execute_result"
    }
   ],
   "source": [
    "train_y.loc[54509]"
   ]
  },
  {
   "cell_type": "markdown",
   "metadata": {},
   "source": [
    "### 데이터의 길이 확인"
   ]
  },
  {
   "cell_type": "code",
   "execution_count": 13,
   "metadata": {
    "scrolled": true
   },
   "outputs": [
    {
     "data": {
      "text/plain": [
       "8272"
      ]
     },
     "execution_count": 13,
     "metadata": {},
     "output_type": "execute_result"
    }
   ],
   "source": [
    "len(train_x_by_serial)"
   ]
  },
  {
   "cell_type": "code",
   "execution_count": 14,
   "metadata": {},
   "outputs": [],
   "source": [
    "lens = [len(x) for x in train_x_by_serial]"
   ]
  },
  {
   "cell_type": "code",
   "execution_count": 15,
   "metadata": {},
   "outputs": [
    {
     "data": {
      "text/plain": [
       "(array([  35.,   37.,   25.,   34.,   29.,   53.,   87.,  103., 5212.,\n",
       "        2657.]),\n",
       " array([53. , 54.6, 56.2, 57.8, 59.4, 61. , 62.6, 64.2, 65.8, 67.4, 69. ]),\n",
       " <BarContainer object of 10 artists>)"
      ]
     },
     "execution_count": 15,
     "metadata": {},
     "output_type": "execute_result"
    },
    {
     "data": {
      "image/png": "[encoded data removed]",
      "text/plain": [
       "<Figure size 640x480 with 1 Axes>"
      ]
     },
     "metadata": {},
     "output_type": "display_data"
    }
   ],
   "source": [
    "plt.hist(lens)"
   ]
  },
  {
   "cell_type": "markdown",
   "metadata": {},
   "source": [
    "### 데이터 구성 확인"
   ]
  },
  {
   "cell_type": "code",
   "execution_count": 16,
   "metadata": {},
   "outputs": [
    {
     "data": {
      "image/png": "[encoded data removed]",
      "text/plain": [
       "<Figure size 640x480 with 1 Axes>"
      ]
     },
     "metadata": {},
     "output_type": "display_data"
    }
   ],
   "source": [
    "view = 500\n",
    "for idx, feature in enumerate(feature_keys):\n",
    "    plt.plot(list(train_x_by_serial[view][feature]))\n",
    "plt.title(f'Idx : {view}, {train_y.iloc[view]}')\n",
    "plt.show()"
   ]
  },
  {
   "cell_type": "code",
   "execution_count": 17,
   "metadata": {},
   "outputs": [
    {
     "name": "stdout",
     "output_type": "stream",
     "text": [
      "['X3', 'X4', 'X5', 'X6', 'X7', 'X8', 'X9', 'X10', 'X11', 'X12', 'X13', 'X14', 'X15', 'X16', 'X17', 'X18']\n"
     ]
    }
   ],
   "source": [
    "print(feature_keys)"
   ]
  },
  {
   "cell_type": "code",
   "execution_count": 18,
   "metadata": {},
   "outputs": [
    {
     "data": {
      "text/html": [
       "<div>\n",
       "<style scoped>\n",
       "    .dataframe tbody tr th:only-of-type {\n",
       "        vertical-align: middle;\n",
       "    }\n",
       "\n",
       "    .dataframe tbody tr th {\n",
       "        vertical-align: top;\n",
       "    }\n",
       "\n",
       "    .dataframe thead th {\n",
       "        text-align: right;\n",
       "    }\n",
       "</style>\n",
       "<table border=\"1\" class=\"dataframe\">\n",
       "  <thead>\n",
       "    <tr style=\"text-align: right;\">\n",
       "      <th></th>\n",
       "      <th>TIMESTAMP</th>\n",
       "      <th>X2</th>\n",
       "      <th>X3</th>\n",
       "      <th>X4</th>\n",
       "      <th>X5</th>\n",
       "      <th>X6</th>\n",
       "      <th>X7</th>\n",
       "      <th>X8</th>\n",
       "      <th>X9</th>\n",
       "      <th>X10</th>\n",
       "      <th>X11</th>\n",
       "      <th>X12</th>\n",
       "      <th>X13</th>\n",
       "      <th>X14</th>\n",
       "      <th>X15</th>\n",
       "      <th>X16</th>\n",
       "      <th>X17</th>\n",
       "      <th>X18</th>\n",
       "    </tr>\n",
       "    <tr>\n",
       "      <th>Serial Number</th>\n",
       "      <th></th>\n",
       "      <th></th>\n",
       "      <th></th>\n",
       "      <th></th>\n",
       "      <th></th>\n",
       "      <th></th>\n",
       "      <th></th>\n",
       "      <th></th>\n",
       "      <th></th>\n",
       "      <th></th>\n",
       "      <th></th>\n",
       "      <th></th>\n",
       "      <th></th>\n",
       "      <th></th>\n",
       "      <th></th>\n",
       "      <th></th>\n",
       "      <th></th>\n",
       "      <th></th>\n",
       "    </tr>\n",
       "  </thead>\n",
       "  <tbody>\n",
       "    <tr>\n",
       "      <th>19</th>\n",
       "      <td>2020-02-09 16:24</td>\n",
       "      <td>22</td>\n",
       "      <td>-0.131197</td>\n",
       "      <td>-0.328687</td>\n",
       "      <td>-1.188559</td>\n",
       "      <td>-0.159641</td>\n",
       "      <td>0.099822</td>\n",
       "      <td>0.369237</td>\n",
       "      <td>0.052918</td>\n",
       "      <td>-0.101300</td>\n",
       "      <td>-1.734490</td>\n",
       "      <td>-0.465737</td>\n",
       "      <td>-0.012637</td>\n",
       "      <td>-0.035175</td>\n",
       "      <td>-0.464819</td>\n",
       "      <td>-0.010677</td>\n",
       "      <td>-0.011952</td>\n",
       "      <td>-0.013366</td>\n",
       "    </tr>\n",
       "    <tr>\n",
       "      <th>19</th>\n",
       "      <td>2020-02-10 16:39</td>\n",
       "      <td>22</td>\n",
       "      <td>-0.131197</td>\n",
       "      <td>-0.328687</td>\n",
       "      <td>-1.188559</td>\n",
       "      <td>-0.159641</td>\n",
       "      <td>0.099822</td>\n",
       "      <td>0.373802</td>\n",
       "      <td>0.056632</td>\n",
       "      <td>-0.101255</td>\n",
       "      <td>-1.684896</td>\n",
       "      <td>-0.465737</td>\n",
       "      <td>-0.012637</td>\n",
       "      <td>-0.035175</td>\n",
       "      <td>-0.464819</td>\n",
       "      <td>-0.010677</td>\n",
       "      <td>-0.011952</td>\n",
       "      <td>-0.013366</td>\n",
       "    </tr>\n",
       "    <tr>\n",
       "      <th>19</th>\n",
       "      <td>2020-02-11 16:54</td>\n",
       "      <td>22</td>\n",
       "      <td>-0.131197</td>\n",
       "      <td>-0.328687</td>\n",
       "      <td>-1.188559</td>\n",
       "      <td>-0.159641</td>\n",
       "      <td>0.099822</td>\n",
       "      <td>0.378344</td>\n",
       "      <td>0.060313</td>\n",
       "      <td>-0.101165</td>\n",
       "      <td>-1.633236</td>\n",
       "      <td>-0.461173</td>\n",
       "      <td>-0.012637</td>\n",
       "      <td>-0.035175</td>\n",
       "      <td>-0.460239</td>\n",
       "      <td>-0.010677</td>\n",
       "      <td>-0.011952</td>\n",
       "      <td>-0.013366</td>\n",
       "    </tr>\n",
       "  </tbody>\n",
       "</table>\n",
       "</div>"
      ],
      "text/plain": [
       "                      TIMESTAMP  X2        X3        X4        X5        X6  \\\n",
       "Serial Number                                                                 \n",
       "19             2020-02-09 16:24  22 -0.131197 -0.328687 -1.188559 -0.159641   \n",
       "19             2020-02-10 16:39  22 -0.131197 -0.328687 -1.188559 -0.159641   \n",
       "19             2020-02-11 16:54  22 -0.131197 -0.328687 -1.188559 -0.159641   \n",
       "\n",
       "                     X7        X8        X9       X10       X11       X12  \\\n",
       "Serial Number                                                               \n",
       "19             0.099822  0.369237  0.052918 -0.101300 -1.734490 -0.465737   \n",
       "19             0.099822  0.373802  0.056632 -0.101255 -1.684896 -0.465737   \n",
       "19             0.099822  0.378344  0.060313 -0.101165 -1.633236 -0.461173   \n",
       "\n",
       "                    X13       X14       X15       X16       X17       X18  \n",
       "Serial Number                                                              \n",
       "19            -0.012637 -0.035175 -0.464819 -0.010677 -0.011952 -0.013366  \n",
       "19            -0.012637 -0.035175 -0.464819 -0.010677 -0.011952 -0.013366  \n",
       "19            -0.012637 -0.035175 -0.460239 -0.010677 -0.011952 -0.013366  "
      ]
     },
     "execution_count": 18,
     "metadata": {},
     "output_type": "execute_result"
    }
   ],
   "source": [
    "train_x_by_serial[0].head(3)"
   ]
  },
  {
   "cell_type": "markdown",
   "metadata": {},
   "source": [
    "## 데이터셋 생성"
   ]
  },
  {
   "cell_type": "code",
   "execution_count": 19,
   "metadata": {},
   "outputs": [],
   "source": [
    "def train_test_split(Xs, ys, test_ratio=0.2):\n",
    "    data_per_label = {}\n",
    "\n",
    "    for x, y in zip(Xs, ys):\n",
    "        label = y\n",
    "        if label not in data_per_label:\n",
    "            data_per_label[label] = []\n",
    "        data_per_label[label].append((x, y))\n",
    "\n",
    "    train = []\n",
    "    test = []\n",
    "\n",
    "    for label in data_per_label:\n",
    "        data = data_per_label[label]\n",
    "        n_test = int(len(data) * test_ratio)\n",
    "        test += data[:n_test]\n",
    "        train += data[n_test:]\n",
    "\n",
    "    X_train, y_train = zip(*train)\n",
    "    X_test, y_test = zip(*test)\n",
    "\n",
    "    return X_train, X_test, y_train, y_test"
   ]
  },
  {
   "cell_type": "code",
   "execution_count": 20,
   "metadata": {},
   "outputs": [],
   "source": [
    "X_train, X_val, y_train, y_val = train_test_split(train_x_by_serial, train_y['Y'], test_ratio=0.2)"
   ]
  },
  {
   "cell_type": "code",
   "execution_count": 21,
   "metadata": {},
   "outputs": [
    {
     "data": {
      "text/html": [
       "<div>\n",
       "<style scoped>\n",
       "    .dataframe tbody tr th:only-of-type {\n",
       "        vertical-align: middle;\n",
       "    }\n",
       "\n",
       "    .dataframe tbody tr th {\n",
       "        vertical-align: top;\n",
       "    }\n",
       "\n",
       "    .dataframe thead th {\n",
       "        text-align: right;\n",
       "    }\n",
       "</style>\n",
       "<table border=\"1\" class=\"dataframe\">\n",
       "  <thead>\n",
       "    <tr style=\"text-align: right;\">\n",
       "      <th></th>\n",
       "      <th>TIMESTAMP</th>\n",
       "      <th>X2</th>\n",
       "      <th>X3</th>\n",
       "      <th>X4</th>\n",
       "      <th>X5</th>\n",
       "      <th>X6</th>\n",
       "      <th>X7</th>\n",
       "      <th>X8</th>\n",
       "      <th>X9</th>\n",
       "      <th>X10</th>\n",
       "      <th>X11</th>\n",
       "      <th>X12</th>\n",
       "      <th>X13</th>\n",
       "      <th>X14</th>\n",
       "      <th>X15</th>\n",
       "      <th>X16</th>\n",
       "      <th>X17</th>\n",
       "      <th>X18</th>\n",
       "    </tr>\n",
       "    <tr>\n",
       "      <th>Serial Number</th>\n",
       "      <th></th>\n",
       "      <th></th>\n",
       "      <th></th>\n",
       "      <th></th>\n",
       "      <th></th>\n",
       "      <th></th>\n",
       "      <th></th>\n",
       "      <th></th>\n",
       "      <th></th>\n",
       "      <th></th>\n",
       "      <th></th>\n",
       "      <th></th>\n",
       "      <th></th>\n",
       "      <th></th>\n",
       "      <th></th>\n",
       "      <th></th>\n",
       "      <th></th>\n",
       "      <th></th>\n",
       "    </tr>\n",
       "  </thead>\n",
       "  <tbody>\n",
       "    <tr>\n",
       "      <th>5832</th>\n",
       "      <td>2020-02-09 23:53</td>\n",
       "      <td>25</td>\n",
       "      <td>-0.120935</td>\n",
       "      <td>-0.675886</td>\n",
       "      <td>-1.188559</td>\n",
       "      <td>0.313102</td>\n",
       "      <td>0.099822</td>\n",
       "      <td>0.626774</td>\n",
       "      <td>0.275547</td>\n",
       "      <td>-0.085231</td>\n",
       "      <td>-1.734490</td>\n",
       "      <td>-0.465737</td>\n",
       "      <td>-0.012637</td>\n",
       "      <td>-0.035175</td>\n",
       "      <td>-0.464819</td>\n",
       "      <td>-0.010677</td>\n",
       "      <td>-0.011952</td>\n",
       "      <td>-0.013366</td>\n",
       "    </tr>\n",
       "    <tr>\n",
       "      <th>5832</th>\n",
       "      <td>2020-02-11 00:08</td>\n",
       "      <td>25</td>\n",
       "      <td>-0.120935</td>\n",
       "      <td>-0.328687</td>\n",
       "      <td>-1.188559</td>\n",
       "      <td>0.313102</td>\n",
       "      <td>0.099822</td>\n",
       "      <td>0.630822</td>\n",
       "      <td>0.278886</td>\n",
       "      <td>-0.085231</td>\n",
       "      <td>-1.684896</td>\n",
       "      <td>-0.420095</td>\n",
       "      <td>-0.012637</td>\n",
       "      <td>-0.035175</td>\n",
       "      <td>-0.419026</td>\n",
       "      <td>-0.010677</td>\n",
       "      <td>-0.011952</td>\n",
       "      <td>-0.013366</td>\n",
       "    </tr>\n",
       "    <tr>\n",
       "      <th>5832</th>\n",
       "      <td>2020-02-12 00:23</td>\n",
       "      <td>25</td>\n",
       "      <td>-0.120935</td>\n",
       "      <td>-0.328687</td>\n",
       "      <td>-1.188559</td>\n",
       "      <td>0.313102</td>\n",
       "      <td>0.099822</td>\n",
       "      <td>0.634893</td>\n",
       "      <td>0.282256</td>\n",
       "      <td>-0.085186</td>\n",
       "      <td>-1.635302</td>\n",
       "      <td>-0.360761</td>\n",
       "      <td>-0.012637</td>\n",
       "      <td>-0.035175</td>\n",
       "      <td>-0.359496</td>\n",
       "      <td>-0.010677</td>\n",
       "      <td>-0.011952</td>\n",
       "      <td>-0.013366</td>\n",
       "    </tr>\n",
       "  </tbody>\n",
       "</table>\n",
       "</div>"
      ],
      "text/plain": [
       "                      TIMESTAMP  X2        X3        X4        X5        X6  \\\n",
       "Serial Number                                                                 \n",
       "5832           2020-02-09 23:53  25 -0.120935 -0.675886 -1.188559  0.313102   \n",
       "5832           2020-02-11 00:08  25 -0.120935 -0.328687 -1.188559  0.313102   \n",
       "5832           2020-02-12 00:23  25 -0.120935 -0.328687 -1.188559  0.313102   \n",
       "\n",
       "                     X7        X8        X9       X10       X11       X12  \\\n",
       "Serial Number                                                               \n",
       "5832           0.099822  0.626774  0.275547 -0.085231 -1.734490 -0.465737   \n",
       "5832           0.099822  0.630822  0.278886 -0.085231 -1.684896 -0.420095   \n",
       "5832           0.099822  0.634893  0.282256 -0.085186 -1.635302 -0.360761   \n",
       "\n",
       "                    X13       X14       X15       X16       X17       X18  \n",
       "Serial Number                                                              \n",
       "5832          -0.012637 -0.035175 -0.464819 -0.010677 -0.011952 -0.013366  \n",
       "5832          -0.012637 -0.035175 -0.419026 -0.010677 -0.011952 -0.013366  \n",
       "5832          -0.012637 -0.035175 -0.359496 -0.010677 -0.011952 -0.013366  "
      ]
     },
     "execution_count": 21,
     "metadata": {},
     "output_type": "execute_result"
    }
   ],
   "source": [
    "X_train[0].head(3)"
   ]
  },
  {
   "cell_type": "code",
   "execution_count": 22,
   "metadata": {},
   "outputs": [
    {
     "name": "stdout",
     "output_type": "stream",
     "text": [
      "Train Data의 개수 : 6618\n",
      "Validation Data의 개수 : 1654\n",
      "Test Data의 개수 : 2069\n"
     ]
    }
   ],
   "source": [
    "X_train = [x.drop(columns='TIMESTAMP') for x in X_train]\n",
    "X_val = [x.drop(columns='TIMESTAMP') for x in X_val]\n",
    "X_test = [x.drop(columns='TIMESTAMP') for x in test_x_by_serial]\n",
    "\n",
    "print(\"Train Data의 개수 :\", len(X_train))\n",
    "print(\"Validation Data의 개수 :\", len(X_val))\n",
    "print(\"Test Data의 개수 :\", len(X_test))"
   ]
  },
  {
   "cell_type": "code",
   "execution_count": 23,
   "metadata": {},
   "outputs": [],
   "source": [
    "def align_data(data, series_length):\n",
    "    data_features = [x[feature_keys] for x in data]\n",
    "    len_data = len(data_features)\n",
    "    length_aligned_X = [[] for _ in range(len_data)]\n",
    "    for idx, x in enumerate(data_features):\n",
    "        if len(x) >= series_length:\n",
    "            length_aligned_X[idx].append(x.iloc[- series_length:].values)\n",
    "        else:\n",
    "            print(f'extended at index {idx}')\n",
    "            last_value = x.iloc[-1].values\n",
    "            extended_part = np.tile(last_value, (series_length - len(x), 1))\n",
    "            aligned_series = np.concatenate([x.values, extended_part], axis=0)\n",
    "            length_aligned_X[idx].append(aligned_series)\n",
    "    \n",
    "    return np.array(length_aligned_X).squeeze(axis=1)"
   ]
  },
  {
   "cell_type": "code",
   "execution_count": 24,
   "metadata": {},
   "outputs": [],
   "source": [
    "series_length = 50\n",
    "\n",
    "X_train_align_byFeature = align_data(X_train, series_length)\n",
    "X_val_align_byFeature = align_data(X_val, series_length)\n",
    "X_test_align_byFeature = align_data(X_test, series_length)"
   ]
  },
  {
   "cell_type": "code",
   "execution_count": 25,
   "metadata": {},
   "outputs": [],
   "source": [
    "y_train = np.array(y_train)\n",
    "y_val = np.array(y_val)"
   ]
  },
  {
   "cell_type": "markdown",
   "metadata": {},
   "source": [
    "## 모델 학습\n",
    "\n",
    "모델은 각자 자유롭게 구성할 수 있으며 올바른 형식으로 `submission.csv`를 쓴다면 다양한 모델이 허용됩니다.\n",
    "\n",
    "아래는 이해를 돕기 위한 예시 코드로 간단한 의사 결정 트리 머신러닝 모델을 학습하는 과정입니다."
   ]
  },
  {
   "cell_type": "code",
   "execution_count": 26,
   "metadata": {},
   "outputs": [
    {
     "name": "stdout",
     "output_type": "stream",
     "text": [
      "Defaulting to user installation because normal site-packages is not writeable\n",
      "Requirement already satisfied: xgboost in ./.local/lib/python3.10/site-packages (2.1.0)\n",
      "Requirement already satisfied: numpy in ./.local/lib/python3.10/site-packages (from xgboost) (1.26.4)\n",
      "Requirement already satisfied: nvidia-nccl-cu12 in ./.local/lib/python3.10/site-packages (from xgboost) (2.18.1)\n",
      "Requirement already satisfied: scipy in ./.local/lib/python3.10/site-packages (from xgboost) (1.11.3)\n",
      "\n",
      "\u001b[1m[\u001b[0m\u001b[34;49mnotice\u001b[0m\u001b[1;39;49m]\u001b[0m\u001b[39;49m A new release of pip is available: \u001b[0m\u001b[31;49m23.0.1\u001b[0m\u001b[39;49m -> \u001b[0m\u001b[32;49m24.1.2\u001b[0m\n",
      "\u001b[1m[\u001b[0m\u001b[34;49mnotice\u001b[0m\u001b[1;39;49m]\u001b[0m\u001b[39;49m To update, run: \u001b[0m\u001b[32;49mpip install --upgrade pip\u001b[0m\n"
     ]
    }
   ],
   "source": [
    "!pip install xgboost"
   ]
  },
  {
   "cell_type": "code",
   "execution_count": 27,
   "metadata": {},
   "outputs": [],
   "source": [
    "import xgboost\n",
    "from xgboost import XGBClassifier\n",
    "models = {}"
   ]
  },
  {
   "cell_type": "code",
   "execution_count": 28,
   "metadata": {},
   "outputs": [],
   "source": [
    "for idx, feature in enumerate(feature_keys):\n",
    "    model = XGBClassifier(random_state = seed)\n",
    "    X_feature = X_train_align_byFeature[:, :, idx]\n",
    "    model.fit(X_feature, y_train)\n",
    "    models[feature] = model"
   ]
  },
  {
   "cell_type": "code",
   "execution_count": 29,
   "metadata": {},
   "outputs": [
    {
     "name": "stdout",
     "output_type": "stream",
     "text": [
      "X3 F1 Score: 0.46549021\n",
      "X4 F1 Score: 0.67662411\n",
      "X5 F1 Score: 0.58074001\n",
      "X6 F1 Score: 0.46133060\n",
      "X7 F1 Score: 0.48941269\n",
      "X8 F1 Score: 0.59418286\n",
      "X9 F1 Score: 0.53906111\n",
      "X10 F1 Score: 0.65340101\n",
      "X11 F1 Score: 0.59233245\n",
      "X12 F1 Score: 0.90823925\n",
      "X13 F1 Score: 0.51464482\n",
      "X14 F1 Score: 0.46053490\n",
      "X15 F1 Score: 0.89759071\n",
      "X16 F1 Score: 0.46053490\n",
      "X17 F1 Score: 0.46035889\n",
      "X18 F1 Score: 0.53527722\n"
     ]
    }
   ],
   "source": [
    "scores={}\n",
    "\n",
    "for idx, feature in enumerate(feature_keys):\n",
    "    X_val_feature = X_val_align_byFeature[:, :, idx]\n",
    "    y_val_pred = models[feature].predict(X_val_feature)\n",
    "    \n",
    "    f1 = f1_score(y_val, y_val_pred, average='macro')\n",
    "    scores[feature] = f1\n",
    "    print(f'{feature} F1 Score: {f1:.8f}')"
   ]
  },
  {
   "cell_type": "code",
   "execution_count": 30,
   "metadata": {},
   "outputs": [
    {
     "data": {
      "text/plain": [
       "<BarContainer object of 16 artists>"
      ]
     },
     "execution_count": 30,
     "metadata": {},
     "output_type": "execute_result"
    },
    {
     "data": {
      "image/png": "[encoded data removed]",
      "text/plain": [
       "<Figure size 640x480 with 1 Axes>"
      ]
     },
     "metadata": {},
     "output_type": "display_data"
    }
   ],
   "source": [
    "plt.barh(list(scores.keys()), scores.values())"
   ]
  },
  {
   "cell_type": "code",
   "execution_count": 31,
   "metadata": {},
   "outputs": [
    {
     "name": "stdout",
     "output_type": "stream",
     "text": [
      "['X4', 'X5', 'X8', 'X9', 'X10', 'X11', 'X12', 'X13', 'X15', 'X18']\n"
     ]
    }
   ],
   "source": [
    "selected_features = [feature for feature, score in scores.items() if score >= 0.5]\n",
    "print(selected_features)"
   ]
  },
  {
   "cell_type": "markdown",
   "metadata": {},
   "source": [
    "### Pred"
   ]
  },
  {
   "cell_type": "code",
   "execution_count": 83,
   "metadata": {},
   "outputs": [],
   "source": [
    "submission = pd.read_csv(os.path.join(CONFIG.ROOT_DIR, \"test_y.csv\"), index_col='Serial Number')\n",
    "\n",
    "# 테스트 데이터에 대해 예측하고, 결과를 저장합니다.\n",
    "y_test_pred = clf.predict(X_test_align)\n",
    "submission[\"Y\"] = y_test_pred\n",
    "submission.to_csv(\"submission.csv\", index_label='Serial Number')"
   ]
  },
  {
   "cell_type": "markdown",
   "metadata": {},
   "source": [
    "### 결과 검증\n",
    "\n",
    "`submission.csv` 파일을 다시 불러와 올바르게 값을 채웠는지 다시 한번 확인합니다."
   ]
  },
  {
   "cell_type": "code",
   "execution_count": 84,
   "metadata": {},
   "outputs": [
    {
     "data": {
      "text/html": [
       "<div>\n",
       "<style scoped>\n",
       "    .dataframe tbody tr th:only-of-type {\n",
       "        vertical-align: middle;\n",
       "    }\n",
       "\n",
       "    .dataframe tbody tr th {\n",
       "        vertical-align: top;\n",
       "    }\n",
       "\n",
       "    .dataframe thead th {\n",
       "        text-align: right;\n",
       "    }\n",
       "</style>\n",
       "<table border=\"1\" class=\"dataframe\">\n",
       "  <thead>\n",
       "    <tr style=\"text-align: right;\">\n",
       "      <th></th>\n",
       "      <th>Y</th>\n",
       "    </tr>\n",
       "    <tr>\n",
       "      <th>Serial Number</th>\n",
       "      <th></th>\n",
       "    </tr>\n",
       "  </thead>\n",
       "  <tbody>\n",
       "    <tr>\n",
       "      <th>100122I</th>\n",
       "      <td>1</td>\n",
       "    </tr>\n",
       "    <tr>\n",
       "      <th>100368G</th>\n",
       "      <td>0</td>\n",
       "    </tr>\n",
       "    <tr>\n",
       "      <th>101403L</th>\n",
       "      <td>0</td>\n",
       "    </tr>\n",
       "    <tr>\n",
       "      <th>101426G</th>\n",
       "      <td>0</td>\n",
       "    </tr>\n",
       "    <tr>\n",
       "      <th>101505B</th>\n",
       "      <td>0</td>\n",
       "    </tr>\n",
       "    <tr>\n",
       "      <th>...</th>\n",
       "      <td>...</td>\n",
       "    </tr>\n",
       "    <tr>\n",
       "      <th>997719U</th>\n",
       "      <td>0</td>\n",
       "    </tr>\n",
       "    <tr>\n",
       "      <th>998737L</th>\n",
       "      <td>0</td>\n",
       "    </tr>\n",
       "    <tr>\n",
       "      <th>999308S</th>\n",
       "      <td>0</td>\n",
       "    </tr>\n",
       "    <tr>\n",
       "      <th>999800H</th>\n",
       "      <td>0</td>\n",
       "    </tr>\n",
       "    <tr>\n",
       "      <th>999974D</th>\n",
       "      <td>1</td>\n",
       "    </tr>\n",
       "  </tbody>\n",
       "</table>\n",
       "<p>2069 rows × 1 columns</p>\n",
       "</div>"
      ],
      "text/plain": [
       "               Y\n",
       "Serial Number   \n",
       "100122I        1\n",
       "100368G        0\n",
       "101403L        0\n",
       "101426G        0\n",
       "101505B        0\n",
       "...           ..\n",
       "997719U        0\n",
       "998737L        0\n",
       "999308S        0\n",
       "999800H        0\n",
       "999974D        1\n",
       "\n",
       "[2069 rows x 1 columns]"
      ]
     },
     "execution_count": 84,
     "metadata": {},
     "output_type": "execute_result"
    }
   ],
   "source": [
    "submission = pd.read_csv(\"submission.csv\", index_col='Serial Number')\n",
    "submission"
   ]
  },
  {
   "cell_type": "code",
   "execution_count": 85,
   "metadata": {},
   "outputs": [
    {
     "name": "stdout",
     "output_type": "stream",
     "text": [
      "0.18559690671822135\n",
      "Y    0.146518\n",
      "dtype: float64\n"
     ]
    }
   ],
   "source": [
    "# 예측 결과 중 1의 비율을 계산하고, 학습용 데이터의 비율과 비교합니다.\n",
    "print(submission[\"Y\"].mean())\n",
    "print(train_y.mean())"
   ]
  },
  {
   "cell_type": "markdown",
   "metadata": {},
   "source": [
    "//"
   ]
  }
 ],
 "metadata": {
  "kernelspec": {
   "display_name": "Python 3 (ipykernel)",
   "language": "python",
   "name": "python3"
  },
  "language_info": {
   "codemirror_mode": {
    "name": "ipython",
    "version": 3
   },
   "file_extension": ".py",
   "mimetype": "text/x-python",
   "name": "python",
   "nbconvert_exporter": "python",
   "pygments_lexer": "ipython3",
   "version": "3.12.4"
  }
 },
 "nbformat": 4,
 "nbformat_minor": 2
}
