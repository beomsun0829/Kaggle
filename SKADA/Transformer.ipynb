{
 "cells": [
  {
   "cell_type": "code",
   "execution_count": 2,
   "metadata": {},
   "outputs": [],
   "source": [
    "import os\n",
    "import sys\n",
    "import tqdm\n",
    "import random\n",
    "import math\n",
    "\n",
    "from dataclasses import dataclass, asdict\n",
    "\n",
    "import torch\n",
    "import torch.nn as nn\n",
    "import torch.optim as optim\n",
    "from torch.nn import TransformerEncoder, TransformerEncoderLayer\n",
    "from torch.utils.data import DataLoader, Dataset\n",
    "\n",
    "import pandas as pd\n",
    "import numpy as np\n",
    "from matplotlib import pyplot as plt\n",
    "\n",
    "from sklearn.preprocessing import StandardScaler\n",
    "from sklearn.metrics import f1_score\n",
    "\n",
    "import warnings\n",
    "warnings.filterwarnings(\"ignore\")"
   ]
  },
  {
   "cell_type": "markdown",
   "metadata": {},
   "source": [
    "### Settings"
   ]
  },
  {
   "cell_type": "code",
   "execution_count": 58,
   "metadata": {},
   "outputs": [],
   "source": [
    "@dataclass\n",
    "class Config:\n",
    "    FILE_NAME: str = 'Transformer'\n",
    "    ROOT_DIR: str = './data/huge'\n",
    "    SEED: int = 42\n",
    "    \n",
    "    DEVICE: str = 'cuda' if torch.cuda.is_available() else 'cpu'\n",
    "    \n",
    "    BATCH_SIZE: int = 128\n",
    "    EPOCHS: int = 50\n",
    "    LEARNING_RATE: float = 0.00005\n",
    "    SERIES_LENGTH: int = 50\n",
    "    \n",
    "    OUTPUT_DIM: int = 1\n",
    "    MODEL_DIM: int = 128\n",
    "    NUM_HEADS: int = 8\n",
    "    NUM_LAYERS: int = 2\n",
    "    FF_DIM: int = 256\n",
    "    DROPOUT: float = 0.3\n",
    "    \n",
    "CONFIG = Config()"
   ]
  },
  {
   "cell_type": "code",
   "execution_count": 59,
   "metadata": {},
   "outputs": [
    {
     "data": {
      "text/plain": [
       "<torch._C.Generator at 0x1c80a385b50>"
      ]
     },
     "execution_count": 59,
     "metadata": {},
     "output_type": "execute_result"
    }
   ],
   "source": [
    "seed = CONFIG.SEED\n",
    "np.random.seed(seed)\n",
    "torch.manual_seed(seed)"
   ]
  },
  {
   "cell_type": "code",
   "execution_count": 60,
   "metadata": {},
   "outputs": [],
   "source": [
    "import mlflow\n",
    "import mlflow.pytorch\n",
    "\n",
    "mlflow.set_experiment('SKADA')\n",
    "def mlflow_run_decorator(run_name=None):\n",
    "    def decorator(func):\n",
    "        def wrapper(*args, **kwargs):\n",
    "            mlflow.start_run(run_name=run_name)\n",
    "            try:\n",
    "                result = func(*args, **kwargs)\n",
    "                mlflow.set_tag(\"Status\", \"SUCCEESS\")\n",
    "            except Exception as e:\n",
    "                mlflow.log_param(\"Exception\", e)\n",
    "                mlflow.set_tag(\"Status\", \"FAIL\")\n",
    "                raise e\n",
    "            finally:\n",
    "                mlflow.end_run()\n",
    "            return result\n",
    "        return wrapper\n",
    "    return decorator"
   ]
  },
  {
   "cell_type": "markdown",
   "metadata": {},
   "source": [
    "### Data"
   ]
  },
  {
   "cell_type": "code",
   "execution_count": 61,
   "metadata": {},
   "outputs": [],
   "source": [
    "train_df = pd.read_csv(os.path.join(CONFIG.ROOT_DIR, \"train_df.csv\"), index_col='Serial Number')\n",
    "train_y = pd.read_csv(os.path.join(CONFIG.ROOT_DIR, \"train_y.csv\"), index_col='Serial Number')\n",
    "pred_x = pd.read_csv(os.path.join(CONFIG.ROOT_DIR, \"pred_x.csv\"), index_col='Serial Number')"
   ]
  },
  {
   "cell_type": "code",
   "execution_count": 62,
   "metadata": {},
   "outputs": [],
   "source": [
    "train_df['TIMESTAMP'] = pd.to_datetime(train_df['TIMESTAMP'])\n",
    "train_df['TIMESTAMP'] = train_df['TIMESTAMP'].map(lambda t: t.strftime('%Y-%m-%d %H:%M'))\n",
    "\n",
    "pred_x['TIMESTAMP'] = pd.to_datetime(pred_x['TIMESTAMP'])\n",
    "pred_x['TIMESTAMP'] = pred_x['TIMESTAMP'].map(lambda t: t.strftime('%Y-%m-%d %H:%M'))\n",
    "\n",
    "serial_key = list(train_df.columns)[0]\n",
    "date_time_key = list(train_df.columns)[1]\n",
    "feature_keys = list(train_df.columns)[3:-1]\n",
    "target_key = list(train_df.columns)[-1]\n",
    "\n",
    "train_x = train_df.drop(columns='Y')"
   ]
  },
  {
   "cell_type": "code",
   "execution_count": 63,
   "metadata": {
    "scrolled": false
   },
   "outputs": [
    {
     "name": "stdout",
     "output_type": "stream",
     "text": [
      "Train Data 크기 : (555456, 19)\n",
      "Pred Data 크기 : (138880, 19)\n",
      "Train Data의 Serial Number의 unique 값 : 97860\n",
      "Pred Data의 Serial Number의 unique 값 : 72562\n"
     ]
    }
   ],
   "source": [
    "print(\"Train Data 크기 :\", train_x.shape)\n",
    "print(\"Pred Data 크기 :\", pred_x.shape)\n",
    "\n",
    "print(\"Train Data의 Serial Number의 unique 값 :\", len(train_x[serial_key].unique()))\n",
    "print(\"Pred Data의 Serial Number의 unique 값 :\", len(pred_x[serial_key].unique()))"
   ]
  },
  {
   "cell_type": "code",
   "execution_count": 64,
   "metadata": {},
   "outputs": [
    {
     "data": {
      "text/html": [
       "<div>\n",
       "<style scoped>\n",
       "    .dataframe tbody tr th:only-of-type {\n",
       "        vertical-align: middle;\n",
       "    }\n",
       "\n",
       "    .dataframe tbody tr th {\n",
       "        vertical-align: top;\n",
       "    }\n",
       "\n",
       "    .dataframe thead th {\n",
       "        text-align: right;\n",
       "    }\n",
       "</style>\n",
       "<table border=\"1\" class=\"dataframe\">\n",
       "  <thead>\n",
       "    <tr style=\"text-align: right;\">\n",
       "      <th></th>\n",
       "      <th>TIMESTAMP</th>\n",
       "      <th>X1</th>\n",
       "      <th>X2</th>\n",
       "      <th>X3</th>\n",
       "      <th>X4</th>\n",
       "      <th>X5</th>\n",
       "      <th>X6</th>\n",
       "      <th>X7</th>\n",
       "      <th>X8</th>\n",
       "      <th>X9</th>\n",
       "      <th>X10</th>\n",
       "      <th>X11</th>\n",
       "      <th>X12</th>\n",
       "      <th>X13</th>\n",
       "      <th>X14</th>\n",
       "      <th>X15</th>\n",
       "      <th>X16</th>\n",
       "      <th>X17</th>\n",
       "      <th>X18</th>\n",
       "    </tr>\n",
       "    <tr>\n",
       "      <th>Serial Number</th>\n",
       "      <th></th>\n",
       "      <th></th>\n",
       "      <th></th>\n",
       "      <th></th>\n",
       "      <th></th>\n",
       "      <th></th>\n",
       "      <th></th>\n",
       "      <th></th>\n",
       "      <th></th>\n",
       "      <th></th>\n",
       "      <th></th>\n",
       "      <th></th>\n",
       "      <th></th>\n",
       "      <th></th>\n",
       "      <th></th>\n",
       "      <th></th>\n",
       "      <th></th>\n",
       "      <th></th>\n",
       "      <th></th>\n",
       "    </tr>\n",
       "  </thead>\n",
       "  <tbody>\n",
       "    <tr>\n",
       "      <th>19</th>\n",
       "      <td>2020-02-09 16:24</td>\n",
       "      <td>EI83N072710203N8H</td>\n",
       "      <td>22</td>\n",
       "      <td>18</td>\n",
       "      <td>22</td>\n",
       "      <td>16</td>\n",
       "      <td>32</td>\n",
       "      <td>99</td>\n",
       "      <td>91219</td>\n",
       "      <td>43095</td>\n",
       "      <td>2132</td>\n",
       "      <td>0.0</td>\n",
       "      <td>0.0</td>\n",
       "      <td>0.0</td>\n",
       "      <td>0.0</td>\n",
       "      <td>0.0</td>\n",
       "      <td>0.0</td>\n",
       "      <td>0.0</td>\n",
       "      <td>0.0</td>\n",
       "    </tr>\n",
       "    <tr>\n",
       "      <th>19</th>\n",
       "      <td>2020-02-10 16:39</td>\n",
       "      <td>EI83N072710203N8H</td>\n",
       "      <td>22</td>\n",
       "      <td>18</td>\n",
       "      <td>22</td>\n",
       "      <td>16</td>\n",
       "      <td>32</td>\n",
       "      <td>99</td>\n",
       "      <td>91413</td>\n",
       "      <td>43214</td>\n",
       "      <td>2133</td>\n",
       "      <td>24.0</td>\n",
       "      <td>0.0</td>\n",
       "      <td>0.0</td>\n",
       "      <td>0.0</td>\n",
       "      <td>0.0</td>\n",
       "      <td>0.0</td>\n",
       "      <td>0.0</td>\n",
       "      <td>0.0</td>\n",
       "    </tr>\n",
       "    <tr>\n",
       "      <th>19</th>\n",
       "      <td>2020-02-11 16:54</td>\n",
       "      <td>EI83N072710203N8H</td>\n",
       "      <td>22</td>\n",
       "      <td>18</td>\n",
       "      <td>22</td>\n",
       "      <td>16</td>\n",
       "      <td>32</td>\n",
       "      <td>99</td>\n",
       "      <td>91606</td>\n",
       "      <td>43332</td>\n",
       "      <td>2135</td>\n",
       "      <td>49.0</td>\n",
       "      <td>1.0</td>\n",
       "      <td>0.0</td>\n",
       "      <td>0.0</td>\n",
       "      <td>1.0</td>\n",
       "      <td>0.0</td>\n",
       "      <td>0.0</td>\n",
       "      <td>0.0</td>\n",
       "    </tr>\n",
       "  </tbody>\n",
       "</table>\n",
       "</div>"
      ],
      "text/plain": [
       "                      TIMESTAMP                 X1  X2  X3  X4  X5  X6  X7  \\\n",
       "Serial Number                                                                \n",
       "19             2020-02-09 16:24  EI83N072710203N8H  22  18  22  16  32  99   \n",
       "19             2020-02-10 16:39  EI83N072710203N8H  22  18  22  16  32  99   \n",
       "19             2020-02-11 16:54  EI83N072710203N8H  22  18  22  16  32  99   \n",
       "\n",
       "                  X8     X9   X10   X11  X12  X13  X14  X15  X16  X17  X18  \n",
       "Serial Number                                                               \n",
       "19             91219  43095  2132   0.0  0.0  0.0  0.0  0.0  0.0  0.0  0.0  \n",
       "19             91413  43214  2133  24.0  0.0  0.0  0.0  0.0  0.0  0.0  0.0  \n",
       "19             91606  43332  2135  49.0  1.0  0.0  0.0  1.0  0.0  0.0  0.0  "
      ]
     },
     "execution_count": 64,
     "metadata": {},
     "output_type": "execute_result"
    }
   ],
   "source": [
    "train_x.head(3)"
   ]
  },
  {
   "cell_type": "markdown",
   "metadata": {},
   "source": [
    "### PreProcessing"
   ]
  },
  {
   "cell_type": "code",
   "execution_count": 65,
   "metadata": {},
   "outputs": [],
   "source": [
    "train_x.drop(columns='X1', inplace=True)\n",
    "pred_x.drop(columns='X1', inplace=True)"
   ]
  },
  {
   "cell_type": "code",
   "execution_count": 66,
   "metadata": {},
   "outputs": [],
   "source": [
    "scaler = StandardScaler()\n",
    "\n",
    "train_x[feature_keys] = scaler.fit_transform(train_df[feature_keys])\n",
    "pred_x[feature_keys] = scaler.transform(pred_x[feature_keys])"
   ]
  },
  {
   "cell_type": "code",
   "execution_count": 67,
   "metadata": {},
   "outputs": [],
   "source": [
    "train_x_by_serial = [group[1] for group in train_x.groupby(train_x.index)]\n",
    "pred_x_by_serial = [group[1] for group in pred_x.groupby(pred_x.index)]\n",
    "\n",
    "train_x_by_serial = [group.sort_values('TIMESTAMP') for group in train_x_by_serial]\n",
    "pred_x_by_serial = [group.sort_values('TIMESTAMP') for group in pred_x_by_serial]"
   ]
  },
  {
   "cell_type": "markdown",
   "metadata": {},
   "source": [
    "### Data"
   ]
  },
  {
   "cell_type": "code",
   "execution_count": 68,
   "metadata": {},
   "outputs": [],
   "source": [
    "def train_val_test_split(Xs, ys, val_ratio=0.2, test_ratio=0.1):\n",
    "    data_per_label = {}\n",
    "\n",
    "    for x, y in zip(Xs, ys):\n",
    "        label = y\n",
    "        if label not in data_per_label:\n",
    "            data_per_label[label] = []\n",
    "        data_per_label[label].append((x, y))\n",
    "\n",
    "    train, val, test = [], [], []\n",
    "\n",
    "    for label in data_per_label:\n",
    "        data = data_per_label[label]\n",
    "        n_test = int(len(data) * test_ratio)\n",
    "        n_val = int(len(data) * val_ratio)\n",
    "        test += data[:n_test]\n",
    "        val += data[n_test:n_test+n_val]\n",
    "        train += data[n_test+n_val:]\n",
    "\n",
    "    X_train, y_train = zip(*train)\n",
    "    X_val, y_val = zip(*val)\n",
    "    X_test, y_test = zip(*test)\n",
    "\n",
    "    return X_train, X_val, X_test, y_train, y_val, y_test"
   ]
  },
  {
   "cell_type": "code",
   "execution_count": 69,
   "metadata": {},
   "outputs": [
    {
     "name": "stdout",
     "output_type": "stream",
     "text": [
      "Train Data의 개수 : 5791\n",
      "Validation Data의 개수 : 1654\n",
      "Test Data의 개수 : 827\n"
     ]
    }
   ],
   "source": [
    "X_train, X_val, X_test, y_train, y_val, y_test = train_val_test_split(train_x_by_serial, train_y['Y'])\n",
    "\n",
    "X_train = [x.drop(columns='TIMESTAMP') for x in X_train]\n",
    "X_val = [x.drop(columns='TIMESTAMP') for x in X_val]\n",
    "X_test = [x.drop(columns='TIMESTAMP') for x in X_test]\n",
    "\n",
    "print(\"Train Data의 개수 :\", len(X_train))\n",
    "print(\"Validation Data의 개수 :\", len(X_val))\n",
    "print(\"Test Data의 개수 :\", len(X_test))"
   ]
  },
  {
   "cell_type": "code",
   "execution_count": 70,
   "metadata": {},
   "outputs": [],
   "source": [
    "def align_data(data, series_length):\n",
    "    data_features = [x[feature_keys] for x in data]\n",
    "    length_aligned_X = []\n",
    "    \n",
    "    for x in data_features:\n",
    "        if len(x) >= series_length:\n",
    "            length_aligned_X.append(x[-series_length:])\n",
    "        else:\n",
    "            length_aligned_X.append(x.append([x.iloc[-1]] * (series_length - len(x))))\n",
    "    return np.array(length_aligned_X)"
   ]
  },
  {
   "cell_type": "code",
   "execution_count": 71,
   "metadata": {},
   "outputs": [],
   "source": [
    "X_train = align_data(X_train, CONFIG.SERIES_LENGTH)\n",
    "X_val = align_data(X_val, CONFIG.SERIES_LENGTH)\n",
    "X_test = align_data(X_test, CONFIG.SERIES_LENGTH)"
   ]
  },
  {
   "cell_type": "code",
   "execution_count": 72,
   "metadata": {},
   "outputs": [],
   "source": [
    "y_train = np.array(y_train)\n",
    "y_val = np.array(y_val)\n",
    "y_test = np.array(y_test)"
   ]
  },
  {
   "cell_type": "markdown",
   "metadata": {},
   "source": [
    "### Dataset"
   ]
  },
  {
   "cell_type": "code",
   "execution_count": 73,
   "metadata": {},
   "outputs": [],
   "source": [
    "class TimeSeriesDataset(Dataset):\n",
    "    def __init__(self, X, y):\n",
    "        self.X = X\n",
    "        self.y = y\n",
    "    \n",
    "    def __len__(self):\n",
    "        return len(self.X)\n",
    "    \n",
    "    def __getitem__(self, idx):\n",
    "        return torch.tensor(self.X[idx], dtype=torch.float32), torch.tensor(self.y[idx], dtype=torch.float32)"
   ]
  },
  {
   "cell_type": "code",
   "execution_count": 74,
   "metadata": {},
   "outputs": [],
   "source": [
    "train_dataset = TimeSeriesDataset(X_train, y_train)\n",
    "val_dataset = TimeSeriesDataset(X_val, y_val)\n",
    "test_dataset = TimeSeriesDataset(X_test, y_test)"
   ]
  },
  {
   "cell_type": "code",
   "execution_count": 75,
   "metadata": {},
   "outputs": [],
   "source": [
    "train_loader = DataLoader(train_dataset, batch_size=CONFIG.BATCH_SIZE, shuffle=True)\n",
    "val_loader = DataLoader(val_dataset, batch_size=CONFIG.BATCH_SIZE, shuffle=False)\n",
    "test_loader = DataLoader(test_dataset, batch_size=CONFIG.BATCH_SIZE, shuffle=False)"
   ]
  },
  {
   "cell_type": "markdown",
   "metadata": {},
   "source": [
    "### Model"
   ]
  },
  {
   "cell_type": "code",
   "execution_count": 76,
   "metadata": {},
   "outputs": [],
   "source": [
    "class PositionalEncoding(nn.Module):\n",
    "    def __init__(self, d_model: int, dropout: float = 0.1, max_len: int = 5000):\n",
    "        super().__init__()\n",
    "        self.dropout = nn.Dropout(p=dropout)\n",
    "\n",
    "        position = torch.arange(max_len).unsqueeze(1)\n",
    "        div_term = torch.exp(torch.arange(0, d_model, 2) * (-math.log(10000.0) / d_model))\n",
    "        pe = torch.zeros(max_len, 1, d_model)\n",
    "        pe[:, 0, 0::2] = torch.sin(position * div_term)\n",
    "        pe[:, 0, 1::2] = torch.cos(position * div_term)\n",
    "        self.register_buffer('pe', pe)\n",
    "\n",
    "    def forward(self, x: torch.Tensor) -> torch.Tensor:\n",
    "        x = x + self.pe[:x.size(0)]\n",
    "        return self.dropout(x)"
   ]
  },
  {
   "cell_type": "code",
   "execution_count": 77,
   "metadata": {},
   "outputs": [],
   "source": [
    "class TransformerModel(nn.Module):\n",
    "    def __init__(self, input_dim, model_dim, num_heads, num_layers, ff_dim, output_dim, dropout):\n",
    "        super(TransformerModel, self).__init__()\n",
    "        self.model_dim = model_dim\n",
    "        self.embedding = nn.Linear(input_dim, model_dim)\n",
    "        self.pos_encoder = PositionalEncoding(model_dim, dropout)\n",
    "        encoder_layers = TransformerEncoderLayer(model_dim, num_heads, ff_dim, dropout)\n",
    "        self.transformer_encoder = TransformerEncoder(encoder_layers, num_layers)\n",
    "        self.fc = nn.Linear(model_dim, output_dim)\n",
    "        self.sigmoid = nn.Sigmoid()\n",
    "\n",
    "    def forward(self, x, src_mask):\n",
    "        x = self.embedding(x) * math.sqrt(self.model_dim)\n",
    "        x = self.pos_encoder(x)\n",
    "        x = x.permute(1, 0, 2)  # Transformer expects (seq_len, batch_size, model_dim)\n",
    "        output = self.transformer_encoder(x, src_mask)\n",
    "        output = output.permute(1, 0, 2)  # Back to (batch_size, seq_len, model_dim)\n",
    "        output = self.fc(output[:, -1, :])\n",
    "        return self.sigmoid(output)\n",
    "\n",
    "def generate_square_subsequent_mask(sz: int):\n",
    "    return torch.triu(torch.ones(sz, sz) * float('-inf'), diagonal=1)"
   ]
  },
  {
   "cell_type": "code",
   "execution_count": 78,
   "metadata": {},
   "outputs": [],
   "source": [
    "input_dim = len(feature_keys)\n",
    "model = TransformerModel(input_dim, CONFIG.MODEL_DIM, CONFIG.NUM_HEADS, CONFIG.NUM_LAYERS, CONFIG.FF_DIM, CONFIG.OUTPUT_DIM, CONFIG.DROPOUT)\n",
    "model = model.to(CONFIG.DEVICE)"
   ]
  },
  {
   "cell_type": "code",
   "execution_count": 79,
   "metadata": {},
   "outputs": [],
   "source": [
    "criterion = nn.BCELoss()\n",
    "optimizer = optim.Adam(model.parameters(), lr=CONFIG.LEARNING_RATE)"
   ]
  },
  {
   "cell_type": "markdown",
   "metadata": {},
   "source": [
    "### Training"
   ]
  },
  {
   "cell_type": "code",
   "execution_count": 80,
   "metadata": {},
   "outputs": [],
   "source": [
    "@mlflow_run_decorator(run_name=CONFIG.FILE_NAME)\n",
    "def train_model(model, train_loader, val_loader, criterion, optimizer, num_epochs):\n",
    "    mlflow.log_params(asdict(CONFIG))\n",
    "    \n",
    "    device = CONFIG.DEVICE\n",
    "    model.to(device)\n",
    "\n",
    "    for epoch in range(num_epochs):\n",
    "        model.train()\n",
    "        train_loss = 0.0\n",
    "        \n",
    "        for inputs, labels in train_loader:\n",
    "            inputs, labels = inputs.to(device), labels.to(device)\n",
    "            src_mask = generate_square_subsequent_mask(inputs.size(1))\n",
    "            \n",
    "            outputs = model(inputs, src_mask)\n",
    "            loss = criterion(outputs.squeeze(), labels)\n",
    "            \n",
    "            optimizer.zero_grad()\n",
    "            loss.backward()\n",
    "            optimizer.step()\n",
    "            \n",
    "            train_loss += loss.item() * inputs.size(0)\n",
    "        \n",
    "        val_loss = 0.0\n",
    "        model.eval()\n",
    "        all_preds = []\n",
    "        \n",
    "        with torch.no_grad():\n",
    "            for inputs, labels in val_loader:\n",
    "                inputs, labels = inputs.to(device), labels.to(device)\n",
    "                src_mask = generate_square_subsequent_mask(inputs.size(1))\n",
    "                \n",
    "                outputs = model(inputs, src_mask)\n",
    "                loss = criterion(outputs.squeeze(), labels)\n",
    "                \n",
    "                val_loss += loss.item() * inputs.size(0)\n",
    "                all_preds.extend(outputs.squeeze().cpu().numpy())\n",
    "        \n",
    "        train_loss /= len(train_loader.dataset)\n",
    "        val_loss /= len(val_loader.dataset)\n",
    "        \n",
    "        val_preds = (np.array(all_preds) > 0.5).astype(int)\n",
    "        f1 = f1_score(y_val, val_preds, average='macro')\n",
    "        \n",
    "        print(f'Epoch {epoch+1}/{num_epochs}, Train Loss: {train_loss:.4f}, Val Loss: {val_loss:.4f}, Val F1 Score: {f1:.4f}')\n",
    "        mlflow.log_metric('Train Loss', train_loss, step=epoch)\n",
    "        mlflow.log_metric('Val Loss', val_loss, step=epoch)\n",
    "        mlflow.log_metric('Val F1 Score', f1, step=epoch)\n",
    "    \n",
    "    return model"
   ]
  },
  {
   "cell_type": "code",
   "execution_count": 81,
   "metadata": {},
   "outputs": [
    {
     "name": "stdout",
     "output_type": "stream",
     "text": [
      "Epoch 1/50, Train Loss: 0.4919, Val Loss: 0.2187, Val F1 Score: 0.8796\n",
      "Epoch 2/50, Train Loss: 0.2174, Val Loss: 0.1595, Val F1 Score: 0.8820\n",
      "Epoch 3/50, Train Loss: 0.1596, Val Loss: 0.1535, Val F1 Score: 0.8687\n",
      "Epoch 4/50, Train Loss: 0.1369, Val Loss: 0.1530, Val F1 Score: 0.8689\n",
      "Epoch 5/50, Train Loss: 0.1286, Val Loss: 0.1575, Val F1 Score: 0.8659\n",
      "Epoch 6/50, Train Loss: 0.1176, Val Loss: 0.1533, Val F1 Score: 0.8715\n",
      "Epoch 7/50, Train Loss: 0.1148, Val Loss: 0.1566, Val F1 Score: 0.8724\n",
      "Epoch 8/50, Train Loss: 0.1105, Val Loss: 0.1527, Val F1 Score: 0.8735\n",
      "Epoch 9/50, Train Loss: 0.1110, Val Loss: 0.1483, Val F1 Score: 0.8783\n",
      "Epoch 10/50, Train Loss: 0.1066, Val Loss: 0.1523, Val F1 Score: 0.8771\n",
      "Epoch 11/50, Train Loss: 0.1025, Val Loss: 0.1505, Val F1 Score: 0.8798\n",
      "Epoch 12/50, Train Loss: 0.1020, Val Loss: 0.1484, Val F1 Score: 0.8856\n",
      "Epoch 13/50, Train Loss: 0.0974, Val Loss: 0.1534, Val F1 Score: 0.8815\n",
      "Epoch 14/50, Train Loss: 0.0952, Val Loss: 0.1368, Val F1 Score: 0.8937\n",
      "Epoch 15/50, Train Loss: 0.0937, Val Loss: 0.1436, Val F1 Score: 0.8908\n",
      "Epoch 16/50, Train Loss: 0.0958, Val Loss: 0.1633, Val F1 Score: 0.8814\n",
      "Epoch 17/50, Train Loss: 0.0918, Val Loss: 0.1393, Val F1 Score: 0.8967\n",
      "Epoch 18/50, Train Loss: 0.0885, Val Loss: 0.1502, Val F1 Score: 0.8879\n",
      "Epoch 19/50, Train Loss: 0.0872, Val Loss: 0.1498, Val F1 Score: 0.8892\n",
      "Epoch 20/50, Train Loss: 0.0884, Val Loss: 0.1395, Val F1 Score: 0.8987\n",
      "Epoch 21/50, Train Loss: 0.0854, Val Loss: 0.1504, Val F1 Score: 0.8921\n",
      "Epoch 22/50, Train Loss: 0.0837, Val Loss: 0.1469, Val F1 Score: 0.8941\n",
      "Epoch 23/50, Train Loss: 0.0851, Val Loss: 0.1451, Val F1 Score: 0.8947\n",
      "Epoch 24/50, Train Loss: 0.0836, Val Loss: 0.1510, Val F1 Score: 0.8901\n",
      "Epoch 25/50, Train Loss: 0.0799, Val Loss: 0.1306, Val F1 Score: 0.9004\n",
      "Epoch 26/50, Train Loss: 0.0806, Val Loss: 0.1378, Val F1 Score: 0.9013\n",
      "Epoch 27/50, Train Loss: 0.0801, Val Loss: 0.1317, Val F1 Score: 0.9046\n",
      "Epoch 28/50, Train Loss: 0.0782, Val Loss: 0.1332, Val F1 Score: 0.9020\n",
      "Epoch 29/50, Train Loss: 0.0759, Val Loss: 0.1463, Val F1 Score: 0.8996\n",
      "Epoch 30/50, Train Loss: 0.0751, Val Loss: 0.1390, Val F1 Score: 0.9043\n",
      "Epoch 31/50, Train Loss: 0.0739, Val Loss: 0.1371, Val F1 Score: 0.9027\n",
      "Epoch 32/50, Train Loss: 0.0729, Val Loss: 0.1370, Val F1 Score: 0.9067\n",
      "Epoch 33/50, Train Loss: 0.0730, Val Loss: 0.1233, Val F1 Score: 0.9085\n",
      "Epoch 34/50, Train Loss: 0.0743, Val Loss: 0.1367, Val F1 Score: 0.9037\n",
      "Epoch 35/50, Train Loss: 0.0740, Val Loss: 0.1180, Val F1 Score: 0.9109\n",
      "Epoch 36/50, Train Loss: 0.0695, Val Loss: 0.1250, Val F1 Score: 0.9085\n",
      "Epoch 37/50, Train Loss: 0.0688, Val Loss: 0.1244, Val F1 Score: 0.9072\n",
      "Epoch 38/50, Train Loss: 0.0684, Val Loss: 0.1209, Val F1 Score: 0.9109\n",
      "Epoch 39/50, Train Loss: 0.0679, Val Loss: 0.1238, Val F1 Score: 0.9108\n",
      "Epoch 40/50, Train Loss: 0.0647, Val Loss: 0.1262, Val F1 Score: 0.9130\n",
      "Epoch 41/50, Train Loss: 0.0654, Val Loss: 0.1199, Val F1 Score: 0.9166\n",
      "Epoch 42/50, Train Loss: 0.0673, Val Loss: 0.1178, Val F1 Score: 0.9164\n",
      "Epoch 43/50, Train Loss: 0.0625, Val Loss: 0.1355, Val F1 Score: 0.9037\n",
      "Epoch 44/50, Train Loss: 0.0646, Val Loss: 0.1127, Val F1 Score: 0.9226\n",
      "Epoch 45/50, Train Loss: 0.0634, Val Loss: 0.1359, Val F1 Score: 0.9087\n",
      "Epoch 46/50, Train Loss: 0.0643, Val Loss: 0.1280, Val F1 Score: 0.9129\n",
      "Epoch 47/50, Train Loss: 0.0613, Val Loss: 0.1245, Val F1 Score: 0.9150\n",
      "Epoch 48/50, Train Loss: 0.0610, Val Loss: 0.1156, Val F1 Score: 0.9204\n",
      "Epoch 49/50, Train Loss: 0.0628, Val Loss: 0.1287, Val F1 Score: 0.9160\n",
      "Epoch 50/50, Train Loss: 0.0613, Val Loss: 0.1224, Val F1 Score: 0.9180\n"
     ]
    }
   ],
   "source": [
    "model = train_model(model, train_loader, val_loader, criterion, optimizer, CONFIG.EPOCHS)"
   ]
  },
  {
   "cell_type": "code",
   "execution_count": 82,
   "metadata": {},
   "outputs": [
    {
     "name": "stdout",
     "output_type": "stream",
     "text": [
      "Test 데이터에 대한 F1 Score: 0.87192562\n"
     ]
    }
   ],
   "source": [
    "model.eval()\n",
    "test_preds = []\n",
    "with torch.no_grad():\n",
    "    for inputs, labels in test_loader:\n",
    "        inputs = inputs.to(CONFIG.DEVICE)\n",
    "        src_mask = generate_square_subsequent_mask(inputs.size(1))\n",
    "        outputs = model(inputs, src_mask)\n",
    "        \n",
    "        test_preds.extend(outputs.squeeze().cpu().numpy())\n",
    "\n",
    "test_preds = (np.array(test_preds) > 0.5).astype(int)\n",
    "f1 = f1_score(y_test, test_preds, average='macro')\n",
    "print(f'Test 데이터에 대한 F1 Score: {f1:.8f}')"
   ]
  },
  {
   "cell_type": "markdown",
   "metadata": {},
   "source": [
    "### Pred"
   ]
  },
  {
   "cell_type": "code",
   "execution_count": null,
   "metadata": {},
   "outputs": [],
   "source": [
    "submission = pd.read_csv(os.path.join(CONFIG.ROOT_DIR, \"test_y.csv\"), index_col='Serial Number')\n",
    "\n",
    "y_test_pred = clf.predict(X_test)\n",
    "submission[\"Y\"] = y_test_pred\n",
    "submission.to_csv(\"submission.csv\", index_label='Serial Number')"
   ]
  },
  {
   "cell_type": "code",
   "execution_count": null,
   "metadata": {},
   "outputs": [],
   "source": [
    "submission = pd.read_csv(\"submission.csv\", index_col='Serial Number')\n",
    "submission"
   ]
  },
  {
   "cell_type": "code",
   "execution_count": null,
   "metadata": {
    "scrolled": true
   },
   "outputs": [],
   "source": [
    "print(submission[\"Y\"].mean())\n",
    "print(train_y.mean())"
   ]
  },
  {
   "cell_type": "markdown",
   "metadata": {},
   "source": [
    "Public Score : 0.8130563798219584"
   ]
  }
 ],
 "metadata": {
  "kernelspec": {
   "display_name": "Python 3 (ipykernel)",
   "language": "python",
   "name": "python3"
  },
  "language_info": {
   "codemirror_mode": {
    "name": "ipython",
    "version": 3
   },
   "file_extension": ".py",
   "mimetype": "text/x-python",
   "name": "python",
   "nbconvert_exporter": "python",
   "pygments_lexer": "ipython3",
   "version": "3.12.4"
  }
 },
 "nbformat": 4,
 "nbformat_minor": 2
}
